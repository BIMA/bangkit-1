{
  "nbformat": 4,
  "nbformat_minor": 0,
  "metadata": {
    "kernelspec": {
      "language": "python",
      "display_name": "Python 3",
      "name": "python3"
    },
    "language_info": {
      "pygments_lexer": "ipython3",
      "nbconvert_exporter": "python",
      "version": "3.6.4",
      "file_extension": ".py",
      "codemirror_mode": {
        "name": "ipython",
        "version": 3
      },
      "name": "python",
      "mimetype": "text/x-python"
    },
    "colab": {
      "name": "assignment6 - feature selection.ipynb",
      "provenance": [],
      "collapsed_sections": []
    }
  },
  "cells": [
    {
      "cell_type": "code",
      "metadata": {
        "_uuid": "8f2839f25d086af736a60e9eeb907d3b93b6e0e5",
        "_cell_guid": "b1076dfc-b9ad-4769-8c92-a6c4dae69d19",
        "trusted": true,
        "id": "ZxJc1EXoUA_O",
        "colab_type": "code",
        "outputId": "c5b69214-7917-4154-fe8b-f4fb761e4aa3",
        "colab": {
          "base_uri": "https://localhost:8080/",
          "height": 72
        }
      },
      "source": [
        "import numpy as np \n",
        "import pandas as pd \n",
        "import seaborn as sns\n",
        "import matplotlib.pyplot as plt\n",
        "from scipy import stats\n",
        "from math import isnan\n",
        "from sklearn.feature_selection import SelectKBest\n",
        "from sklearn.feature_selection import f_classif\n",
        "from sklearn.model_selection import train_test_split\n",
        "from sklearn.preprocessing import LabelEncoder\n",
        "from sklearn.preprocessing import OrdinalEncoder\n",
        "from sklearn.feature_selection import chi2\n",
        "from sklearn.feature_selection import mutual_info_classif\n",
        "from matplotlib import pyplot"
      ],
      "execution_count": 1,
      "outputs": [
        {
          "output_type": "stream",
          "text": [
            "/usr/local/lib/python3.6/dist-packages/statsmodels/tools/_testing.py:19: FutureWarning: pandas.util.testing is deprecated. Use the functions in the public API at pandas.testing instead.\n",
            "  import pandas.util.testing as tm\n"
          ],
          "name": "stderr"
        }
      ]
    },
    {
      "cell_type": "code",
      "metadata": {
        "id": "9lduvWeowOgC",
        "colab_type": "code",
        "outputId": "e8481ea9-12ba-43a0-f906-fd411c63088f",
        "colab": {
          "base_uri": "https://localhost:8080/",
          "height": 34
        }
      },
      "source": [
        "import tensorflow as tf\n",
        "\n",
        "from tensorflow import keras\n",
        "from tensorflow import feature_column\n",
        "from tensorflow.keras import layers\n",
        "\n",
        "print(tf.__version__)"
      ],
      "execution_count": 2,
      "outputs": [
        {
          "output_type": "stream",
          "text": [
            "2.2.0-rc3\n"
          ],
          "name": "stdout"
        }
      ]
    },
    {
      "cell_type": "code",
      "metadata": {
        "id": "omnm5_lX1Wl4",
        "colab_type": "code",
        "outputId": "0b2a7ea3-e3eb-4111-9425-34f5340ff651",
        "colab": {
          "base_uri": "https://localhost:8080/",
          "height": 208
        }
      },
      "source": [
        "# df = pd.read_csv(root_path + 'mobilbekas.csv')\n",
        "\n",
        "!wget https://raw.githubusercontent.com/bangkitjkt/bangkit-1/master/data/mobilbekas.csv\n",
        "df = pd.read_csv('mobilbekas.csv')"
      ],
      "execution_count": 3,
      "outputs": [
        {
          "output_type": "stream",
          "text": [
            "--2020-04-19 16:42:08--  https://raw.githubusercontent.com/bangkitjkt/bangkit-1/master/data/mobilbekas.csv\n",
            "Resolving raw.githubusercontent.com (raw.githubusercontent.com)... 151.101.0.133, 151.101.64.133, 151.101.128.133, ...\n",
            "Connecting to raw.githubusercontent.com (raw.githubusercontent.com)|151.101.0.133|:443... connected.\n",
            "HTTP request sent, awaiting response... 200 OK\n",
            "Length: 2588934 (2.5M) [text/plain]\n",
            "Saving to: ‘mobilbekas.csv.10’\n",
            "\n",
            "\rmobilbekas.csv.10     0%[                    ]       0  --.-KB/s               \rmobilbekas.csv.10   100%[===================>]   2.47M  15.1MB/s    in 0.2s    \n",
            "\n",
            "2020-04-19 16:42:08 (15.1 MB/s) - ‘mobilbekas.csv.10’ saved [2588934/2588934]\n",
            "\n"
          ],
          "name": "stdout"
        }
      ]
    },
    {
      "cell_type": "code",
      "metadata": {
        "id": "-4AXAAJUacqX",
        "colab_type": "code",
        "outputId": "685db723-f034-4fad-f2c8-f68a1af41fb0",
        "colab": {
          "base_uri": "https://localhost:8080/",
          "height": 34
        }
      },
      "source": [
        "df.shape"
      ],
      "execution_count": 4,
      "outputs": [
        {
          "output_type": "execute_result",
          "data": {
            "text/plain": [
              "(14657, 16)"
            ]
          },
          "metadata": {
            "tags": []
          },
          "execution_count": 4
        }
      ]
    },
    {
      "cell_type": "code",
      "metadata": {
        "id": "_Lw8B_14ZJHg",
        "colab_type": "code",
        "outputId": "fb57f3b7-b164-4699-d5cb-121ea1c793bf",
        "colab": {
          "base_uri": "https://localhost:8080/",
          "height": 591
        }
      },
      "source": [
        "df.head()"
      ],
      "execution_count": 5,
      "outputs": [
        {
          "output_type": "execute_result",
          "data": {
            "text/html": [
              "<div>\n",
              "<style scoped>\n",
              "    .dataframe tbody tr th:only-of-type {\n",
              "        vertical-align: middle;\n",
              "    }\n",
              "\n",
              "    .dataframe tbody tr th {\n",
              "        vertical-align: top;\n",
              "    }\n",
              "\n",
              "    .dataframe thead th {\n",
              "        text-align: right;\n",
              "    }\n",
              "</style>\n",
              "<table border=\"1\" class=\"dataframe\">\n",
              "  <thead>\n",
              "    <tr style=\"text-align: right;\">\n",
              "      <th></th>\n",
              "      <th>Harga</th>\n",
              "      <th>Lokasi</th>\n",
              "      <th>Penjual</th>\n",
              "      <th>Merek</th>\n",
              "      <th>Model</th>\n",
              "      <th>Varian</th>\n",
              "      <th>Tahun</th>\n",
              "      <th>Jarak tempuh</th>\n",
              "      <th>Tipe bahan bakar</th>\n",
              "      <th>Warna</th>\n",
              "      <th>Transmisi</th>\n",
              "      <th>Tipe bodi</th>\n",
              "      <th>Kapasitas mesin</th>\n",
              "      <th>Tipe Penjual</th>\n",
              "      <th>Sistem Penggerak</th>\n",
              "      <th>Nama Bursa Mobil</th>\n",
              "    </tr>\n",
              "  </thead>\n",
              "  <tbody>\n",
              "    <tr>\n",
              "      <th>0</th>\n",
              "      <td>155000792</td>\n",
              "      <td>Ngaliyan, Semarang Kota, Jawa Tengah</td>\n",
              "      <td>Tegar Ranisdya</td>\n",
              "      <td>BMW</td>\n",
              "      <td>Serie 3</td>\n",
              "      <td>320i Business Edition</td>\n",
              "      <td>2006</td>\n",
              "      <td>85.000-90.000 km</td>\n",
              "      <td>Bensin</td>\n",
              "      <td>Hitam</td>\n",
              "      <td>Automatic</td>\n",
              "      <td>Sedan</td>\n",
              "      <td>&gt;1.500 - 2.000 cc</td>\n",
              "      <td>Individu</td>\n",
              "      <td>NaN</td>\n",
              "      <td>NaN</td>\n",
              "    </tr>\n",
              "    <tr>\n",
              "      <th>1</th>\n",
              "      <td>56000000</td>\n",
              "      <td>Medan Johor, Medan Kota, Sumatra Utara</td>\n",
              "      <td>Anda Syahwilhanto</td>\n",
              "      <td>Hyundai</td>\n",
              "      <td>Getz</td>\n",
              "      <td>Lain-lain</td>\n",
              "      <td>2005</td>\n",
              "      <td>0-5.000 km</td>\n",
              "      <td>Bensin</td>\n",
              "      <td>Biru</td>\n",
              "      <td>Manual</td>\n",
              "      <td>Hatchback</td>\n",
              "      <td>&gt;1.000 - 1.500 cc</td>\n",
              "      <td>Individu</td>\n",
              "      <td>Front Wheel Drive (FWD)</td>\n",
              "      <td>NaN</td>\n",
              "    </tr>\n",
              "    <tr>\n",
              "      <th>2</th>\n",
              "      <td>120000000</td>\n",
              "      <td>Ilir Timur I, Palembang Kota, Sumatra Selatan</td>\n",
              "      <td>alvianistm</td>\n",
              "      <td>Isuzu</td>\n",
              "      <td>Grand touring</td>\n",
              "      <td>Lain-lain</td>\n",
              "      <td>2004</td>\n",
              "      <td>10.000-15.000 km</td>\n",
              "      <td>Diesel</td>\n",
              "      <td>Silver</td>\n",
              "      <td>Manual</td>\n",
              "      <td>NaN</td>\n",
              "      <td>NaN</td>\n",
              "      <td>Individu</td>\n",
              "      <td>NaN</td>\n",
              "      <td>NaN</td>\n",
              "    </tr>\n",
              "    <tr>\n",
              "      <th>3</th>\n",
              "      <td>169000000</td>\n",
              "      <td>Balerejo, Madiun Kab., Jawa Timur</td>\n",
              "      <td>PUSAT MOBIL BEKAS SIDOARJO</td>\n",
              "      <td>Isuzu</td>\n",
              "      <td>Grand touring</td>\n",
              "      <td>Lain-lain</td>\n",
              "      <td>2010</td>\n",
              "      <td>100.000-105.000 km</td>\n",
              "      <td>Diesel</td>\n",
              "      <td>Coklat</td>\n",
              "      <td>Manual</td>\n",
              "      <td>Minibus</td>\n",
              "      <td>&gt;2.000 - 3.000 cc</td>\n",
              "      <td>Diler</td>\n",
              "      <td>NaN</td>\n",
              "      <td>NaN</td>\n",
              "    </tr>\n",
              "    <tr>\n",
              "      <th>4</th>\n",
              "      <td>120000000</td>\n",
              "      <td>Kemayoran, Jakarta Pusat, Jakarta D.K.I.</td>\n",
              "      <td>Kristian</td>\n",
              "      <td>Proton</td>\n",
              "      <td>Lain-lain</td>\n",
              "      <td>Lain-lain</td>\n",
              "      <td>2010</td>\n",
              "      <td>75.000-80.000 km</td>\n",
              "      <td>Bensin</td>\n",
              "      <td>Oranye</td>\n",
              "      <td>Manual</td>\n",
              "      <td>Pick-up</td>\n",
              "      <td>&gt;1.500 - 2.000 cc</td>\n",
              "      <td>NaN</td>\n",
              "      <td>Rear Wheel Drive (RWD)</td>\n",
              "      <td>Pasar Mobil Kemayoran</td>\n",
              "    </tr>\n",
              "  </tbody>\n",
              "</table>\n",
              "</div>"
            ],
            "text/plain": [
              "       Harga  ...       Nama Bursa Mobil\n",
              "0  155000792  ...                    NaN\n",
              "1   56000000  ...                    NaN\n",
              "2  120000000  ...                    NaN\n",
              "3  169000000  ...                    NaN\n",
              "4  120000000  ...  Pasar Mobil Kemayoran\n",
              "\n",
              "[5 rows x 16 columns]"
            ]
          },
          "metadata": {
            "tags": []
          },
          "execution_count": 5
        }
      ]
    },
    {
      "cell_type": "code",
      "metadata": {
        "id": "hcyagNlZzMV_",
        "colab_type": "code",
        "colab": {
          "base_uri": "https://localhost:8080/",
          "height": 278
        },
        "outputId": "ceac5c3b-63a0-48f4-cc62-829856dc6b5f"
      },
      "source": [
        "df.values"
      ],
      "execution_count": 6,
      "outputs": [
        {
          "output_type": "execute_result",
          "data": {
            "text/plain": [
              "array([[155000792, 'Ngaliyan, Semarang Kota, Jawa Tengah',\n",
              "        'Tegar Ranisdya', ..., 'Individu', nan, nan],\n",
              "       [56000000, 'Medan Johor, Medan Kota, Sumatra Utara',\n",
              "        'Anda Syahwilhanto', ..., 'Individu', 'Front Wheel Drive (FWD)',\n",
              "        nan],\n",
              "       [120000000, 'Ilir Timur I, Palembang Kota, Sumatra Selatan',\n",
              "        'alvianistm', ..., 'Individu', nan, nan],\n",
              "       ...,\n",
              "       [750000000, 'Serpong, Tangerang Selatan Kota, Banten',\n",
              "        'Michael Yahya', ..., 'Diler', 'Front Wheel Drive (FWD)',\n",
              "        'Bursa Mobil Summarecon Serpong'],\n",
              "       [450000000, 'Kemayoran, Jakarta Pusat, Jakarta D.K.I.', 'Samjo',\n",
              "        ..., 'Individu', 'Front Wheel Drive (FWD)', nan],\n",
              "       [456650000, 'Kramat Jati, Jakarta Timur, Jakarta D.K.I.',\n",
              "        'Eggi Dawam H', ..., nan, nan, nan]], dtype=object)"
            ]
          },
          "metadata": {
            "tags": []
          },
          "execution_count": 6
        }
      ]
    },
    {
      "cell_type": "code",
      "metadata": {
        "id": "Cwr8KzIfi77u",
        "colab_type": "code",
        "outputId": "346bdf92-f135-45ad-8e7a-d5e994883dbb",
        "colab": {
          "base_uri": "https://localhost:8080/",
          "height": 416
        }
      },
      "source": [
        "df.info()"
      ],
      "execution_count": 7,
      "outputs": [
        {
          "output_type": "stream",
          "text": [
            "<class 'pandas.core.frame.DataFrame'>\n",
            "RangeIndex: 14657 entries, 0 to 14656\n",
            "Data columns (total 16 columns):\n",
            " #   Column            Non-Null Count  Dtype \n",
            "---  ------            --------------  ----- \n",
            " 0   Harga             14657 non-null  int64 \n",
            " 1   Lokasi            14657 non-null  object\n",
            " 2   Penjual           14657 non-null  object\n",
            " 3   Merek             14657 non-null  object\n",
            " 4   Model             14657 non-null  object\n",
            " 5   Varian            13941 non-null  object\n",
            " 6   Tahun             14657 non-null  object\n",
            " 7   Jarak tempuh      14657 non-null  object\n",
            " 8   Tipe bahan bakar  14657 non-null  object\n",
            " 9   Warna             14657 non-null  object\n",
            " 10  Transmisi         14657 non-null  object\n",
            " 11  Tipe bodi         12491 non-null  object\n",
            " 12  Kapasitas mesin   12859 non-null  object\n",
            " 13  Tipe Penjual      12175 non-null  object\n",
            " 14  Sistem Penggerak  11488 non-null  object\n",
            " 15  Nama Bursa Mobil  2547 non-null   object\n",
            "dtypes: int64(1), object(15)\n",
            "memory usage: 1.8+ MB\n"
          ],
          "name": "stdout"
        }
      ]
    },
    {
      "cell_type": "code",
      "metadata": {
        "id": "cFzcJbHRjNDQ",
        "colab_type": "code",
        "outputId": "516c919d-306a-4881-ca28-191b86ce5eac",
        "colab": {
          "base_uri": "https://localhost:8080/",
          "height": 312
        }
      },
      "source": [
        "df.isnull().sum()"
      ],
      "execution_count": 8,
      "outputs": [
        {
          "output_type": "execute_result",
          "data": {
            "text/plain": [
              "Harga                   0\n",
              "Lokasi                  0\n",
              "Penjual                 0\n",
              "Merek                   0\n",
              "Model                   0\n",
              "Varian                716\n",
              "Tahun                   0\n",
              "Jarak tempuh            0\n",
              "Tipe bahan bakar        0\n",
              "Warna                   0\n",
              "Transmisi               0\n",
              "Tipe bodi            2166\n",
              "Kapasitas mesin      1798\n",
              "Tipe Penjual         2482\n",
              "Sistem Penggerak     3169\n",
              "Nama Bursa Mobil    12110\n",
              "dtype: int64"
            ]
          },
          "metadata": {
            "tags": []
          },
          "execution_count": 8
        }
      ]
    },
    {
      "cell_type": "code",
      "metadata": {
        "id": "7AN6WuDIZcqi",
        "colab_type": "code",
        "outputId": "1f78d3ef-f3d4-4e20-e8d3-5b51ee4dbc79",
        "colab": {
          "base_uri": "https://localhost:8080/",
          "height": 300
        }
      },
      "source": [
        "# Display the statistic for column 'Harga'\n",
        "df.describe()"
      ],
      "execution_count": 9,
      "outputs": [
        {
          "output_type": "execute_result",
          "data": {
            "text/html": [
              "<div>\n",
              "<style scoped>\n",
              "    .dataframe tbody tr th:only-of-type {\n",
              "        vertical-align: middle;\n",
              "    }\n",
              "\n",
              "    .dataframe tbody tr th {\n",
              "        vertical-align: top;\n",
              "    }\n",
              "\n",
              "    .dataframe thead th {\n",
              "        text-align: right;\n",
              "    }\n",
              "</style>\n",
              "<table border=\"1\" class=\"dataframe\">\n",
              "  <thead>\n",
              "    <tr style=\"text-align: right;\">\n",
              "      <th></th>\n",
              "      <th>Harga</th>\n",
              "    </tr>\n",
              "  </thead>\n",
              "  <tbody>\n",
              "    <tr>\n",
              "      <th>count</th>\n",
              "      <td>1.465700e+04</td>\n",
              "    </tr>\n",
              "    <tr>\n",
              "      <th>mean</th>\n",
              "      <td>2.479546e+08</td>\n",
              "    </tr>\n",
              "    <tr>\n",
              "      <th>std</th>\n",
              "      <td>5.613904e+08</td>\n",
              "    </tr>\n",
              "    <tr>\n",
              "      <th>min</th>\n",
              "      <td>6.000000e+06</td>\n",
              "    </tr>\n",
              "    <tr>\n",
              "      <th>25%</th>\n",
              "      <td>8.000000e+07</td>\n",
              "    </tr>\n",
              "    <tr>\n",
              "      <th>50%</th>\n",
              "      <td>1.225000e+08</td>\n",
              "    </tr>\n",
              "    <tr>\n",
              "      <th>75%</th>\n",
              "      <td>2.160000e+08</td>\n",
              "    </tr>\n",
              "    <tr>\n",
              "      <th>max</th>\n",
              "      <td>1.700000e+10</td>\n",
              "    </tr>\n",
              "  </tbody>\n",
              "</table>\n",
              "</div>"
            ],
            "text/plain": [
              "              Harga\n",
              "count  1.465700e+04\n",
              "mean   2.479546e+08\n",
              "std    5.613904e+08\n",
              "min    6.000000e+06\n",
              "25%    8.000000e+07\n",
              "50%    1.225000e+08\n",
              "75%    2.160000e+08\n",
              "max    1.700000e+10"
            ]
          },
          "metadata": {
            "tags": []
          },
          "execution_count": 9
        }
      ]
    },
    {
      "cell_type": "code",
      "metadata": {
        "_cell_guid": "",
        "_uuid": "",
        "trusted": true,
        "id": "QCZpqA--UA_k",
        "colab_type": "code",
        "outputId": "fec06350-a584-4e79-f252-3869cd97bba7",
        "colab": {
          "base_uri": "https://localhost:8080/",
          "height": 372
        }
      },
      "source": [
        "# display boxplot\n",
        "plt.figure(figsize=(3,6))\n",
        "sns.boxplot(y='Harga', data=df,showfliers=False);"
      ],
      "execution_count": 10,
      "outputs": [
        {
          "output_type": "display_data",
          "data": {
            "image/png": "[encoded data removed]",
            "text/plain": [
              "<Figure size 216x432 with 1 Axes>"
            ]
          },
          "metadata": {
            "tags": [],
            "needs_background": "light"
          }
        }
      ]
    },
    {
      "cell_type": "code",
      "metadata": {
        "id": "bjCWNu7W3ODy",
        "colab_type": "code",
        "outputId": "828ff918-a96a-4654-ea0d-cca8cad89c21",
        "colab": {
          "base_uri": "https://localhost:8080/",
          "height": 52
        }
      },
      "source": [
        "# Drop outliers grouped by 'Model'\n",
        "\n",
        "outlier_params = {}\n",
        "model_set = set()\n",
        "indexes = []\n",
        "\n",
        "for item in df['Model']:\n",
        "    model_set.add(item)\n",
        "\n",
        "for model in model_set:\n",
        "    model_df = df.loc[df['Model'] == model]\n",
        "    param = [model_df['Harga'].mean(),\n",
        "             model_df['Harga'].std() + 1]\n",
        "    \n",
        "    outlier_params[model] = param\n",
        "\n",
        "for index, row in df.iterrows():\n",
        "    # Calculate Z-score then group index whose value >=3\n",
        "    if (np.abs((row['Harga'] - outlier_params[row['Model']][0]) / outlier_params[row['Model']][1]) >= 3):\n",
        "        indexes.append(index)\n",
        "\n",
        "print(len(indexes))\n",
        "df = df.drop(index=indexes) # Remove rows with Z-score >=3\n",
        "\n",
        "print(df.shape)"
      ],
      "execution_count": 11,
      "outputs": [
        {
          "output_type": "stream",
          "text": [
            "105\n",
            "(14552, 16)\n"
          ],
          "name": "stdout"
        }
      ]
    },
    {
      "cell_type": "code",
      "metadata": {
        "id": "jaTpZgLoCJvr",
        "colab_type": "code",
        "outputId": "0c47522e-0479-4a1b-cd81-a50f48c2ab05",
        "colab": {
          "base_uri": "https://localhost:8080/",
          "height": 52
        }
      },
      "source": [
        "# Drop outliers in general\n",
        "indexes = []\n",
        "\n",
        "for index, row in df.iterrows():\n",
        "    # Calculate Z-score then group index whose value >=3\n",
        "    if (np.abs((row['Harga'] - df['Harga'].mean()) / df['Harga'].std()) >= 3):\n",
        "        indexes.append(index)\n",
        "\n",
        "print(len(indexes))\n",
        "df = df.drop(index=indexes) # Remove rows with Z-score >=3\n",
        "\n",
        "print(df.shape)"
      ],
      "execution_count": 12,
      "outputs": [
        {
          "output_type": "stream",
          "text": [
            "169\n",
            "(14383, 16)\n"
          ],
          "name": "stdout"
        }
      ]
    },
    {
      "cell_type": "code",
      "metadata": {
        "trusted": true,
        "id": "S2MoIZc9UBAD",
        "colab_type": "code",
        "colab": {}
      },
      "source": [
        "# Fill NaN values by modus of corresponding model\n",
        "from scipy import stats\n",
        "from math import isnan\n",
        "import numpy as np\n",
        "\n",
        "model_nan_filler = {}\n",
        "model_set = set()\n",
        "\n",
        "for item in df['Model']:\n",
        "    model_set.add(item)\n",
        "\n",
        "for model in model_set:\n",
        "    model_df = df.loc[df['Model'] == model]\n",
        "    filler = [stats.mode(model_df['Kapasitas mesin'])[0][0],\n",
        "              stats.mode(model_df['Sistem Penggerak'])[0][0],\n",
        "              stats.mode(model_df['Tipe bodi'])[0][0],\n",
        "              stats.mode(model_df['Tipe Penjual'])[0][0],\n",
        "              stats.mode(model_df['Varian'])[0][0]]\n",
        "    \n",
        "    model_nan_filler[model] = filler\n",
        "\n",
        "for index, row in df.iterrows():\n",
        "    if row['Kapasitas mesin'] == 'nan' :\n",
        "        df.at[index, 'Kapasitas mesin'] = model_nan_filler[row['Model']][0]\n",
        "    if row['Sistem Penggerak'] is np.nan:\n",
        "        df.at[index, 'Sistem Penggerak'] = model_nan_filler[row['Model']][1]\n",
        "    if row['Tipe bodi'] is np.nan:\n",
        "        df.at[index, 'Tipe bodi'] = model_nan_filler[row['Model']][2]\n",
        "    if row['Tipe Penjual'] is np.nan:\n",
        "        df.at[index, 'Tipe Penjual'] = model_nan_filler[row['Model']][3]\n",
        "    if row['Varian'] is np.nan:\n",
        "        df.at[index, 'Varian'] = model_nan_filler[row['Model']][4]\n",
        "\n",
        "df['Kapasitas mesin'] = df['Kapasitas mesin'].astype('str')"
      ],
      "execution_count": 0,
      "outputs": []
    },
    {
      "cell_type": "code",
      "metadata": {
        "id": "gicVwhD8D2jO",
        "colab_type": "code",
        "outputId": "d429710f-60df-4eab-f384-77e596715d5b",
        "colab": {
          "base_uri": "https://localhost:8080/",
          "height": 34
        }
      },
      "source": [
        "df['Harga'].isnull().sum()"
      ],
      "execution_count": 14,
      "outputs": [
        {
          "output_type": "execute_result",
          "data": {
            "text/plain": [
              "0"
            ]
          },
          "metadata": {
            "tags": []
          },
          "execution_count": 14
        }
      ]
    },
    {
      "cell_type": "code",
      "metadata": {
        "id": "OpBvIMpVzexQ",
        "colab_type": "code",
        "colab": {
          "base_uri": "https://localhost:8080/",
          "height": 591
        },
        "outputId": "9be95055-cd43-4814-a5cc-739a394f37cc"
      },
      "source": [
        "df.head()"
      ],
      "execution_count": 15,
      "outputs": [
        {
          "output_type": "execute_result",
          "data": {
            "text/html": [
              "<div>\n",
              "<style scoped>\n",
              "    .dataframe tbody tr th:only-of-type {\n",
              "        vertical-align: middle;\n",
              "    }\n",
              "\n",
              "    .dataframe tbody tr th {\n",
              "        vertical-align: top;\n",
              "    }\n",
              "\n",
              "    .dataframe thead th {\n",
              "        text-align: right;\n",
              "    }\n",
              "</style>\n",
              "<table border=\"1\" class=\"dataframe\">\n",
              "  <thead>\n",
              "    <tr style=\"text-align: right;\">\n",
              "      <th></th>\n",
              "      <th>Harga</th>\n",
              "      <th>Lokasi</th>\n",
              "      <th>Penjual</th>\n",
              "      <th>Merek</th>\n",
              "      <th>Model</th>\n",
              "      <th>Varian</th>\n",
              "      <th>Tahun</th>\n",
              "      <th>Jarak tempuh</th>\n",
              "      <th>Tipe bahan bakar</th>\n",
              "      <th>Warna</th>\n",
              "      <th>Transmisi</th>\n",
              "      <th>Tipe bodi</th>\n",
              "      <th>Kapasitas mesin</th>\n",
              "      <th>Tipe Penjual</th>\n",
              "      <th>Sistem Penggerak</th>\n",
              "      <th>Nama Bursa Mobil</th>\n",
              "    </tr>\n",
              "  </thead>\n",
              "  <tbody>\n",
              "    <tr>\n",
              "      <th>0</th>\n",
              "      <td>155000792</td>\n",
              "      <td>Ngaliyan, Semarang Kota, Jawa Tengah</td>\n",
              "      <td>Tegar Ranisdya</td>\n",
              "      <td>BMW</td>\n",
              "      <td>Serie 3</td>\n",
              "      <td>320i Business Edition</td>\n",
              "      <td>2006</td>\n",
              "      <td>85.000-90.000 km</td>\n",
              "      <td>Bensin</td>\n",
              "      <td>Hitam</td>\n",
              "      <td>Automatic</td>\n",
              "      <td>Sedan</td>\n",
              "      <td>&gt;1.500 - 2.000 cc</td>\n",
              "      <td>Individu</td>\n",
              "      <td>Rear Wheel Drive (RWD)</td>\n",
              "      <td>NaN</td>\n",
              "    </tr>\n",
              "    <tr>\n",
              "      <th>1</th>\n",
              "      <td>56000000</td>\n",
              "      <td>Medan Johor, Medan Kota, Sumatra Utara</td>\n",
              "      <td>Anda Syahwilhanto</td>\n",
              "      <td>Hyundai</td>\n",
              "      <td>Getz</td>\n",
              "      <td>Lain-lain</td>\n",
              "      <td>2005</td>\n",
              "      <td>0-5.000 km</td>\n",
              "      <td>Bensin</td>\n",
              "      <td>Biru</td>\n",
              "      <td>Manual</td>\n",
              "      <td>Hatchback</td>\n",
              "      <td>&gt;1.000 - 1.500 cc</td>\n",
              "      <td>Individu</td>\n",
              "      <td>Front Wheel Drive (FWD)</td>\n",
              "      <td>NaN</td>\n",
              "    </tr>\n",
              "    <tr>\n",
              "      <th>2</th>\n",
              "      <td>120000000</td>\n",
              "      <td>Ilir Timur I, Palembang Kota, Sumatra Selatan</td>\n",
              "      <td>alvianistm</td>\n",
              "      <td>Isuzu</td>\n",
              "      <td>Grand touring</td>\n",
              "      <td>Lain-lain</td>\n",
              "      <td>2004</td>\n",
              "      <td>10.000-15.000 km</td>\n",
              "      <td>Diesel</td>\n",
              "      <td>Silver</td>\n",
              "      <td>Manual</td>\n",
              "      <td>Minibus</td>\n",
              "      <td>nan</td>\n",
              "      <td>Individu</td>\n",
              "      <td>4X2</td>\n",
              "      <td>NaN</td>\n",
              "    </tr>\n",
              "    <tr>\n",
              "      <th>3</th>\n",
              "      <td>169000000</td>\n",
              "      <td>Balerejo, Madiun Kab., Jawa Timur</td>\n",
              "      <td>PUSAT MOBIL BEKAS SIDOARJO</td>\n",
              "      <td>Isuzu</td>\n",
              "      <td>Grand touring</td>\n",
              "      <td>Lain-lain</td>\n",
              "      <td>2010</td>\n",
              "      <td>100.000-105.000 km</td>\n",
              "      <td>Diesel</td>\n",
              "      <td>Coklat</td>\n",
              "      <td>Manual</td>\n",
              "      <td>Minibus</td>\n",
              "      <td>&gt;2.000 - 3.000 cc</td>\n",
              "      <td>Diler</td>\n",
              "      <td>4X2</td>\n",
              "      <td>NaN</td>\n",
              "    </tr>\n",
              "    <tr>\n",
              "      <th>4</th>\n",
              "      <td>120000000</td>\n",
              "      <td>Kemayoran, Jakarta Pusat, Jakarta D.K.I.</td>\n",
              "      <td>Kristian</td>\n",
              "      <td>Proton</td>\n",
              "      <td>Lain-lain</td>\n",
              "      <td>Lain-lain</td>\n",
              "      <td>2010</td>\n",
              "      <td>75.000-80.000 km</td>\n",
              "      <td>Bensin</td>\n",
              "      <td>Oranye</td>\n",
              "      <td>Manual</td>\n",
              "      <td>Pick-up</td>\n",
              "      <td>&gt;1.500 - 2.000 cc</td>\n",
              "      <td>Individu</td>\n",
              "      <td>Rear Wheel Drive (RWD)</td>\n",
              "      <td>Pasar Mobil Kemayoran</td>\n",
              "    </tr>\n",
              "  </tbody>\n",
              "</table>\n",
              "</div>"
            ],
            "text/plain": [
              "       Harga  ...       Nama Bursa Mobil\n",
              "0  155000792  ...                    NaN\n",
              "1   56000000  ...                    NaN\n",
              "2  120000000  ...                    NaN\n",
              "3  169000000  ...                    NaN\n",
              "4  120000000  ...  Pasar Mobil Kemayoran\n",
              "\n",
              "[5 rows x 16 columns]"
            ]
          },
          "metadata": {
            "tags": []
          },
          "execution_count": 15
        }
      ]
    },
    {
      "cell_type": "code",
      "metadata": {
        "id": "-6x49eh0DpV1",
        "colab_type": "code",
        "colab": {}
      },
      "source": [
        "# Separate lokasi into three columns ('Kecamatan', 'Kabupaten', 'Provinsi')\n",
        "\n",
        "location = []\n",
        "for index, row in df.iterrows():\n",
        "    location.append(row['Lokasi'].split(', '))\n",
        "\n",
        "location = pd.DataFrame(location)\n",
        "location = location.drop([0], axis=1) # Drop columns 'Kecamatan' and 'Provinsi'\n",
        "location.rename(columns={1:'Kab/Kota'}, inplace=True) # Rename a column\n",
        "location.rename(columns={2:'Provinsi'}, inplace=True) # Rename a column\n",
        "df = pd.concat([df, location], axis=1) # Concate with the whole dataframe"
      ],
      "execution_count": 0,
      "outputs": []
    },
    {
      "cell_type": "code",
      "metadata": {
        "id": "FLwnD-mxFP1O",
        "colab_type": "code",
        "colab": {
          "base_uri": "https://localhost:8080/",
          "height": 469
        },
        "outputId": "55e4d522-d84b-4427-f657-d6354ecb651a"
      },
      "source": [
        "df = df.drop(['Lokasi'], axis=1) # Drop column 'Lokasi'\n",
        "df.head()"
      ],
      "execution_count": 17,
      "outputs": [
        {
          "output_type": "execute_result",
          "data": {
            "text/html": [
              "<div>\n",
              "<style scoped>\n",
              "    .dataframe tbody tr th:only-of-type {\n",
              "        vertical-align: middle;\n",
              "    }\n",
              "\n",
              "    .dataframe tbody tr th {\n",
              "        vertical-align: top;\n",
              "    }\n",
              "\n",
              "    .dataframe thead th {\n",
              "        text-align: right;\n",
              "    }\n",
              "</style>\n",
              "<table border=\"1\" class=\"dataframe\">\n",
              "  <thead>\n",
              "    <tr style=\"text-align: right;\">\n",
              "      <th></th>\n",
              "      <th>Harga</th>\n",
              "      <th>Penjual</th>\n",
              "      <th>Merek</th>\n",
              "      <th>Model</th>\n",
              "      <th>Varian</th>\n",
              "      <th>Tahun</th>\n",
              "      <th>Jarak tempuh</th>\n",
              "      <th>Tipe bahan bakar</th>\n",
              "      <th>Warna</th>\n",
              "      <th>Transmisi</th>\n",
              "      <th>Tipe bodi</th>\n",
              "      <th>Kapasitas mesin</th>\n",
              "      <th>Tipe Penjual</th>\n",
              "      <th>Sistem Penggerak</th>\n",
              "      <th>Nama Bursa Mobil</th>\n",
              "      <th>Kab/Kota</th>\n",
              "      <th>Provinsi</th>\n",
              "    </tr>\n",
              "  </thead>\n",
              "  <tbody>\n",
              "    <tr>\n",
              "      <th>0</th>\n",
              "      <td>155000792.0</td>\n",
              "      <td>Tegar Ranisdya</td>\n",
              "      <td>BMW</td>\n",
              "      <td>Serie 3</td>\n",
              "      <td>320i Business Edition</td>\n",
              "      <td>2006</td>\n",
              "      <td>85.000-90.000 km</td>\n",
              "      <td>Bensin</td>\n",
              "      <td>Hitam</td>\n",
              "      <td>Automatic</td>\n",
              "      <td>Sedan</td>\n",
              "      <td>&gt;1.500 - 2.000 cc</td>\n",
              "      <td>Individu</td>\n",
              "      <td>Rear Wheel Drive (RWD)</td>\n",
              "      <td>NaN</td>\n",
              "      <td>Semarang Kota</td>\n",
              "      <td>Jawa Tengah</td>\n",
              "    </tr>\n",
              "    <tr>\n",
              "      <th>1</th>\n",
              "      <td>56000000.0</td>\n",
              "      <td>Anda Syahwilhanto</td>\n",
              "      <td>Hyundai</td>\n",
              "      <td>Getz</td>\n",
              "      <td>Lain-lain</td>\n",
              "      <td>2005</td>\n",
              "      <td>0-5.000 km</td>\n",
              "      <td>Bensin</td>\n",
              "      <td>Biru</td>\n",
              "      <td>Manual</td>\n",
              "      <td>Hatchback</td>\n",
              "      <td>&gt;1.000 - 1.500 cc</td>\n",
              "      <td>Individu</td>\n",
              "      <td>Front Wheel Drive (FWD)</td>\n",
              "      <td>NaN</td>\n",
              "      <td>Medan Kota</td>\n",
              "      <td>Sumatra Utara</td>\n",
              "    </tr>\n",
              "    <tr>\n",
              "      <th>2</th>\n",
              "      <td>120000000.0</td>\n",
              "      <td>alvianistm</td>\n",
              "      <td>Isuzu</td>\n",
              "      <td>Grand touring</td>\n",
              "      <td>Lain-lain</td>\n",
              "      <td>2004</td>\n",
              "      <td>10.000-15.000 km</td>\n",
              "      <td>Diesel</td>\n",
              "      <td>Silver</td>\n",
              "      <td>Manual</td>\n",
              "      <td>Minibus</td>\n",
              "      <td>nan</td>\n",
              "      <td>Individu</td>\n",
              "      <td>4X2</td>\n",
              "      <td>NaN</td>\n",
              "      <td>Palembang Kota</td>\n",
              "      <td>Sumatra Selatan</td>\n",
              "    </tr>\n",
              "    <tr>\n",
              "      <th>3</th>\n",
              "      <td>169000000.0</td>\n",
              "      <td>PUSAT MOBIL BEKAS SIDOARJO</td>\n",
              "      <td>Isuzu</td>\n",
              "      <td>Grand touring</td>\n",
              "      <td>Lain-lain</td>\n",
              "      <td>2010</td>\n",
              "      <td>100.000-105.000 km</td>\n",
              "      <td>Diesel</td>\n",
              "      <td>Coklat</td>\n",
              "      <td>Manual</td>\n",
              "      <td>Minibus</td>\n",
              "      <td>&gt;2.000 - 3.000 cc</td>\n",
              "      <td>Diler</td>\n",
              "      <td>4X2</td>\n",
              "      <td>NaN</td>\n",
              "      <td>Madiun Kab.</td>\n",
              "      <td>Jawa Timur</td>\n",
              "    </tr>\n",
              "    <tr>\n",
              "      <th>4</th>\n",
              "      <td>120000000.0</td>\n",
              "      <td>Kristian</td>\n",
              "      <td>Proton</td>\n",
              "      <td>Lain-lain</td>\n",
              "      <td>Lain-lain</td>\n",
              "      <td>2010</td>\n",
              "      <td>75.000-80.000 km</td>\n",
              "      <td>Bensin</td>\n",
              "      <td>Oranye</td>\n",
              "      <td>Manual</td>\n",
              "      <td>Pick-up</td>\n",
              "      <td>&gt;1.500 - 2.000 cc</td>\n",
              "      <td>Individu</td>\n",
              "      <td>Rear Wheel Drive (RWD)</td>\n",
              "      <td>Pasar Mobil Kemayoran</td>\n",
              "      <td>Jakarta Pusat</td>\n",
              "      <td>Jakarta D.K.I.</td>\n",
              "    </tr>\n",
              "  </tbody>\n",
              "</table>\n",
              "</div>"
            ],
            "text/plain": [
              "         Harga                     Penjual  ...        Kab/Kota         Provinsi\n",
              "0  155000792.0              Tegar Ranisdya  ...   Semarang Kota      Jawa Tengah\n",
              "1   56000000.0           Anda Syahwilhanto  ...      Medan Kota    Sumatra Utara\n",
              "2  120000000.0                  alvianistm  ...  Palembang Kota  Sumatra Selatan\n",
              "3  169000000.0  PUSAT MOBIL BEKAS SIDOARJO  ...     Madiun Kab.       Jawa Timur\n",
              "4  120000000.0                    Kristian  ...   Jakarta Pusat   Jakarta D.K.I.\n",
              "\n",
              "[5 rows x 17 columns]"
            ]
          },
          "metadata": {
            "tags": []
          },
          "execution_count": 17
        }
      ]
    },
    {
      "cell_type": "code",
      "metadata": {
        "id": "cQcE8Oo8Nb9i",
        "colab_type": "code",
        "outputId": "e74f37a7-de01-41a4-93a0-736ba48db822",
        "colab": {
          "base_uri": "https://localhost:8080/",
          "height": 34
        }
      },
      "source": [
        "df['Provinsi'].isnull().sum()"
      ],
      "execution_count": 18,
      "outputs": [
        {
          "output_type": "execute_result",
          "data": {
            "text/plain": [
              "271"
            ]
          },
          "metadata": {
            "tags": []
          },
          "execution_count": 18
        }
      ]
    },
    {
      "cell_type": "code",
      "metadata": {
        "id": "Dp3LAMXyJVKi",
        "colab_type": "code",
        "outputId": "1104484d-17fc-483e-b2c0-8b2ee1c8bfd9",
        "colab": {
          "base_uri": "https://localhost:8080/",
          "height": 34
        }
      },
      "source": [
        "df['Merek'].isnull().sum()"
      ],
      "execution_count": 19,
      "outputs": [
        {
          "output_type": "execute_result",
          "data": {
            "text/plain": [
              "271"
            ]
          },
          "metadata": {
            "tags": []
          },
          "execution_count": 19
        }
      ]
    },
    {
      "cell_type": "code",
      "metadata": {
        "id": "XY-x9grX8UFc",
        "colab_type": "code",
        "colab": {
          "base_uri": "https://localhost:8080/",
          "height": 469
        },
        "outputId": "8eb559cb-bf24-4612-d896-e04242c101ce"
      },
      "source": [
        "df.head()\n"
      ],
      "execution_count": 20,
      "outputs": [
        {
          "output_type": "execute_result",
          "data": {
            "text/html": [
              "<div>\n",
              "<style scoped>\n",
              "    .dataframe tbody tr th:only-of-type {\n",
              "        vertical-align: middle;\n",
              "    }\n",
              "\n",
              "    .dataframe tbody tr th {\n",
              "        vertical-align: top;\n",
              "    }\n",
              "\n",
              "    .dataframe thead th {\n",
              "        text-align: right;\n",
              "    }\n",
              "</style>\n",
              "<table border=\"1\" class=\"dataframe\">\n",
              "  <thead>\n",
              "    <tr style=\"text-align: right;\">\n",
              "      <th></th>\n",
              "      <th>Harga</th>\n",
              "      <th>Penjual</th>\n",
              "      <th>Merek</th>\n",
              "      <th>Model</th>\n",
              "      <th>Varian</th>\n",
              "      <th>Tahun</th>\n",
              "      <th>Jarak tempuh</th>\n",
              "      <th>Tipe bahan bakar</th>\n",
              "      <th>Warna</th>\n",
              "      <th>Transmisi</th>\n",
              "      <th>Tipe bodi</th>\n",
              "      <th>Kapasitas mesin</th>\n",
              "      <th>Tipe Penjual</th>\n",
              "      <th>Sistem Penggerak</th>\n",
              "      <th>Nama Bursa Mobil</th>\n",
              "      <th>Kab/Kota</th>\n",
              "      <th>Provinsi</th>\n",
              "    </tr>\n",
              "  </thead>\n",
              "  <tbody>\n",
              "    <tr>\n",
              "      <th>0</th>\n",
              "      <td>155000792.0</td>\n",
              "      <td>Tegar Ranisdya</td>\n",
              "      <td>BMW</td>\n",
              "      <td>Serie 3</td>\n",
              "      <td>320i Business Edition</td>\n",
              "      <td>2006</td>\n",
              "      <td>85.000-90.000 km</td>\n",
              "      <td>Bensin</td>\n",
              "      <td>Hitam</td>\n",
              "      <td>Automatic</td>\n",
              "      <td>Sedan</td>\n",
              "      <td>&gt;1.500 - 2.000 cc</td>\n",
              "      <td>Individu</td>\n",
              "      <td>Rear Wheel Drive (RWD)</td>\n",
              "      <td>NaN</td>\n",
              "      <td>Semarang Kota</td>\n",
              "      <td>Jawa Tengah</td>\n",
              "    </tr>\n",
              "    <tr>\n",
              "      <th>1</th>\n",
              "      <td>56000000.0</td>\n",
              "      <td>Anda Syahwilhanto</td>\n",
              "      <td>Hyundai</td>\n",
              "      <td>Getz</td>\n",
              "      <td>Lain-lain</td>\n",
              "      <td>2005</td>\n",
              "      <td>0-5.000 km</td>\n",
              "      <td>Bensin</td>\n",
              "      <td>Biru</td>\n",
              "      <td>Manual</td>\n",
              "      <td>Hatchback</td>\n",
              "      <td>&gt;1.000 - 1.500 cc</td>\n",
              "      <td>Individu</td>\n",
              "      <td>Front Wheel Drive (FWD)</td>\n",
              "      <td>NaN</td>\n",
              "      <td>Medan Kota</td>\n",
              "      <td>Sumatra Utara</td>\n",
              "    </tr>\n",
              "    <tr>\n",
              "      <th>2</th>\n",
              "      <td>120000000.0</td>\n",
              "      <td>alvianistm</td>\n",
              "      <td>Isuzu</td>\n",
              "      <td>Grand touring</td>\n",
              "      <td>Lain-lain</td>\n",
              "      <td>2004</td>\n",
              "      <td>10.000-15.000 km</td>\n",
              "      <td>Diesel</td>\n",
              "      <td>Silver</td>\n",
              "      <td>Manual</td>\n",
              "      <td>Minibus</td>\n",
              "      <td>nan</td>\n",
              "      <td>Individu</td>\n",
              "      <td>4X2</td>\n",
              "      <td>NaN</td>\n",
              "      <td>Palembang Kota</td>\n",
              "      <td>Sumatra Selatan</td>\n",
              "    </tr>\n",
              "    <tr>\n",
              "      <th>3</th>\n",
              "      <td>169000000.0</td>\n",
              "      <td>PUSAT MOBIL BEKAS SIDOARJO</td>\n",
              "      <td>Isuzu</td>\n",
              "      <td>Grand touring</td>\n",
              "      <td>Lain-lain</td>\n",
              "      <td>2010</td>\n",
              "      <td>100.000-105.000 km</td>\n",
              "      <td>Diesel</td>\n",
              "      <td>Coklat</td>\n",
              "      <td>Manual</td>\n",
              "      <td>Minibus</td>\n",
              "      <td>&gt;2.000 - 3.000 cc</td>\n",
              "      <td>Diler</td>\n",
              "      <td>4X2</td>\n",
              "      <td>NaN</td>\n",
              "      <td>Madiun Kab.</td>\n",
              "      <td>Jawa Timur</td>\n",
              "    </tr>\n",
              "    <tr>\n",
              "      <th>4</th>\n",
              "      <td>120000000.0</td>\n",
              "      <td>Kristian</td>\n",
              "      <td>Proton</td>\n",
              "      <td>Lain-lain</td>\n",
              "      <td>Lain-lain</td>\n",
              "      <td>2010</td>\n",
              "      <td>75.000-80.000 km</td>\n",
              "      <td>Bensin</td>\n",
              "      <td>Oranye</td>\n",
              "      <td>Manual</td>\n",
              "      <td>Pick-up</td>\n",
              "      <td>&gt;1.500 - 2.000 cc</td>\n",
              "      <td>Individu</td>\n",
              "      <td>Rear Wheel Drive (RWD)</td>\n",
              "      <td>Pasar Mobil Kemayoran</td>\n",
              "      <td>Jakarta Pusat</td>\n",
              "      <td>Jakarta D.K.I.</td>\n",
              "    </tr>\n",
              "  </tbody>\n",
              "</table>\n",
              "</div>"
            ],
            "text/plain": [
              "         Harga                     Penjual  ...        Kab/Kota         Provinsi\n",
              "0  155000792.0              Tegar Ranisdya  ...   Semarang Kota      Jawa Tengah\n",
              "1   56000000.0           Anda Syahwilhanto  ...      Medan Kota    Sumatra Utara\n",
              "2  120000000.0                  alvianistm  ...  Palembang Kota  Sumatra Selatan\n",
              "3  169000000.0  PUSAT MOBIL BEKAS SIDOARJO  ...     Madiun Kab.       Jawa Timur\n",
              "4  120000000.0                    Kristian  ...   Jakarta Pusat   Jakarta D.K.I.\n",
              "\n",
              "[5 rows x 17 columns]"
            ]
          },
          "metadata": {
            "tags": []
          },
          "execution_count": 20
        }
      ]
    },
    {
      "cell_type": "code",
      "metadata": {
        "id": "3340SM6X8jkN",
        "colab_type": "code",
        "colab": {
          "base_uri": "https://localhost:8080/",
          "height": 310
        },
        "outputId": "302928ce-1861-40de-905f-1be986f98dde"
      },
      "source": [
        "newdf = df\n",
        "newdf = newdf.drop(['Penjual', 'Varian', 'Tipe bodi', 'Nama Bursa Mobil', 'Kab/Kota'], axis=1)\n",
        "newdf.head()"
      ],
      "execution_count": 21,
      "outputs": [
        {
          "output_type": "execute_result",
          "data": {
            "text/html": [
              "<div>\n",
              "<style scoped>\n",
              "    .dataframe tbody tr th:only-of-type {\n",
              "        vertical-align: middle;\n",
              "    }\n",
              "\n",
              "    .dataframe tbody tr th {\n",
              "        vertical-align: top;\n",
              "    }\n",
              "\n",
              "    .dataframe thead th {\n",
              "        text-align: right;\n",
              "    }\n",
              "</style>\n",
              "<table border=\"1\" class=\"dataframe\">\n",
              "  <thead>\n",
              "    <tr style=\"text-align: right;\">\n",
              "      <th></th>\n",
              "      <th>Harga</th>\n",
              "      <th>Merek</th>\n",
              "      <th>Model</th>\n",
              "      <th>Tahun</th>\n",
              "      <th>Jarak tempuh</th>\n",
              "      <th>Tipe bahan bakar</th>\n",
              "      <th>Warna</th>\n",
              "      <th>Transmisi</th>\n",
              "      <th>Kapasitas mesin</th>\n",
              "      <th>Tipe Penjual</th>\n",
              "      <th>Sistem Penggerak</th>\n",
              "      <th>Provinsi</th>\n",
              "    </tr>\n",
              "  </thead>\n",
              "  <tbody>\n",
              "    <tr>\n",
              "      <th>0</th>\n",
              "      <td>155000792.0</td>\n",
              "      <td>BMW</td>\n",
              "      <td>Serie 3</td>\n",
              "      <td>2006</td>\n",
              "      <td>85.000-90.000 km</td>\n",
              "      <td>Bensin</td>\n",
              "      <td>Hitam</td>\n",
              "      <td>Automatic</td>\n",
              "      <td>&gt;1.500 - 2.000 cc</td>\n",
              "      <td>Individu</td>\n",
              "      <td>Rear Wheel Drive (RWD)</td>\n",
              "      <td>Jawa Tengah</td>\n",
              "    </tr>\n",
              "    <tr>\n",
              "      <th>1</th>\n",
              "      <td>56000000.0</td>\n",
              "      <td>Hyundai</td>\n",
              "      <td>Getz</td>\n",
              "      <td>2005</td>\n",
              "      <td>0-5.000 km</td>\n",
              "      <td>Bensin</td>\n",
              "      <td>Biru</td>\n",
              "      <td>Manual</td>\n",
              "      <td>&gt;1.000 - 1.500 cc</td>\n",
              "      <td>Individu</td>\n",
              "      <td>Front Wheel Drive (FWD)</td>\n",
              "      <td>Sumatra Utara</td>\n",
              "    </tr>\n",
              "    <tr>\n",
              "      <th>2</th>\n",
              "      <td>120000000.0</td>\n",
              "      <td>Isuzu</td>\n",
              "      <td>Grand touring</td>\n",
              "      <td>2004</td>\n",
              "      <td>10.000-15.000 km</td>\n",
              "      <td>Diesel</td>\n",
              "      <td>Silver</td>\n",
              "      <td>Manual</td>\n",
              "      <td>nan</td>\n",
              "      <td>Individu</td>\n",
              "      <td>4X2</td>\n",
              "      <td>Sumatra Selatan</td>\n",
              "    </tr>\n",
              "    <tr>\n",
              "      <th>3</th>\n",
              "      <td>169000000.0</td>\n",
              "      <td>Isuzu</td>\n",
              "      <td>Grand touring</td>\n",
              "      <td>2010</td>\n",
              "      <td>100.000-105.000 km</td>\n",
              "      <td>Diesel</td>\n",
              "      <td>Coklat</td>\n",
              "      <td>Manual</td>\n",
              "      <td>&gt;2.000 - 3.000 cc</td>\n",
              "      <td>Diler</td>\n",
              "      <td>4X2</td>\n",
              "      <td>Jawa Timur</td>\n",
              "    </tr>\n",
              "    <tr>\n",
              "      <th>4</th>\n",
              "      <td>120000000.0</td>\n",
              "      <td>Proton</td>\n",
              "      <td>Lain-lain</td>\n",
              "      <td>2010</td>\n",
              "      <td>75.000-80.000 km</td>\n",
              "      <td>Bensin</td>\n",
              "      <td>Oranye</td>\n",
              "      <td>Manual</td>\n",
              "      <td>&gt;1.500 - 2.000 cc</td>\n",
              "      <td>Individu</td>\n",
              "      <td>Rear Wheel Drive (RWD)</td>\n",
              "      <td>Jakarta D.K.I.</td>\n",
              "    </tr>\n",
              "  </tbody>\n",
              "</table>\n",
              "</div>"
            ],
            "text/plain": [
              "         Harga    Merek  ...         Sistem Penggerak         Provinsi\n",
              "0  155000792.0      BMW  ...   Rear Wheel Drive (RWD)      Jawa Tengah\n",
              "1   56000000.0  Hyundai  ...  Front Wheel Drive (FWD)    Sumatra Utara\n",
              "2  120000000.0    Isuzu  ...                      4X2  Sumatra Selatan\n",
              "3  169000000.0    Isuzu  ...                      4X2       Jawa Timur\n",
              "4  120000000.0   Proton  ...   Rear Wheel Drive (RWD)   Jakarta D.K.I.\n",
              "\n",
              "[5 rows x 12 columns]"
            ]
          },
          "metadata": {
            "tags": []
          },
          "execution_count": 21
        }
      ]
    },
    {
      "cell_type": "code",
      "metadata": {
        "id": "MTe5LmPj9BOd",
        "colab_type": "code",
        "colab": {
          "base_uri": "https://localhost:8080/",
          "height": 650
        },
        "outputId": "e2e841c7-2168-43f2-ade4-e40bbefb635c"
      },
      "source": [
        "# Drop rows that have any NaN values\n",
        "newdf = newdf.dropna()\n",
        "print(newdf.shape)\n",
        "newdf.head(100)"
      ],
      "execution_count": 22,
      "outputs": [
        {
          "output_type": "stream",
          "text": [
            "(14112, 12)\n"
          ],
          "name": "stdout"
        },
        {
          "output_type": "execute_result",
          "data": {
            "text/html": [
              "<div>\n",
              "<style scoped>\n",
              "    .dataframe tbody tr th:only-of-type {\n",
              "        vertical-align: middle;\n",
              "    }\n",
              "\n",
              "    .dataframe tbody tr th {\n",
              "        vertical-align: top;\n",
              "    }\n",
              "\n",
              "    .dataframe thead th {\n",
              "        text-align: right;\n",
              "    }\n",
              "</style>\n",
              "<table border=\"1\" class=\"dataframe\">\n",
              "  <thead>\n",
              "    <tr style=\"text-align: right;\">\n",
              "      <th></th>\n",
              "      <th>Harga</th>\n",
              "      <th>Merek</th>\n",
              "      <th>Model</th>\n",
              "      <th>Tahun</th>\n",
              "      <th>Jarak tempuh</th>\n",
              "      <th>Tipe bahan bakar</th>\n",
              "      <th>Warna</th>\n",
              "      <th>Transmisi</th>\n",
              "      <th>Kapasitas mesin</th>\n",
              "      <th>Tipe Penjual</th>\n",
              "      <th>Sistem Penggerak</th>\n",
              "      <th>Provinsi</th>\n",
              "    </tr>\n",
              "  </thead>\n",
              "  <tbody>\n",
              "    <tr>\n",
              "      <th>0</th>\n",
              "      <td>1.550008e+08</td>\n",
              "      <td>BMW</td>\n",
              "      <td>Serie 3</td>\n",
              "      <td>2006</td>\n",
              "      <td>85.000-90.000 km</td>\n",
              "      <td>Bensin</td>\n",
              "      <td>Hitam</td>\n",
              "      <td>Automatic</td>\n",
              "      <td>&gt;1.500 - 2.000 cc</td>\n",
              "      <td>Individu</td>\n",
              "      <td>Rear Wheel Drive (RWD)</td>\n",
              "      <td>Jawa Tengah</td>\n",
              "    </tr>\n",
              "    <tr>\n",
              "      <th>1</th>\n",
              "      <td>5.600000e+07</td>\n",
              "      <td>Hyundai</td>\n",
              "      <td>Getz</td>\n",
              "      <td>2005</td>\n",
              "      <td>0-5.000 km</td>\n",
              "      <td>Bensin</td>\n",
              "      <td>Biru</td>\n",
              "      <td>Manual</td>\n",
              "      <td>&gt;1.000 - 1.500 cc</td>\n",
              "      <td>Individu</td>\n",
              "      <td>Front Wheel Drive (FWD)</td>\n",
              "      <td>Sumatra Utara</td>\n",
              "    </tr>\n",
              "    <tr>\n",
              "      <th>2</th>\n",
              "      <td>1.200000e+08</td>\n",
              "      <td>Isuzu</td>\n",
              "      <td>Grand touring</td>\n",
              "      <td>2004</td>\n",
              "      <td>10.000-15.000 km</td>\n",
              "      <td>Diesel</td>\n",
              "      <td>Silver</td>\n",
              "      <td>Manual</td>\n",
              "      <td>nan</td>\n",
              "      <td>Individu</td>\n",
              "      <td>4X2</td>\n",
              "      <td>Sumatra Selatan</td>\n",
              "    </tr>\n",
              "    <tr>\n",
              "      <th>3</th>\n",
              "      <td>1.690000e+08</td>\n",
              "      <td>Isuzu</td>\n",
              "      <td>Grand touring</td>\n",
              "      <td>2010</td>\n",
              "      <td>100.000-105.000 km</td>\n",
              "      <td>Diesel</td>\n",
              "      <td>Coklat</td>\n",
              "      <td>Manual</td>\n",
              "      <td>&gt;2.000 - 3.000 cc</td>\n",
              "      <td>Diler</td>\n",
              "      <td>4X2</td>\n",
              "      <td>Jawa Timur</td>\n",
              "    </tr>\n",
              "    <tr>\n",
              "      <th>4</th>\n",
              "      <td>1.200000e+08</td>\n",
              "      <td>Proton</td>\n",
              "      <td>Lain-lain</td>\n",
              "      <td>2010</td>\n",
              "      <td>75.000-80.000 km</td>\n",
              "      <td>Bensin</td>\n",
              "      <td>Oranye</td>\n",
              "      <td>Manual</td>\n",
              "      <td>&gt;1.500 - 2.000 cc</td>\n",
              "      <td>Individu</td>\n",
              "      <td>Rear Wheel Drive (RWD)</td>\n",
              "      <td>Jakarta D.K.I.</td>\n",
              "    </tr>\n",
              "    <tr>\n",
              "      <th>...</th>\n",
              "      <td>...</td>\n",
              "      <td>...</td>\n",
              "      <td>...</td>\n",
              "      <td>...</td>\n",
              "      <td>...</td>\n",
              "      <td>...</td>\n",
              "      <td>...</td>\n",
              "      <td>...</td>\n",
              "      <td>...</td>\n",
              "      <td>...</td>\n",
              "      <td>...</td>\n",
              "      <td>...</td>\n",
              "    </tr>\n",
              "    <tr>\n",
              "      <th>99</th>\n",
              "      <td>1.200000e+09</td>\n",
              "      <td>Fiat</td>\n",
              "      <td>Abart</td>\n",
              "      <td>2017</td>\n",
              "      <td>0-5.000 km</td>\n",
              "      <td>Bensin</td>\n",
              "      <td>Kuning</td>\n",
              "      <td>Manual</td>\n",
              "      <td>&gt;1.000 - 1.500 cc</td>\n",
              "      <td>Diler</td>\n",
              "      <td>Front Wheel Drive (FWD)</td>\n",
              "      <td>Jakarta D.K.I.</td>\n",
              "    </tr>\n",
              "    <tr>\n",
              "      <th>100</th>\n",
              "      <td>8.299998e+07</td>\n",
              "      <td>Datsun</td>\n",
              "      <td>Go</td>\n",
              "      <td>2017</td>\n",
              "      <td>35.000-40.000 km</td>\n",
              "      <td>Bensin</td>\n",
              "      <td>Abu-abu</td>\n",
              "      <td>Manual</td>\n",
              "      <td>&gt;1.000 - 1.500 cc</td>\n",
              "      <td>Individu</td>\n",
              "      <td>Front Wheel Drive (FWD)</td>\n",
              "      <td>Jakarta D.K.I.</td>\n",
              "    </tr>\n",
              "    <tr>\n",
              "      <th>101</th>\n",
              "      <td>2.350000e+08</td>\n",
              "      <td>Chevrolet</td>\n",
              "      <td>Trax</td>\n",
              "      <td>2018</td>\n",
              "      <td>20.000-25.000 km</td>\n",
              "      <td>Hybrid</td>\n",
              "      <td>Hitam</td>\n",
              "      <td>Automatic</td>\n",
              "      <td>&gt;1.000 - 1.500 cc</td>\n",
              "      <td>Individu</td>\n",
              "      <td>4X2</td>\n",
              "      <td>Sulawesi Selatan</td>\n",
              "    </tr>\n",
              "    <tr>\n",
              "      <th>102</th>\n",
              "      <td>2.350000e+08</td>\n",
              "      <td>Mitsubishi</td>\n",
              "      <td>Xpander</td>\n",
              "      <td>2018</td>\n",
              "      <td>15.000-20.000 km</td>\n",
              "      <td>Bensin</td>\n",
              "      <td>Putih</td>\n",
              "      <td>Automatic Triptonic</td>\n",
              "      <td>nan</td>\n",
              "      <td>Individu</td>\n",
              "      <td>4X2</td>\n",
              "      <td>Jakarta D.K.I.</td>\n",
              "    </tr>\n",
              "    <tr>\n",
              "      <th>103</th>\n",
              "      <td>9.950000e+08</td>\n",
              "      <td>Mercedes-Benz</td>\n",
              "      <td>E-Class</td>\n",
              "      <td>2017</td>\n",
              "      <td>5.000-10.000 km</td>\n",
              "      <td>Bensin</td>\n",
              "      <td>Putih</td>\n",
              "      <td>Automatic</td>\n",
              "      <td>nan</td>\n",
              "      <td>Individu</td>\n",
              "      <td>Rear Wheel Drive (RWD)</td>\n",
              "      <td>Sumatra Utara</td>\n",
              "    </tr>\n",
              "  </tbody>\n",
              "</table>\n",
              "<p>100 rows × 12 columns</p>\n",
              "</div>"
            ],
            "text/plain": [
              "            Harga          Merek  ...         Sistem Penggerak          Provinsi\n",
              "0    1.550008e+08            BMW  ...   Rear Wheel Drive (RWD)       Jawa Tengah\n",
              "1    5.600000e+07        Hyundai  ...  Front Wheel Drive (FWD)     Sumatra Utara\n",
              "2    1.200000e+08          Isuzu  ...                      4X2   Sumatra Selatan\n",
              "3    1.690000e+08          Isuzu  ...                      4X2        Jawa Timur\n",
              "4    1.200000e+08         Proton  ...   Rear Wheel Drive (RWD)    Jakarta D.K.I.\n",
              "..            ...            ...  ...                      ...               ...\n",
              "99   1.200000e+09           Fiat  ...  Front Wheel Drive (FWD)    Jakarta D.K.I.\n",
              "100  8.299998e+07         Datsun  ...  Front Wheel Drive (FWD)    Jakarta D.K.I.\n",
              "101  2.350000e+08      Chevrolet  ...                      4X2  Sulawesi Selatan\n",
              "102  2.350000e+08     Mitsubishi  ...                      4X2    Jakarta D.K.I.\n",
              "103  9.950000e+08  Mercedes-Benz  ...   Rear Wheel Drive (RWD)     Sumatra Utara\n",
              "\n",
              "[100 rows x 12 columns]"
            ]
          },
          "metadata": {
            "tags": []
          },
          "execution_count": 22
        }
      ]
    },
    {
      "cell_type": "code",
      "metadata": {
        "id": "VlRQPXkh9Bjq",
        "colab_type": "code",
        "colab": {
          "base_uri": "https://localhost:8080/",
          "height": 348
        },
        "outputId": "a8e249a0-4faa-4838-efda-5484f08ad017"
      },
      "source": [
        "# Drop rows with value other than '>' and '<' in column 'Kapasitas Mesin'\n",
        "indexes = []\n",
        "\n",
        "for index, row in newdf.iterrows():\n",
        "    if row['Kapasitas mesin'][0] != '>' and row['Kapasitas mesin'][0] != '<':\n",
        "        indexes.append(index)\n",
        "        \n",
        "print(indexes)\n",
        "newdf = newdf.drop(indexes)\n",
        "newdf.head()"
      ],
      "execution_count": 23,
      "outputs": [
        {
          "output_type": "stream",
          "text": [
            "[2, 5, 14, 16, 19, 20, 22, 23, 27, 28, 41, 43, 50, 62, 72, 76, 77, 98, 102, 103, 107, 113, 129, 147, 149, 155, 166, 175, 182, 211, 218, 228, 234, 241, 249, 271, 276, 280, 285, 287, 288, 290, 294, 299, 310, 322, 329, 336, 359, 360, 366, 375, 377, 379, 381, 393, 394, 395, 403, 416, 427, 445, 452, 462, 467, 471, 484, 496, 511, 516, 522, 525, 531, 536, 545, 572, 574, 581, 598, 610, 616, 617, 624, 639, 641, 649, 653, 656, 657, 664, 687, 698, 704, 715, 721, 723, 730, 740, 744, 746, 747, 753, 772, 781, 792, 801, 811, 836, 842, 857, 862, 876, 877, 879, 892, 907, 926, 928, 938, 944, 953, 955, 962, 989, 997, 1008, 1009, 1017, 1022, 1031, 1032, 1047, 1066, 1074, 1075, 1076, 1089, 1090, 1099, 1100, 1107, 1117, 1124, 1128, 1131, 1137, 1142, 1166, 1186, 1191, 1193, 1201, 1215, 1234, 1237, 1238, 1255, 1284, 1285, 1296, 1322, 1323, 1324, 1325, 1341, 1351, 1360, 1368, 1377, 1392, 1400, 1404, 1411, 1413, 1425, 1430, 1440, 1444, 1447, 1448, 1453, 1454, 1468, 1475, 1483, 1501, 1533, 1535, 1536, 1548, 1550, 1563, 1568, 1595, 1604, 1613, 1621, 1622, 1629, 1638, 1654, 1660, 1664, 1696, 1726, 1741, 1745, 1758, 1768, 1789, 1796, 1801, 1803, 1805, 1817, 1821, 1825, 1836, 1840, 1851, 1863, 1865, 1876, 1882, 1893, 1918, 1921, 1934, 1935, 1956, 1984, 1989, 1996, 2007, 2012, 2017, 2030, 2043, 2052, 2062, 2066, 2074, 2100, 2111, 2117, 2142, 2151, 2161, 2173, 2177, 2209, 2210, 2211, 2217, 2219, 2236, 2237, 2239, 2246, 2252, 2261, 2266, 2269, 2281, 2283, 2300, 2305, 2311, 2313, 2337, 2341, 2390, 2396, 2412, 2416, 2419, 2422, 2443, 2447, 2459, 2468, 2492, 2493, 2502, 2508, 2523, 2527, 2530, 2548, 2549, 2559, 2570, 2572, 2576, 2596, 2604, 2626, 2632, 2637, 2656, 2664, 2669, 2679, 2711, 2717, 2719, 2722, 2726, 2729, 2736, 2739, 2743, 2755, 2765, 2773, 2786, 2797, 2799, 2804, 2825, 2829, 2847, 2857, 2860, 2861, 2867, 2872, 2873, 2880, 2882, 2897, 2921, 2943, 2955, 2967, 2987, 2990, 2999, 3008, 3014, 3031, 3037, 3040, 3041, 3052, 3070, 3075, 3083, 3095, 3099, 3105, 3122, 3128, 3129, 3138, 3154, 3158, 3161, 3172, 3193, 3196, 3199, 3203, 3207, 3217, 3219, 3237, 3238, 3257, 3263, 3273, 3281, 3285, 3287, 3294, 3297, 3301, 3311, 3320, 3337, 3344, 3359, 3365, 3371, 3375, 3385, 3400, 3405, 3424, 3426, 3463, 3466, 3468, 3470, 3489, 3495, 3497, 3501, 3520, 3521, 3524, 3534, 3535, 3545, 3547, 3551, 3553, 3556, 3564, 3582, 3583, 3588, 3599, 3601, 3603, 3608, 3609, 3616, 3617, 3626, 3629, 3635, 3646, 3712, 3714, 3724, 3729, 3731, 3737, 3759, 3775, 3776, 3788, 3819, 3829, 3831, 3838, 3840, 3846, 3848, 3863, 3867, 3878, 3879, 3883, 3895, 3910, 3926, 3939, 3951, 3963, 3965, 3979, 3990, 3998, 3999, 4005, 4019, 4020, 4026, 4036, 4041, 4068, 4073, 4092, 4093, 4106, 4111, 4115, 4116, 4120, 4127, 4153, 4160, 4161, 4164, 4165, 4176, 4182, 4202, 4208, 4215, 4222, 4223, 4232, 4236, 4281, 4287, 4293, 4296, 4328, 4334, 4341, 4349, 4352, 4359, 4372, 4373, 4382, 4384, 4386, 4416, 4430, 4433, 4435, 4443, 4445, 4446, 4447, 4448, 4453, 4461, 4464, 4465, 4470, 4471, 4475, 4482, 4485, 4487, 4491, 4496, 4504, 4506, 4510, 4531, 4534, 4540, 4545, 4567, 4568, 4576, 4578, 4587, 4592, 4611, 4617, 4621, 4627, 4631, 4650, 4666, 4689, 4698, 4705, 4709, 4713, 4723, 4730, 4736, 4741, 4743, 4753, 4757, 4759, 4763, 4764, 4778, 4779, 4799, 4811, 4830, 4834, 4838, 4840, 4851, 4853, 4867, 4874, 4910, 4912, 4939, 4960, 4971, 4994, 5006, 5009, 5015, 5019, 5024, 5025, 5037, 5040, 5056, 5069, 5071, 5087, 5097, 5106, 5107, 5128, 5144, 5148, 5149, 5151, 5155, 5163, 5167, 5168, 5187, 5192, 5203, 5212, 5221, 5222, 5229, 5234, 5239, 5241, 5249, 5253, 5260, 5263, 5267, 5280, 5285, 5289, 5294, 5295, 5304, 5312, 5322, 5326, 5333, 5339, 5345, 5354, 5364, 5393, 5414, 5419, 5425, 5431, 5441, 5453, 5455, 5463, 5470, 5473, 5517, 5520, 5521, 5524, 5528, 5559, 5561, 5566, 5571, 5575, 5603, 5621, 5626, 5631, 5647, 5648, 5655, 5659, 5671, 5673, 5700, 5710, 5721, 5727, 5731, 5733, 5738, 5746, 5747, 5752, 5756, 5760, 5764, 5796, 5800, 5801, 5803, 5831, 5832, 5841, 5845, 5847, 5855, 5881, 5882, 5907, 5914, 5915, 5936, 5946, 5948, 5952, 5958, 5965, 5986, 6004, 6007, 6008, 6011, 6015, 6021, 6032, 6033, 6034, 6040, 6043, 6044, 6050, 6056, 6061, 6066, 6068, 6077, 6086, 6087, 6090, 6095, 6106, 6113, 6115, 6136, 6144, 6153, 6154, 6161, 6167, 6168, 6172, 6188, 6196, 6241, 6242, 6268, 6274, 6285, 6292, 6295, 6302, 6306, 6320, 6325, 6327, 6329, 6341, 6343, 6360, 6362, 6397, 6413, 6438, 6441, 6457, 6459, 6473, 6476, 6484, 6487, 6489, 6520, 6522, 6529, 6537, 6539, 6545, 6548, 6551, 6585, 6605, 6608, 6614, 6616, 6617, 6649, 6657, 6659, 6669, 6690, 6698, 6701, 6704, 6706, 6749, 6750, 6756, 6768, 6806, 6808, 6817, 6821, 6825, 6832, 6833, 6845, 6850, 6854, 6871, 6880, 6884, 6912, 6924, 6932, 6933, 6936, 6939, 6948, 6951, 6956, 6957, 6962, 6963, 6972, 6977, 6993, 7024, 7034, 7055, 7056, 7058, 7075, 7078, 7080, 7101, 7121, 7124, 7151, 7154, 7157, 7165, 7171, 7177, 7180, 7193, 7195, 7197, 7212, 7233, 7235, 7267, 7274, 7280, 7299, 7310, 7311, 7331, 7351, 7364, 7368, 7376, 7381, 7388, 7391, 7397, 7400, 7403, 7407, 7408, 7412, 7413, 7417, 7424, 7426, 7443, 7445, 7447, 7450, 7461, 7469, 7492, 7501, 7510, 7512, 7522, 7524, 7542, 7543, 7545, 7551, 7562, 7579, 7583, 7594, 7598, 7599, 7601, 7603, 7605, 7612, 7648, 7654, 7658, 7674, 7680, 7682, 7697, 7704, 7713, 7718, 7739, 7759, 7769, 7775, 7784, 7788, 7789, 7791, 7794, 7797, 7801, 7803, 7818, 7821, 7824, 7832, 7845, 7851, 7880, 7882, 7897, 7898, 7901, 7907, 7927, 7930, 7933, 7936, 7945, 7949, 7960, 7978, 7981, 7985, 7995, 8001, 8007, 8009, 8014, 8016, 8036, 8044, 8046, 8051, 8056, 8059, 8068, 8071, 8075, 8109, 8128, 8129, 8146, 8148, 8164, 8166, 8182, 8187, 8188, 8191, 8196, 8198, 8201, 8206, 8207, 8216, 8229, 8246, 8250, 8259, 8267, 8271, 8272, 8275, 8295, 8304, 8306, 8320, 8332, 8341, 8347, 8348, 8351, 8365, 8366, 8370, 8373, 8385, 8397, 8408, 8410, 8434, 8471, 8475, 8517, 8521, 8523, 8540, 8545, 8546, 8548, 8557, 8574, 8578, 8582, 8585, 8618, 8621, 8628, 8634, 8642, 8643, 8646, 8647, 8652, 8653, 8656, 8660, 8664, 8671, 8676, 8685, 8688, 8700, 8704, 8723, 8727, 8744, 8751, 8756, 8768, 8774, 8785, 8786, 8790, 8801, 8807, 8818, 8823, 8827, 8831, 8835, 8839, 8843, 8848, 8858, 8866, 8867, 8883, 8885, 8888, 8905, 8920, 8922, 8924, 8941, 8945, 8948, 8954, 8956, 8957, 8960, 8961, 8963, 8972, 8978, 8995, 9012, 9019, 9024, 9035, 9056, 9058, 9064, 9065, 9069, 9073, 9081, 9087, 9097, 9110, 9114, 9154, 9155, 9164, 9165, 9180, 9198, 9234, 9235, 9237, 9263, 9275, 9283, 9287, 9296, 9308, 9314, 9318, 9323, 9326, 9329, 9330, 9334, 9337, 9342, 9355, 9363, 9371, 9393, 9397, 9398, 9413, 9432, 9444, 9448, 9453, 9456, 9462, 9464, 9469, 9471, 9490, 9505, 9518, 9519, 9523, 9532, 9536, 9547, 9548, 9569, 9573, 9600, 9613, 9616, 9617, 9620, 9625, 9626, 9638, 9645, 9656, 9668, 9674, 9682, 9689, 9710, 9712, 9747, 9751, 9771, 9792, 9795, 9816, 9823, 9842, 9851, 9855, 9862, 9867, 9875, 9877, 9879, 9893, 9905, 9907, 9916, 9923, 9926, 9928, 9929, 9946, 9956, 9962, 9968, 9971, 9973, 9975, 9978, 9985, 9987, 10028, 10037, 10044, 10049, 10054, 10055, 10059, 10060, 10061, 10071, 10072, 10073, 10080, 10084, 10094, 10109, 10114, 10119, 10153, 10160, 10171, 10172, 10173, 10188, 10197, 10217, 10239, 10243, 10246, 10249, 10251, 10266, 10267, 10268, 10302, 10303, 10305, 10319, 10321, 10343, 10353, 10382, 10402, 10404, 10409, 10414, 10418, 10421, 10422, 10439, 10447, 10458, 10464, 10471, 10481, 10486, 10489, 10546, 10548, 10579, 10597, 10603, 10608, 10614, 10620, 10622, 10629, 10633, 10636, 10645, 10658, 10659, 10666, 10678, 10690, 10692, 10701, 10703, 10706, 10710, 10716, 10721, 10731, 10733, 10736, 10737, 10742, 10755, 10805, 10806, 10819, 10828, 10839, 10847, 10862, 10863, 10867, 10881, 10885, 10887, 10896, 10908, 10913, 10919, 10920, 10921, 10923, 10931, 10935, 10961, 10974, 10987, 11010, 11017, 11024, 11029, 11045, 11061, 11063, 11082, 11096, 11099, 11124, 11129, 11135, 11137, 11156, 11157, 11160, 11179, 11186, 11210, 11219, 11221, 11228, 11229, 11240, 11253, 11262, 11269, 11282, 11288, 11296, 11306, 11308, 11313, 11326, 11331, 11338, 11349, 11360, 11371, 11406, 11413, 11416, 11439, 11447, 11456, 11457, 11465, 11476, 11482, 11485, 11491, 11499, 11503, 11508, 11517, 11523, 11526, 11541, 11554, 11564, 11573, 11576, 11586, 11603, 11605, 11606, 11608, 11611, 11613, 11616, 11618, 11633, 11638, 11647, 11651, 11655, 11660, 11663, 11668, 11675, 11676, 11677, 11684, 11691, 11712, 11719, 11729, 11752, 11755, 11766, 11772, 11776, 11779, 11786, 11789, 11832, 11854, 11873, 11878, 11881, 11909, 11931, 11932, 11934, 11943, 11949, 11971, 12010, 12011, 12016, 12057, 12060, 12078, 12090, 12103, 12105, 12106, 12110, 12118, 12119, 12130, 12143, 12144, 12146, 12147, 12156, 12159, 12165, 12176, 12179, 12191, 12196, 12200, 12201, 12213, 12226, 12238, 12244, 12246, 12259, 12262, 12264, 12276, 12285, 12287, 12288, 12296, 12298, 12299, 12301, 12308, 12315, 12319, 12327, 12341, 12354, 12389, 12394, 12412, 12426, 12427, 12456, 12457, 12459, 12461, 12466, 12476, 12487, 12495, 12501, 12504, 12509, 12514, 12524, 12525, 12526, 12537, 12538, 12590, 12594, 12615, 12620, 12629, 12631, 12639, 12640, 12641, 12642, 12644, 12654, 12658, 12661, 12663, 12676, 12681, 12686, 12694, 12707, 12726, 12736, 12751, 12753, 12773, 12787, 12789, 12803, 12806, 12809, 12841, 12848, 12861, 12869, 12870, 12874, 12877, 12881, 12889, 12890, 12893, 12895, 12899, 12905, 12906, 12907, 12931, 12935, 12938, 12940, 12954, 12979, 12996, 13018, 13019, 13022, 13044, 13046, 13051, 13056, 13060, 13061, 13063, 13066, 13067, 13081, 13085, 13086, 13094, 13107, 13111, 13124, 13128, 13129, 13142, 13149, 13161, 13163, 13168, 13173, 13174, 13176, 13177, 13186, 13187, 13190, 13193, 13201, 13209, 13217, 13230, 13235, 13236, 13238, 13247, 13254, 13261, 13294, 13308, 13310, 13334, 13339, 13345, 13354, 13356, 13363, 13368, 13372, 13375, 13376, 13383, 13384, 13389, 13398, 13402, 13403, 13404, 13407, 13412, 13413, 13414, 13423, 13427, 13431, 13437, 13455, 13459, 13460, 13478, 13485, 13488, 13492, 13493, 13501, 13521, 13556, 13568, 13576, 13586, 13588, 13609, 13619, 13620, 13631, 13643, 13649, 13651, 13668, 13669, 13675, 13689, 13723, 13728, 13729, 13738, 13739, 13751, 13754, 13762, 13784, 13788, 13794, 13802, 13804, 13834, 13835, 13836, 13844, 13850, 13869, 13886, 13888, 13889, 13891, 13899, 13905, 13920, 13927, 13933, 13953, 13967, 13997, 13998, 13999, 14025, 14037, 14039, 14042, 14049, 14066, 14081, 14083, 14091, 14101, 14111, 14113, 14121, 14144, 14149, 14159, 14165, 14167, 14169, 14170, 14172, 14177, 14204, 14205, 14215, 14230, 14233, 14234, 14255, 14261, 14268, 14289, 14316, 14340, 14342, 14349, 14357, 14360, 14366, 14375]\n"
          ],
          "name": "stdout"
        },
        {
          "output_type": "execute_result",
          "data": {
            "text/html": [
              "<div>\n",
              "<style scoped>\n",
              "    .dataframe tbody tr th:only-of-type {\n",
              "        vertical-align: middle;\n",
              "    }\n",
              "\n",
              "    .dataframe tbody tr th {\n",
              "        vertical-align: top;\n",
              "    }\n",
              "\n",
              "    .dataframe thead th {\n",
              "        text-align: right;\n",
              "    }\n",
              "</style>\n",
              "<table border=\"1\" class=\"dataframe\">\n",
              "  <thead>\n",
              "    <tr style=\"text-align: right;\">\n",
              "      <th></th>\n",
              "      <th>Harga</th>\n",
              "      <th>Merek</th>\n",
              "      <th>Model</th>\n",
              "      <th>Tahun</th>\n",
              "      <th>Jarak tempuh</th>\n",
              "      <th>Tipe bahan bakar</th>\n",
              "      <th>Warna</th>\n",
              "      <th>Transmisi</th>\n",
              "      <th>Kapasitas mesin</th>\n",
              "      <th>Tipe Penjual</th>\n",
              "      <th>Sistem Penggerak</th>\n",
              "      <th>Provinsi</th>\n",
              "    </tr>\n",
              "  </thead>\n",
              "  <tbody>\n",
              "    <tr>\n",
              "      <th>0</th>\n",
              "      <td>155000792.0</td>\n",
              "      <td>BMW</td>\n",
              "      <td>Serie 3</td>\n",
              "      <td>2006</td>\n",
              "      <td>85.000-90.000 km</td>\n",
              "      <td>Bensin</td>\n",
              "      <td>Hitam</td>\n",
              "      <td>Automatic</td>\n",
              "      <td>&gt;1.500 - 2.000 cc</td>\n",
              "      <td>Individu</td>\n",
              "      <td>Rear Wheel Drive (RWD)</td>\n",
              "      <td>Jawa Tengah</td>\n",
              "    </tr>\n",
              "    <tr>\n",
              "      <th>1</th>\n",
              "      <td>56000000.0</td>\n",
              "      <td>Hyundai</td>\n",
              "      <td>Getz</td>\n",
              "      <td>2005</td>\n",
              "      <td>0-5.000 km</td>\n",
              "      <td>Bensin</td>\n",
              "      <td>Biru</td>\n",
              "      <td>Manual</td>\n",
              "      <td>&gt;1.000 - 1.500 cc</td>\n",
              "      <td>Individu</td>\n",
              "      <td>Front Wheel Drive (FWD)</td>\n",
              "      <td>Sumatra Utara</td>\n",
              "    </tr>\n",
              "    <tr>\n",
              "      <th>3</th>\n",
              "      <td>169000000.0</td>\n",
              "      <td>Isuzu</td>\n",
              "      <td>Grand touring</td>\n",
              "      <td>2010</td>\n",
              "      <td>100.000-105.000 km</td>\n",
              "      <td>Diesel</td>\n",
              "      <td>Coklat</td>\n",
              "      <td>Manual</td>\n",
              "      <td>&gt;2.000 - 3.000 cc</td>\n",
              "      <td>Diler</td>\n",
              "      <td>4X2</td>\n",
              "      <td>Jawa Timur</td>\n",
              "    </tr>\n",
              "    <tr>\n",
              "      <th>4</th>\n",
              "      <td>120000000.0</td>\n",
              "      <td>Proton</td>\n",
              "      <td>Lain-lain</td>\n",
              "      <td>2010</td>\n",
              "      <td>75.000-80.000 km</td>\n",
              "      <td>Bensin</td>\n",
              "      <td>Oranye</td>\n",
              "      <td>Manual</td>\n",
              "      <td>&gt;1.500 - 2.000 cc</td>\n",
              "      <td>Individu</td>\n",
              "      <td>Rear Wheel Drive (RWD)</td>\n",
              "      <td>Jakarta D.K.I.</td>\n",
              "    </tr>\n",
              "    <tr>\n",
              "      <th>6</th>\n",
              "      <td>420000000.0</td>\n",
              "      <td>Mercedes-Benz</td>\n",
              "      <td>SLK</td>\n",
              "      <td>2005</td>\n",
              "      <td>40.000-45.000 km</td>\n",
              "      <td>Bensin</td>\n",
              "      <td>Silver</td>\n",
              "      <td>Automatic</td>\n",
              "      <td>&gt;1.500 - 2.000 cc</td>\n",
              "      <td>Individu</td>\n",
              "      <td>Rear Wheel Drive (RWD)</td>\n",
              "      <td>Banten</td>\n",
              "    </tr>\n",
              "  </tbody>\n",
              "</table>\n",
              "</div>"
            ],
            "text/plain": [
              "         Harga          Merek  ...         Sistem Penggerak        Provinsi\n",
              "0  155000792.0            BMW  ...   Rear Wheel Drive (RWD)     Jawa Tengah\n",
              "1   56000000.0        Hyundai  ...  Front Wheel Drive (FWD)   Sumatra Utara\n",
              "3  169000000.0          Isuzu  ...                      4X2      Jawa Timur\n",
              "4  120000000.0         Proton  ...   Rear Wheel Drive (RWD)  Jakarta D.K.I.\n",
              "6  420000000.0  Mercedes-Benz  ...   Rear Wheel Drive (RWD)          Banten\n",
              "\n",
              "[5 rows x 12 columns]"
            ]
          },
          "metadata": {
            "tags": []
          },
          "execution_count": 23
        }
      ]
    },
    {
      "cell_type": "code",
      "metadata": {
        "id": "PEFJG4qX9MFN",
        "colab_type": "code",
        "colab": {
          "base_uri": "https://localhost:8080/",
          "height": 310
        },
        "outputId": "dee77337-7b34-4b9f-8e02-8e870b8efc46"
      },
      "source": [
        "# Turn 'Jarak tempuh' and 'Kapasitas mesin' to numerical data\n",
        "for index, row in newdf.iterrows():\n",
        "    newdf.at[index, 'Jarak tempuh'] = row['Jarak tempuh'].split('-')[-1].replace(' km', '').replace('<', '').replace('>', '')\n",
        "    \n",
        "    newdf.at[index, 'Kapasitas mesin'] = row['Kapasitas mesin'].split('-')[-1][1:].replace(' cc', '')\n",
        "\n",
        "newdf.head()"
      ],
      "execution_count": 24,
      "outputs": [
        {
          "output_type": "execute_result",
          "data": {
            "text/html": [
              "<div>\n",
              "<style scoped>\n",
              "    .dataframe tbody tr th:only-of-type {\n",
              "        vertical-align: middle;\n",
              "    }\n",
              "\n",
              "    .dataframe tbody tr th {\n",
              "        vertical-align: top;\n",
              "    }\n",
              "\n",
              "    .dataframe thead th {\n",
              "        text-align: right;\n",
              "    }\n",
              "</style>\n",
              "<table border=\"1\" class=\"dataframe\">\n",
              "  <thead>\n",
              "    <tr style=\"text-align: right;\">\n",
              "      <th></th>\n",
              "      <th>Harga</th>\n",
              "      <th>Merek</th>\n",
              "      <th>Model</th>\n",
              "      <th>Tahun</th>\n",
              "      <th>Jarak tempuh</th>\n",
              "      <th>Tipe bahan bakar</th>\n",
              "      <th>Warna</th>\n",
              "      <th>Transmisi</th>\n",
              "      <th>Kapasitas mesin</th>\n",
              "      <th>Tipe Penjual</th>\n",
              "      <th>Sistem Penggerak</th>\n",
              "      <th>Provinsi</th>\n",
              "    </tr>\n",
              "  </thead>\n",
              "  <tbody>\n",
              "    <tr>\n",
              "      <th>0</th>\n",
              "      <td>155000792.0</td>\n",
              "      <td>BMW</td>\n",
              "      <td>Serie 3</td>\n",
              "      <td>2006</td>\n",
              "      <td>90.000</td>\n",
              "      <td>Bensin</td>\n",
              "      <td>Hitam</td>\n",
              "      <td>Automatic</td>\n",
              "      <td>2.000</td>\n",
              "      <td>Individu</td>\n",
              "      <td>Rear Wheel Drive (RWD)</td>\n",
              "      <td>Jawa Tengah</td>\n",
              "    </tr>\n",
              "    <tr>\n",
              "      <th>1</th>\n",
              "      <td>56000000.0</td>\n",
              "      <td>Hyundai</td>\n",
              "      <td>Getz</td>\n",
              "      <td>2005</td>\n",
              "      <td>5.000</td>\n",
              "      <td>Bensin</td>\n",
              "      <td>Biru</td>\n",
              "      <td>Manual</td>\n",
              "      <td>1.500</td>\n",
              "      <td>Individu</td>\n",
              "      <td>Front Wheel Drive (FWD)</td>\n",
              "      <td>Sumatra Utara</td>\n",
              "    </tr>\n",
              "    <tr>\n",
              "      <th>3</th>\n",
              "      <td>169000000.0</td>\n",
              "      <td>Isuzu</td>\n",
              "      <td>Grand touring</td>\n",
              "      <td>2010</td>\n",
              "      <td>105.000</td>\n",
              "      <td>Diesel</td>\n",
              "      <td>Coklat</td>\n",
              "      <td>Manual</td>\n",
              "      <td>3.000</td>\n",
              "      <td>Diler</td>\n",
              "      <td>4X2</td>\n",
              "      <td>Jawa Timur</td>\n",
              "    </tr>\n",
              "    <tr>\n",
              "      <th>4</th>\n",
              "      <td>120000000.0</td>\n",
              "      <td>Proton</td>\n",
              "      <td>Lain-lain</td>\n",
              "      <td>2010</td>\n",
              "      <td>80.000</td>\n",
              "      <td>Bensin</td>\n",
              "      <td>Oranye</td>\n",
              "      <td>Manual</td>\n",
              "      <td>2.000</td>\n",
              "      <td>Individu</td>\n",
              "      <td>Rear Wheel Drive (RWD)</td>\n",
              "      <td>Jakarta D.K.I.</td>\n",
              "    </tr>\n",
              "    <tr>\n",
              "      <th>6</th>\n",
              "      <td>420000000.0</td>\n",
              "      <td>Mercedes-Benz</td>\n",
              "      <td>SLK</td>\n",
              "      <td>2005</td>\n",
              "      <td>45.000</td>\n",
              "      <td>Bensin</td>\n",
              "      <td>Silver</td>\n",
              "      <td>Automatic</td>\n",
              "      <td>2.000</td>\n",
              "      <td>Individu</td>\n",
              "      <td>Rear Wheel Drive (RWD)</td>\n",
              "      <td>Banten</td>\n",
              "    </tr>\n",
              "  </tbody>\n",
              "</table>\n",
              "</div>"
            ],
            "text/plain": [
              "         Harga          Merek  ...         Sistem Penggerak        Provinsi\n",
              "0  155000792.0            BMW  ...   Rear Wheel Drive (RWD)     Jawa Tengah\n",
              "1   56000000.0        Hyundai  ...  Front Wheel Drive (FWD)   Sumatra Utara\n",
              "3  169000000.0          Isuzu  ...                      4X2      Jawa Timur\n",
              "4  120000000.0         Proton  ...   Rear Wheel Drive (RWD)  Jakarta D.K.I.\n",
              "6  420000000.0  Mercedes-Benz  ...   Rear Wheel Drive (RWD)          Banten\n",
              "\n",
              "[5 rows x 12 columns]"
            ]
          },
          "metadata": {
            "tags": []
          },
          "execution_count": 24
        }
      ]
    },
    {
      "cell_type": "code",
      "metadata": {
        "id": "A4B2Li1t9MOr",
        "colab_type": "code",
        "colab": {
          "base_uri": "https://localhost:8080/",
          "height": 52
        },
        "outputId": "9c4c85f5-913a-4391-9d8a-aa667aa8ef23"
      },
      "source": [
        "# Drop rows with value 0 in columns 'Sistem Penggerak' and 'Tipe Penjual'\n",
        "indexes = []\n",
        "\n",
        "for index, row in newdf.iterrows():\n",
        "    if row['Sistem Penggerak'] == 0 or row['Tipe Penjual'] == 0:\n",
        "        indexes.append(index)\n",
        "        \n",
        "print(indexes)\n",
        "newdf = newdf.drop(indexes)\n",
        "\n",
        "print(newdf.shape)"
      ],
      "execution_count": 25,
      "outputs": [
        {
          "output_type": "stream",
          "text": [
            "[558, 2974, 3726, 3753, 6540, 7810, 8282, 9135, 9156, 10362, 11356, 11921, 12197, 12827]\n",
            "(12405, 12)\n"
          ],
          "name": "stdout"
        }
      ]
    },
    {
      "cell_type": "code",
      "metadata": {
        "id": "AfWQmYTP9Mez",
        "colab_type": "code",
        "colab": {
          "base_uri": "https://localhost:8080/",
          "height": 243
        },
        "outputId": "0d19bd8d-8140-4243-cfae-46956683b5f9"
      },
      "source": [
        "newdf.isnull().sum()"
      ],
      "execution_count": 26,
      "outputs": [
        {
          "output_type": "execute_result",
          "data": {
            "text/plain": [
              "Harga               0\n",
              "Merek               0\n",
              "Model               0\n",
              "Tahun               0\n",
              "Jarak tempuh        0\n",
              "Tipe bahan bakar    0\n",
              "Warna               0\n",
              "Transmisi           0\n",
              "Kapasitas mesin     0\n",
              "Tipe Penjual        0\n",
              "Sistem Penggerak    0\n",
              "Provinsi            0\n",
              "dtype: int64"
            ]
          },
          "metadata": {
            "tags": []
          },
          "execution_count": 26
        }
      ]
    },
    {
      "cell_type": "code",
      "metadata": {
        "id": "vZANEIPL9MZ0",
        "colab_type": "code",
        "colab": {
          "base_uri": "https://localhost:8080/",
          "height": 206
        },
        "outputId": "ef4e8227-cb82-4b17-87e5-363fe559c710"
      },
      "source": [
        "newdf = newdf.drop(['Tahun', 'Jarak tempuh', 'Kapasitas mesin'], axis=1)\n",
        "newdf['Harga'] /= 1000000\n",
        "newdf.head()"
      ],
      "execution_count": 27,
      "outputs": [
        {
          "output_type": "execute_result",
          "data": {
            "text/html": [
              "<div>\n",
              "<style scoped>\n",
              "    .dataframe tbody tr th:only-of-type {\n",
              "        vertical-align: middle;\n",
              "    }\n",
              "\n",
              "    .dataframe tbody tr th {\n",
              "        vertical-align: top;\n",
              "    }\n",
              "\n",
              "    .dataframe thead th {\n",
              "        text-align: right;\n",
              "    }\n",
              "</style>\n",
              "<table border=\"1\" class=\"dataframe\">\n",
              "  <thead>\n",
              "    <tr style=\"text-align: right;\">\n",
              "      <th></th>\n",
              "      <th>Harga</th>\n",
              "      <th>Merek</th>\n",
              "      <th>Model</th>\n",
              "      <th>Tipe bahan bakar</th>\n",
              "      <th>Warna</th>\n",
              "      <th>Transmisi</th>\n",
              "      <th>Tipe Penjual</th>\n",
              "      <th>Sistem Penggerak</th>\n",
              "      <th>Provinsi</th>\n",
              "    </tr>\n",
              "  </thead>\n",
              "  <tbody>\n",
              "    <tr>\n",
              "      <th>0</th>\n",
              "      <td>155.000792</td>\n",
              "      <td>BMW</td>\n",
              "      <td>Serie 3</td>\n",
              "      <td>Bensin</td>\n",
              "      <td>Hitam</td>\n",
              "      <td>Automatic</td>\n",
              "      <td>Individu</td>\n",
              "      <td>Rear Wheel Drive (RWD)</td>\n",
              "      <td>Jawa Tengah</td>\n",
              "    </tr>\n",
              "    <tr>\n",
              "      <th>1</th>\n",
              "      <td>56.000000</td>\n",
              "      <td>Hyundai</td>\n",
              "      <td>Getz</td>\n",
              "      <td>Bensin</td>\n",
              "      <td>Biru</td>\n",
              "      <td>Manual</td>\n",
              "      <td>Individu</td>\n",
              "      <td>Front Wheel Drive (FWD)</td>\n",
              "      <td>Sumatra Utara</td>\n",
              "    </tr>\n",
              "    <tr>\n",
              "      <th>3</th>\n",
              "      <td>169.000000</td>\n",
              "      <td>Isuzu</td>\n",
              "      <td>Grand touring</td>\n",
              "      <td>Diesel</td>\n",
              "      <td>Coklat</td>\n",
              "      <td>Manual</td>\n",
              "      <td>Diler</td>\n",
              "      <td>4X2</td>\n",
              "      <td>Jawa Timur</td>\n",
              "    </tr>\n",
              "    <tr>\n",
              "      <th>4</th>\n",
              "      <td>120.000000</td>\n",
              "      <td>Proton</td>\n",
              "      <td>Lain-lain</td>\n",
              "      <td>Bensin</td>\n",
              "      <td>Oranye</td>\n",
              "      <td>Manual</td>\n",
              "      <td>Individu</td>\n",
              "      <td>Rear Wheel Drive (RWD)</td>\n",
              "      <td>Jakarta D.K.I.</td>\n",
              "    </tr>\n",
              "    <tr>\n",
              "      <th>6</th>\n",
              "      <td>420.000000</td>\n",
              "      <td>Mercedes-Benz</td>\n",
              "      <td>SLK</td>\n",
              "      <td>Bensin</td>\n",
              "      <td>Silver</td>\n",
              "      <td>Automatic</td>\n",
              "      <td>Individu</td>\n",
              "      <td>Rear Wheel Drive (RWD)</td>\n",
              "      <td>Banten</td>\n",
              "    </tr>\n",
              "  </tbody>\n",
              "</table>\n",
              "</div>"
            ],
            "text/plain": [
              "        Harga          Merek  ...         Sistem Penggerak        Provinsi\n",
              "0  155.000792            BMW  ...   Rear Wheel Drive (RWD)     Jawa Tengah\n",
              "1   56.000000        Hyundai  ...  Front Wheel Drive (FWD)   Sumatra Utara\n",
              "3  169.000000          Isuzu  ...                      4X2      Jawa Timur\n",
              "4  120.000000         Proton  ...   Rear Wheel Drive (RWD)  Jakarta D.K.I.\n",
              "6  420.000000  Mercedes-Benz  ...   Rear Wheel Drive (RWD)          Banten\n",
              "\n",
              "[5 rows x 9 columns]"
            ]
          },
          "metadata": {
            "tags": []
          },
          "execution_count": 27
        }
      ]
    },
    {
      "cell_type": "code",
      "metadata": {
        "id": "rso7W-4TPxJn",
        "colab_type": "code",
        "colab": {
          "base_uri": "https://localhost:8080/",
          "height": 206
        },
        "outputId": "5c23ef8e-9a3c-45ea-d5b4-0b233ef8689e"
      },
      "source": [
        "for index, row in newdf.iterrows():\n",
        "  if row['Harga'] <= 200:\n",
        "    newdf.at[index, 'Jenis'] = 'LGCC'\n",
        "  if row['Harga'] > 200 and row['Harga'] <= 500:\n",
        "    newdf.at[index, 'Jenis'] = 'Mid'\n",
        "  if row['Harga'] > 500:\n",
        "    newdf.at[index, 'Jenis'] = 'High'\n",
        "\n",
        "\n",
        "newdf2 = newdf.drop(['Harga'], axis=1)\n",
        "newdf2.head()"
      ],
      "execution_count": 28,
      "outputs": [
        {
          "output_type": "execute_result",
          "data": {
            "text/html": [
              "<div>\n",
              "<style scoped>\n",
              "    .dataframe tbody tr th:only-of-type {\n",
              "        vertical-align: middle;\n",
              "    }\n",
              "\n",
              "    .dataframe tbody tr th {\n",
              "        vertical-align: top;\n",
              "    }\n",
              "\n",
              "    .dataframe thead th {\n",
              "        text-align: right;\n",
              "    }\n",
              "</style>\n",
              "<table border=\"1\" class=\"dataframe\">\n",
              "  <thead>\n",
              "    <tr style=\"text-align: right;\">\n",
              "      <th></th>\n",
              "      <th>Merek</th>\n",
              "      <th>Model</th>\n",
              "      <th>Tipe bahan bakar</th>\n",
              "      <th>Warna</th>\n",
              "      <th>Transmisi</th>\n",
              "      <th>Tipe Penjual</th>\n",
              "      <th>Sistem Penggerak</th>\n",
              "      <th>Provinsi</th>\n",
              "      <th>Jenis</th>\n",
              "    </tr>\n",
              "  </thead>\n",
              "  <tbody>\n",
              "    <tr>\n",
              "      <th>0</th>\n",
              "      <td>BMW</td>\n",
              "      <td>Serie 3</td>\n",
              "      <td>Bensin</td>\n",
              "      <td>Hitam</td>\n",
              "      <td>Automatic</td>\n",
              "      <td>Individu</td>\n",
              "      <td>Rear Wheel Drive (RWD)</td>\n",
              "      <td>Jawa Tengah</td>\n",
              "      <td>LGCC</td>\n",
              "    </tr>\n",
              "    <tr>\n",
              "      <th>1</th>\n",
              "      <td>Hyundai</td>\n",
              "      <td>Getz</td>\n",
              "      <td>Bensin</td>\n",
              "      <td>Biru</td>\n",
              "      <td>Manual</td>\n",
              "      <td>Individu</td>\n",
              "      <td>Front Wheel Drive (FWD)</td>\n",
              "      <td>Sumatra Utara</td>\n",
              "      <td>LGCC</td>\n",
              "    </tr>\n",
              "    <tr>\n",
              "      <th>3</th>\n",
              "      <td>Isuzu</td>\n",
              "      <td>Grand touring</td>\n",
              "      <td>Diesel</td>\n",
              "      <td>Coklat</td>\n",
              "      <td>Manual</td>\n",
              "      <td>Diler</td>\n",
              "      <td>4X2</td>\n",
              "      <td>Jawa Timur</td>\n",
              "      <td>LGCC</td>\n",
              "    </tr>\n",
              "    <tr>\n",
              "      <th>4</th>\n",
              "      <td>Proton</td>\n",
              "      <td>Lain-lain</td>\n",
              "      <td>Bensin</td>\n",
              "      <td>Oranye</td>\n",
              "      <td>Manual</td>\n",
              "      <td>Individu</td>\n",
              "      <td>Rear Wheel Drive (RWD)</td>\n",
              "      <td>Jakarta D.K.I.</td>\n",
              "      <td>LGCC</td>\n",
              "    </tr>\n",
              "    <tr>\n",
              "      <th>6</th>\n",
              "      <td>Mercedes-Benz</td>\n",
              "      <td>SLK</td>\n",
              "      <td>Bensin</td>\n",
              "      <td>Silver</td>\n",
              "      <td>Automatic</td>\n",
              "      <td>Individu</td>\n",
              "      <td>Rear Wheel Drive (RWD)</td>\n",
              "      <td>Banten</td>\n",
              "      <td>Mid</td>\n",
              "    </tr>\n",
              "  </tbody>\n",
              "</table>\n",
              "</div>"
            ],
            "text/plain": [
              "           Merek          Model  ...        Provinsi Jenis\n",
              "0            BMW        Serie 3  ...     Jawa Tengah  LGCC\n",
              "1        Hyundai           Getz  ...   Sumatra Utara  LGCC\n",
              "3          Isuzu  Grand touring  ...      Jawa Timur  LGCC\n",
              "4         Proton      Lain-lain  ...  Jakarta D.K.I.  LGCC\n",
              "6  Mercedes-Benz            SLK  ...          Banten   Mid\n",
              "\n",
              "[5 rows x 9 columns]"
            ]
          },
          "metadata": {
            "tags": []
          },
          "execution_count": 28
        }
      ]
    },
    {
      "cell_type": "code",
      "metadata": {
        "id": "rnxlaOUxCFWT",
        "colab_type": "code",
        "colab": {
          "base_uri": "https://localhost:8080/",
          "height": 243
        },
        "outputId": "ac9312ab-3dd0-4a80-cac7-896aeb1041ed"
      },
      "source": [
        "newdf2.values"
      ],
      "execution_count": 29,
      "outputs": [
        {
          "output_type": "execute_result",
          "data": {
            "text/plain": [
              "array([['BMW', 'Serie 3', 'Bensin', ..., 'Rear Wheel Drive (RWD)',\n",
              "        'Jawa Tengah', 'LGCC'],\n",
              "       ['Hyundai', 'Getz', 'Bensin', ..., 'Front Wheel Drive (FWD)',\n",
              "        'Sumatra Utara', 'LGCC'],\n",
              "       ['Isuzu', 'Grand touring', 'Diesel', ..., '4X2', 'Jawa Timur',\n",
              "        'LGCC'],\n",
              "       ...,\n",
              "       ['Mercedes-Benz', 'C-Class', 'Bensin', ...,\n",
              "        'Rear Wheel Drive (RWD)', 'Banten', 'Mid'],\n",
              "       ['Mercedes-Benz', 'CLA-Class', 'Bensin', ...,\n",
              "        'Front Wheel Drive (FWD)', 'Jakarta D.K.I.', 'High'],\n",
              "       ['Mitsubishi', 'Xpander', 'Bensin', ..., '4X2', 'Jakarta D.K.I.',\n",
              "        'Mid']], dtype=object)"
            ]
          },
          "metadata": {
            "tags": []
          },
          "execution_count": 29
        }
      ]
    },
    {
      "cell_type": "code",
      "metadata": {
        "id": "Db70KJrk9MXw",
        "colab_type": "code",
        "colab": {
          "base_uri": "https://localhost:8080/",
          "height": 208
        },
        "outputId": "957faf34-bbab-4ae0-8d78-6b3ad4d5ce34"
      },
      "source": [
        "newdf2.values\n",
        "dataset = newdf2.values\n",
        "print(dataset)"
      ],
      "execution_count": 30,
      "outputs": [
        {
          "output_type": "stream",
          "text": [
            "[['BMW' 'Serie 3' 'Bensin' ... 'Rear Wheel Drive (RWD)' 'Jawa Tengah'\n",
            "  'LGCC']\n",
            " ['Hyundai' 'Getz' 'Bensin' ... 'Front Wheel Drive (FWD)' 'Sumatra Utara'\n",
            "  'LGCC']\n",
            " ['Isuzu' 'Grand touring' 'Diesel' ... '4X2' 'Jawa Timur' 'LGCC']\n",
            " ...\n",
            " ['Mercedes-Benz' 'C-Class' 'Bensin' ... 'Rear Wheel Drive (RWD)'\n",
            "  'Banten' 'Mid']\n",
            " ['Mercedes-Benz' 'CLA-Class' 'Bensin' ... 'Front Wheel Drive (FWD)'\n",
            "  'Jakarta D.K.I.' 'High']\n",
            " ['Mitsubishi' 'Xpander' 'Bensin' ... '4X2' 'Jakarta D.K.I.' 'Mid']]\n"
          ],
          "name": "stdout"
        }
      ]
    },
    {
      "cell_type": "code",
      "metadata": {
        "id": "VAmx-e8WFu7m",
        "colab_type": "code",
        "colab": {
          "base_uri": "https://localhost:8080/",
          "height": 208
        },
        "outputId": "db166a41-4eac-4d4e-dd37-4a62c1596ab5"
      },
      "source": [
        "X = dataset[:, :-1]\n",
        "X = X.astype(str)\n",
        "print(X)"
      ],
      "execution_count": 31,
      "outputs": [
        {
          "output_type": "stream",
          "text": [
            "[['BMW' 'Serie 3' 'Bensin' ... 'Individu' 'Rear Wheel Drive (RWD)'\n",
            "  'Jawa Tengah']\n",
            " ['Hyundai' 'Getz' 'Bensin' ... 'Individu' 'Front Wheel Drive (FWD)'\n",
            "  'Sumatra Utara']\n",
            " ['Isuzu' 'Grand touring' 'Diesel' ... 'Diler' '4X2' 'Jawa Timur']\n",
            " ...\n",
            " ['Mercedes-Benz' 'C-Class' 'Bensin' ... 'Individu'\n",
            "  'Rear Wheel Drive (RWD)' 'Banten']\n",
            " ['Mercedes-Benz' 'CLA-Class' 'Bensin' ... 'Diler'\n",
            "  'Front Wheel Drive (FWD)' 'Jakarta D.K.I.']\n",
            " ['Mitsubishi' 'Xpander' 'Bensin' ... 'Individu' '4X2' 'Jakarta D.K.I.']]\n"
          ],
          "name": "stdout"
        }
      ]
    },
    {
      "cell_type": "code",
      "metadata": {
        "id": "VPNzh6w1FyW9",
        "colab_type": "code",
        "colab": {
          "base_uri": "https://localhost:8080/",
          "height": 34
        },
        "outputId": "c06bb53f-5053-43ad-f459-9dcdad1acd2f"
      },
      "source": [
        "y = dataset[:, -1]\n",
        "print(y)"
      ],
      "execution_count": 32,
      "outputs": [
        {
          "output_type": "stream",
          "text": [
            "['LGCC' 'LGCC' 'LGCC' ... 'Mid' 'High' 'Mid']\n"
          ],
          "name": "stdout"
        }
      ]
    },
    {
      "cell_type": "code",
      "metadata": {
        "id": "4l2LWgTPFy0E",
        "colab_type": "code",
        "colab": {}
      },
      "source": [
        "# prepare input data\n",
        "def prepare_inputs(X_train, X_test):\n",
        "\toe = OrdinalEncoder()\n",
        "\toe.fit(X_train)\n",
        "\tX_train_enc = oe.transform(X_train)\n",
        "\tX_test_enc = oe.transform(X_test)\n",
        "\treturn X_train_enc, X_test_enc\n",
        "\n",
        "# prepare target\n",
        "def prepare_targets(y_train, y_test):\n",
        "\tle = LabelEncoder()\n",
        "\tle.fit(y_train)\n",
        "\ty_train_enc = le.transform(y_train)\n",
        "\ty_test_enc = le.transform(y_test)\n",
        "\treturn y_train_enc, y_test_enc\n",
        "\n",
        "# feature selection\n",
        "def select_features(X_train, y_train, X_test):\n",
        "\tfs = SelectKBest(score_func=mutual_info_classif, k='all')\n",
        "\tfs.fit(X_train, y_train)\n",
        "\tX_train_fs = fs.transform(X_train)\n",
        "\tX_test_fs = fs.transform(X_test)\n",
        "\treturn X_train_fs, X_test_fs, fs"
      ],
      "execution_count": 0,
      "outputs": []
    },
    {
      "cell_type": "code",
      "metadata": {
        "id": "LzWa-MGcFy45",
        "colab_type": "code",
        "colab": {
          "base_uri": "https://localhost:8080/",
          "height": 404
        },
        "outputId": "0b66fb95-3d21-45b6-c178-b4203f487fa0"
      },
      "source": [
        "X_train, X_test, y_train, y_test = train_test_split(X, y, test_size=0.01, random_state=1)\n",
        "# prepare input data\n",
        "X_train_enc, X_test_enc = prepare_inputs(X_train, X_test)\n",
        "# prepare output data\n",
        "y_train_enc, y_test_enc = prepare_targets(y_train, y_test)\n",
        "# feature selection\n",
        "X_train_fs, X_test_fs, fs = select_features(X_train_enc, y_train_enc, X_test_enc)\n",
        "# what are scores for the features\n",
        "for i in range(len(fs.scores_)):\n",
        "\tprint('Feature %d: %f' % (i, fs.scores_[i]))\n",
        "# plot the scores\n",
        "pyplot.bar([i for i in range(len(fs.scores_))], fs.scores_)\n",
        "pyplot.show()"
      ],
      "execution_count": 39,
      "outputs": [
        {
          "output_type": "stream",
          "text": [
            "Feature 0: 0.232900\n",
            "Feature 1: 0.392538\n",
            "Feature 2: 0.010662\n",
            "Feature 3: 0.040958\n",
            "Feature 4: 0.123465\n",
            "Feature 5: 0.051512\n",
            "Feature 6: 0.020760\n",
            "Feature 7: 0.003327\n"
          ],
          "name": "stdout"
        },
        {
          "output_type": "display_data",
          "data": {
            "image/png": "[encoded data removed]",
            "text/plain": [
              "<Figure size 432x288 with 1 Axes>"
            ]
          },
          "metadata": {
            "tags": [],
            "needs_background": "light"
          }
        }
      ]
    },
    {
      "cell_type": "code",
      "metadata": {
        "id": "6xxK4BdJFy_b",
        "colab_type": "code",
        "colab": {}
      },
      "source": [
        "## from the result above, features which is more relevant to the car price are Merek, Model, and Transmisi"
      ],
      "execution_count": 0,
      "outputs": []
    }
  ]
}