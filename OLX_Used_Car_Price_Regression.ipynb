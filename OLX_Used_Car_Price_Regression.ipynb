{
  "nbformat": 4,
  "nbformat_minor": 0,
  "metadata": {
    "kernelspec": {
      "language": "python",
      "display_name": "Python 3",
      "name": "python3"
    },
    "language_info": {
      "pygments_lexer": "ipython3",
      "nbconvert_exporter": "python",
      "version": "3.6.4",
      "file_extension": ".py",
      "codemirror_mode": {
        "name": "ipython",
        "version": 3
      },
      "name": "python",
      "mimetype": "text/x-python"
    },
    "colab": {
      "name": "OLX Used Car Price Regression.ipynb",
      "provenance": [],
      "collapsed_sections": []
    }
  },
  "cells": [
    {
      "cell_type": "code",
      "metadata": {
        "id": "DNxHpAT902Vy",
        "colab_type": "code",
        "outputId": "8890c9d7-b4ac-40a7-dee8-57bb099731fc",
        "colab": {
          "base_uri": "https://localhost:8080/",
          "height": 122
        }
      },
      "source": [
        "from google.colab import drive\n",
        "drive.mount('/content/gdrive')\n",
        "root_path = 'gdrive/My Drive/Colab Notebooks/'"
      ],
      "execution_count": 1,
      "outputs": [
        {
          "output_type": "stream",
          "text": [
            "Go to this URL in a browser: https://accounts.google.com/o/oauth2/auth?client_id=947318989803-6bn6qk8qdgf4n4g3pfee6491hc0brc4i.apps.googleusercontent.com&redirect_uri=urn%3aietf%3awg%3aoauth%3a2.0%3aoob&response_type=code&scope=email%20https%3a%2f%2fwww.googleapis.com%2fauth%2fdocs.test%20https%3a%2f%2fwww.googleapis.com%2fauth%2fdrive%20https%3a%2f%2fwww.googleapis.com%2fauth%2fdrive.photos.readonly%20https%3a%2f%2fwww.googleapis.com%2fauth%2fpeopleapi.readonly\n",
            "\n",
            "Enter your authorization code:\n",
            "··········\n",
            "Mounted at /content/gdrive\n"
          ],
          "name": "stdout"
        }
      ]
    },
    {
      "cell_type": "code",
      "metadata": {
        "_uuid": "8f2839f25d086af736a60e9eeb907d3b93b6e0e5",
        "_cell_guid": "b1076dfc-b9ad-4769-8c92-a6c4dae69d19",
        "trusted": true,
        "id": "ZxJc1EXoUA_O",
        "colab_type": "code",
        "colab": {
          "base_uri": "https://localhost:8080/",
          "height": 71
        },
        "outputId": "dc8ad4f1-6c19-48aa-e67c-2f0b229af8ba"
      },
      "source": [
        "import numpy as np \n",
        "import pandas as pd \n",
        "import seaborn as sns\n",
        "import matplotlib.pyplot as plt\n",
        "from scipy import stats\n",
        "from math import isnan"
      ],
      "execution_count": 2,
      "outputs": [
        {
          "output_type": "stream",
          "text": [
            "/usr/local/lib/python3.6/dist-packages/statsmodels/tools/_testing.py:19: FutureWarning: pandas.util.testing is deprecated. Use the functions in the public API at pandas.testing instead.\n",
            "  import pandas.util.testing as tm\n"
          ],
          "name": "stderr"
        }
      ]
    },
    {
      "cell_type": "code",
      "metadata": {
        "id": "9lduvWeowOgC",
        "colab_type": "code",
        "outputId": "27694632-a693-4d50-951b-dbc456d0d455",
        "colab": {
          "base_uri": "https://localhost:8080/",
          "height": 34
        }
      },
      "source": [
        "import tensorflow as tf\n",
        "\n",
        "from tensorflow import keras\n",
        "from tensorflow import feature_column\n",
        "from tensorflow.keras import layers\n",
        "\n",
        "print(tf.__version__)"
      ],
      "execution_count": 3,
      "outputs": [
        {
          "output_type": "stream",
          "text": [
            "2.2.0-rc2\n"
          ],
          "name": "stdout"
        }
      ]
    },
    {
      "cell_type": "code",
      "metadata": {
        "id": "omnm5_lX1Wl4",
        "colab_type": "code",
        "colab": {}
      },
      "source": [
        "df = pd.read_csv(root_path + 'mobilbekas.csv')"
      ],
      "execution_count": 0,
      "outputs": []
    },
    {
      "cell_type": "code",
      "metadata": {
        "id": "-4AXAAJUacqX",
        "colab_type": "code",
        "outputId": "65add21a-02de-41e9-fd25-d80e3516d5d7",
        "colab": {
          "base_uri": "https://localhost:8080/",
          "height": 34
        }
      },
      "source": [
        "df.shape"
      ],
      "execution_count": 5,
      "outputs": [
        {
          "output_type": "execute_result",
          "data": {
            "text/plain": [
              "(14657, 16)"
            ]
          },
          "metadata": {
            "tags": []
          },
          "execution_count": 5
        }
      ]
    },
    {
      "cell_type": "code",
      "metadata": {
        "id": "_Lw8B_14ZJHg",
        "colab_type": "code",
        "outputId": "e0a24973-06ec-48cc-c127-c9c96ccbdff9",
        "colab": {
          "base_uri": "https://localhost:8080/",
          "height": 510
        }
      },
      "source": [
        "df.head()"
      ],
      "execution_count": 6,
      "outputs": [
        {
          "output_type": "execute_result",
          "data": {
            "text/html": [
              "<div>\n",
              "<style scoped>\n",
              "    .dataframe tbody tr th:only-of-type {\n",
              "        vertical-align: middle;\n",
              "    }\n",
              "\n",
              "    .dataframe tbody tr th {\n",
              "        vertical-align: top;\n",
              "    }\n",
              "\n",
              "    .dataframe thead th {\n",
              "        text-align: right;\n",
              "    }\n",
              "</style>\n",
              "<table border=\"1\" class=\"dataframe\">\n",
              "  <thead>\n",
              "    <tr style=\"text-align: right;\">\n",
              "      <th></th>\n",
              "      <th>Harga</th>\n",
              "      <th>Lokasi</th>\n",
              "      <th>Penjual</th>\n",
              "      <th>Merek</th>\n",
              "      <th>Model</th>\n",
              "      <th>Varian</th>\n",
              "      <th>Tahun</th>\n",
              "      <th>Jarak tempuh</th>\n",
              "      <th>Tipe bahan bakar</th>\n",
              "      <th>Warna</th>\n",
              "      <th>Transmisi</th>\n",
              "      <th>Tipe bodi</th>\n",
              "      <th>Kapasitas mesin</th>\n",
              "      <th>Tipe Penjual</th>\n",
              "      <th>Sistem Penggerak</th>\n",
              "      <th>Nama Bursa Mobil</th>\n",
              "    </tr>\n",
              "  </thead>\n",
              "  <tbody>\n",
              "    <tr>\n",
              "      <th>0</th>\n",
              "      <td>155000792</td>\n",
              "      <td>Ngaliyan, Semarang Kota, Jawa Tengah</td>\n",
              "      <td>Tegar Ranisdya</td>\n",
              "      <td>BMW</td>\n",
              "      <td>Serie 3</td>\n",
              "      <td>320i Business Edition</td>\n",
              "      <td>2006</td>\n",
              "      <td>85.000-90.000 km</td>\n",
              "      <td>Bensin</td>\n",
              "      <td>Hitam</td>\n",
              "      <td>Automatic</td>\n",
              "      <td>Sedan</td>\n",
              "      <td>&gt;1.500 - 2.000 cc</td>\n",
              "      <td>Individu</td>\n",
              "      <td>NaN</td>\n",
              "      <td>NaN</td>\n",
              "    </tr>\n",
              "    <tr>\n",
              "      <th>1</th>\n",
              "      <td>56000000</td>\n",
              "      <td>Medan Johor, Medan Kota, Sumatra Utara</td>\n",
              "      <td>Anda Syahwilhanto</td>\n",
              "      <td>Hyundai</td>\n",
              "      <td>Getz</td>\n",
              "      <td>Lain-lain</td>\n",
              "      <td>2005</td>\n",
              "      <td>0-5.000 km</td>\n",
              "      <td>Bensin</td>\n",
              "      <td>Biru</td>\n",
              "      <td>Manual</td>\n",
              "      <td>Hatchback</td>\n",
              "      <td>&gt;1.000 - 1.500 cc</td>\n",
              "      <td>Individu</td>\n",
              "      <td>Front Wheel Drive (FWD)</td>\n",
              "      <td>NaN</td>\n",
              "    </tr>\n",
              "    <tr>\n",
              "      <th>2</th>\n",
              "      <td>120000000</td>\n",
              "      <td>Ilir Timur I, Palembang Kota, Sumatra Selatan</td>\n",
              "      <td>alvianistm</td>\n",
              "      <td>Isuzu</td>\n",
              "      <td>Grand touring</td>\n",
              "      <td>Lain-lain</td>\n",
              "      <td>2004</td>\n",
              "      <td>10.000-15.000 km</td>\n",
              "      <td>Diesel</td>\n",
              "      <td>Silver</td>\n",
              "      <td>Manual</td>\n",
              "      <td>NaN</td>\n",
              "      <td>NaN</td>\n",
              "      <td>Individu</td>\n",
              "      <td>NaN</td>\n",
              "      <td>NaN</td>\n",
              "    </tr>\n",
              "    <tr>\n",
              "      <th>3</th>\n",
              "      <td>169000000</td>\n",
              "      <td>Balerejo, Madiun Kab., Jawa Timur</td>\n",
              "      <td>PUSAT MOBIL BEKAS SIDOARJO</td>\n",
              "      <td>Isuzu</td>\n",
              "      <td>Grand touring</td>\n",
              "      <td>Lain-lain</td>\n",
              "      <td>2010</td>\n",
              "      <td>100.000-105.000 km</td>\n",
              "      <td>Diesel</td>\n",
              "      <td>Coklat</td>\n",
              "      <td>Manual</td>\n",
              "      <td>Minibus</td>\n",
              "      <td>&gt;2.000 - 3.000 cc</td>\n",
              "      <td>Diler</td>\n",
              "      <td>NaN</td>\n",
              "      <td>NaN</td>\n",
              "    </tr>\n",
              "    <tr>\n",
              "      <th>4</th>\n",
              "      <td>120000000</td>\n",
              "      <td>Kemayoran, Jakarta Pusat, Jakarta D.K.I.</td>\n",
              "      <td>Kristian</td>\n",
              "      <td>Proton</td>\n",
              "      <td>Lain-lain</td>\n",
              "      <td>Lain-lain</td>\n",
              "      <td>2010</td>\n",
              "      <td>75.000-80.000 km</td>\n",
              "      <td>Bensin</td>\n",
              "      <td>Oranye</td>\n",
              "      <td>Manual</td>\n",
              "      <td>Pick-up</td>\n",
              "      <td>&gt;1.500 - 2.000 cc</td>\n",
              "      <td>NaN</td>\n",
              "      <td>Rear Wheel Drive (RWD)</td>\n",
              "      <td>Pasar Mobil Kemayoran</td>\n",
              "    </tr>\n",
              "  </tbody>\n",
              "</table>\n",
              "</div>"
            ],
            "text/plain": [
              "       Harga  ...       Nama Bursa Mobil\n",
              "0  155000792  ...                    NaN\n",
              "1   56000000  ...                    NaN\n",
              "2  120000000  ...                    NaN\n",
              "3  169000000  ...                    NaN\n",
              "4  120000000  ...  Pasar Mobil Kemayoran\n",
              "\n",
              "[5 rows x 16 columns]"
            ]
          },
          "metadata": {
            "tags": []
          },
          "execution_count": 6
        }
      ]
    },
    {
      "cell_type": "code",
      "metadata": {
        "id": "Cwr8KzIfi77u",
        "colab_type": "code",
        "outputId": "03b7fd36-6cfa-4e15-9875-d797215aa168",
        "colab": {
          "base_uri": "https://localhost:8080/",
          "height": 408
        }
      },
      "source": [
        "df.info()"
      ],
      "execution_count": 7,
      "outputs": [
        {
          "output_type": "stream",
          "text": [
            "<class 'pandas.core.frame.DataFrame'>\n",
            "RangeIndex: 14657 entries, 0 to 14656\n",
            "Data columns (total 16 columns):\n",
            " #   Column            Non-Null Count  Dtype \n",
            "---  ------            --------------  ----- \n",
            " 0   Harga             14657 non-null  int64 \n",
            " 1   Lokasi            14657 non-null  object\n",
            " 2   Penjual           14657 non-null  object\n",
            " 3   Merek             14657 non-null  object\n",
            " 4   Model             14657 non-null  object\n",
            " 5   Varian            13941 non-null  object\n",
            " 6   Tahun             14657 non-null  object\n",
            " 7   Jarak tempuh      14657 non-null  object\n",
            " 8   Tipe bahan bakar  14657 non-null  object\n",
            " 9   Warna             14657 non-null  object\n",
            " 10  Transmisi         14657 non-null  object\n",
            " 11  Tipe bodi         12491 non-null  object\n",
            " 12  Kapasitas mesin   12859 non-null  object\n",
            " 13  Tipe Penjual      12175 non-null  object\n",
            " 14  Sistem Penggerak  11488 non-null  object\n",
            " 15  Nama Bursa Mobil  2547 non-null   object\n",
            "dtypes: int64(1), object(15)\n",
            "memory usage: 1.8+ MB\n"
          ],
          "name": "stdout"
        }
      ]
    },
    {
      "cell_type": "code",
      "metadata": {
        "id": "cFzcJbHRjNDQ",
        "colab_type": "code",
        "outputId": "68763433-11bf-4694-dc83-64d408871a72",
        "colab": {
          "base_uri": "https://localhost:8080/",
          "height": 306
        }
      },
      "source": [
        "df.isnull().sum()"
      ],
      "execution_count": 8,
      "outputs": [
        {
          "output_type": "execute_result",
          "data": {
            "text/plain": [
              "Harga                   0\n",
              "Lokasi                  0\n",
              "Penjual                 0\n",
              "Merek                   0\n",
              "Model                   0\n",
              "Varian                716\n",
              "Tahun                   0\n",
              "Jarak tempuh            0\n",
              "Tipe bahan bakar        0\n",
              "Warna                   0\n",
              "Transmisi               0\n",
              "Tipe bodi            2166\n",
              "Kapasitas mesin      1798\n",
              "Tipe Penjual         2482\n",
              "Sistem Penggerak     3169\n",
              "Nama Bursa Mobil    12110\n",
              "dtype: int64"
            ]
          },
          "metadata": {
            "tags": []
          },
          "execution_count": 8
        }
      ]
    },
    {
      "cell_type": "code",
      "metadata": {
        "id": "7AN6WuDIZcqi",
        "colab_type": "code",
        "outputId": "bdf317f9-075f-481a-adc2-aa7729f8a620",
        "colab": {
          "base_uri": "https://localhost:8080/",
          "height": 297
        }
      },
      "source": [
        "# Display the statistic for column 'Harga'\n",
        "df.describe()"
      ],
      "execution_count": 9,
      "outputs": [
        {
          "output_type": "execute_result",
          "data": {
            "text/html": [
              "<div>\n",
              "<style scoped>\n",
              "    .dataframe tbody tr th:only-of-type {\n",
              "        vertical-align: middle;\n",
              "    }\n",
              "\n",
              "    .dataframe tbody tr th {\n",
              "        vertical-align: top;\n",
              "    }\n",
              "\n",
              "    .dataframe thead th {\n",
              "        text-align: right;\n",
              "    }\n",
              "</style>\n",
              "<table border=\"1\" class=\"dataframe\">\n",
              "  <thead>\n",
              "    <tr style=\"text-align: right;\">\n",
              "      <th></th>\n",
              "      <th>Harga</th>\n",
              "    </tr>\n",
              "  </thead>\n",
              "  <tbody>\n",
              "    <tr>\n",
              "      <th>count</th>\n",
              "      <td>1.465700e+04</td>\n",
              "    </tr>\n",
              "    <tr>\n",
              "      <th>mean</th>\n",
              "      <td>2.479546e+08</td>\n",
              "    </tr>\n",
              "    <tr>\n",
              "      <th>std</th>\n",
              "      <td>5.613904e+08</td>\n",
              "    </tr>\n",
              "    <tr>\n",
              "      <th>min</th>\n",
              "      <td>6.000000e+06</td>\n",
              "    </tr>\n",
              "    <tr>\n",
              "      <th>25%</th>\n",
              "      <td>8.000000e+07</td>\n",
              "    </tr>\n",
              "    <tr>\n",
              "      <th>50%</th>\n",
              "      <td>1.225000e+08</td>\n",
              "    </tr>\n",
              "    <tr>\n",
              "      <th>75%</th>\n",
              "      <td>2.160000e+08</td>\n",
              "    </tr>\n",
              "    <tr>\n",
              "      <th>max</th>\n",
              "      <td>1.700000e+10</td>\n",
              "    </tr>\n",
              "  </tbody>\n",
              "</table>\n",
              "</div>"
            ],
            "text/plain": [
              "              Harga\n",
              "count  1.465700e+04\n",
              "mean   2.479546e+08\n",
              "std    5.613904e+08\n",
              "min    6.000000e+06\n",
              "25%    8.000000e+07\n",
              "50%    1.225000e+08\n",
              "75%    2.160000e+08\n",
              "max    1.700000e+10"
            ]
          },
          "metadata": {
            "tags": []
          },
          "execution_count": 9
        }
      ]
    },
    {
      "cell_type": "code",
      "metadata": {
        "_cell_guid": "",
        "_uuid": "",
        "trusted": true,
        "id": "QCZpqA--UA_k",
        "colab_type": "code",
        "outputId": "9b8b393d-fef8-4911-f7f6-86346141f125",
        "colab": {
          "base_uri": "https://localhost:8080/",
          "height": 372
        }
      },
      "source": [
        "# display boxplot\n",
        "plt.figure(figsize=(3,6))\n",
        "sns.boxplot(y='Harga', data=df,showfliers=False);"
      ],
      "execution_count": 10,
      "outputs": [
        {
          "output_type": "display_data",
          "data": {
            "image/png": "[encoded data removed]",
            "text/plain": [
              "<Figure size 216x432 with 1 Axes>"
            ]
          },
          "metadata": {
            "tags": []
          }
        }
      ]
    },
    {
      "cell_type": "code",
      "metadata": {
        "id": "bjCWNu7W3ODy",
        "colab_type": "code",
        "outputId": "0ccde0c0-0262-4bf1-fed1-17f0e448f597",
        "colab": {
          "base_uri": "https://localhost:8080/",
          "height": 51
        }
      },
      "source": [
        "# Drop outliers grouped by 'Model'\n",
        "\n",
        "outlier_params = {}\n",
        "model_set = set()\n",
        "indexes = []\n",
        "\n",
        "for item in df['Model']:\n",
        "    model_set.add(item)\n",
        "\n",
        "for model in model_set:\n",
        "    model_df = df.loc[df['Model'] == model]\n",
        "    param = [model_df['Harga'].mean(),\n",
        "             model_df['Harga'].std() + 1]\n",
        "    \n",
        "    outlier_params[model] = param\n",
        "\n",
        "for index, row in df.iterrows():\n",
        "    # Calculate Z-score then group index whose value >=3\n",
        "    if (np.abs((row['Harga'] - outlier_params[row['Model']][0]) / outlier_params[row['Model']][1]) >= 3):\n",
        "        indexes.append(index)\n",
        "\n",
        "print(len(indexes))\n",
        "df = df.drop(index=indexes) # Remove rows with Z-score >=3\n",
        "\n",
        "print(df.shape)"
      ],
      "execution_count": 11,
      "outputs": [
        {
          "output_type": "stream",
          "text": [
            "105\n",
            "(14552, 16)\n"
          ],
          "name": "stdout"
        }
      ]
    },
    {
      "cell_type": "code",
      "metadata": {
        "id": "jaTpZgLoCJvr",
        "colab_type": "code",
        "outputId": "aa9d7e05-3182-4bec-e94a-712d9421201a",
        "colab": {
          "base_uri": "https://localhost:8080/",
          "height": 51
        }
      },
      "source": [
        "# Drop outliers in general\n",
        "indexes = []\n",
        "\n",
        "for index, row in df.iterrows():\n",
        "    # Calculate Z-score then group index whose value >=3\n",
        "    if (np.abs((row['Harga'] - df['Harga'].mean()) / df['Harga'].std()) >= 3):\n",
        "        indexes.append(index)\n",
        "\n",
        "print(len(indexes))\n",
        "df = df.drop(index=indexes) # Remove rows with Z-score >=3\n",
        "\n",
        "print(df.shape)"
      ],
      "execution_count": 12,
      "outputs": [
        {
          "output_type": "stream",
          "text": [
            "169\n",
            "(14383, 16)\n"
          ],
          "name": "stdout"
        }
      ]
    },
    {
      "cell_type": "code",
      "metadata": {
        "trusted": true,
        "id": "S2MoIZc9UBAD",
        "colab_type": "code",
        "colab": {}
      },
      "source": [
        "# Fill NaN values by modus of corresponding model\n",
        "from scipy import stats\n",
        "from math import isnan\n",
        "import numpy as np\n",
        "\n",
        "model_nan_filler = {}\n",
        "model_set = set()\n",
        "\n",
        "for item in df['Model']:\n",
        "    model_set.add(item)\n",
        "\n",
        "for model in model_set:\n",
        "    model_df = df.loc[df['Model'] == model]\n",
        "    filler = [stats.mode(model_df['Kapasitas mesin'])[0][0],\n",
        "              stats.mode(model_df['Sistem Penggerak'])[0][0],\n",
        "              stats.mode(model_df['Tipe bodi'])[0][0],\n",
        "              stats.mode(model_df['Tipe Penjual'])[0][0],\n",
        "              stats.mode(model_df['Varian'])[0][0]]\n",
        "    \n",
        "    model_nan_filler[model] = filler\n",
        "\n",
        "for index, row in df.iterrows():\n",
        "    if row['Kapasitas mesin'] == 'nan' :\n",
        "        df.at[index, 'Kapasitas mesin'] = model_nan_filler[row['Model']][0]\n",
        "    if row['Sistem Penggerak'] is np.nan:\n",
        "        df.at[index, 'Sistem Penggerak'] = model_nan_filler[row['Model']][1]\n",
        "    if row['Tipe bodi'] is np.nan:\n",
        "        df.at[index, 'Tipe bodi'] = model_nan_filler[row['Model']][2]\n",
        "    if row['Tipe Penjual'] is np.nan:\n",
        "        df.at[index, 'Tipe Penjual'] = model_nan_filler[row['Model']][3]\n",
        "    if row['Varian'] is np.nan:\n",
        "        df.at[index, 'Varian'] = model_nan_filler[row['Model']][4]\n",
        "\n",
        "df['Kapasitas mesin'] = df['Kapasitas mesin'].astype('str')"
      ],
      "execution_count": 0,
      "outputs": []
    },
    {
      "cell_type": "code",
      "metadata": {
        "id": "gicVwhD8D2jO",
        "colab_type": "code",
        "outputId": "cd51ebc9-af96-488c-9422-3b1af896d678",
        "colab": {
          "base_uri": "https://localhost:8080/",
          "height": 34
        }
      },
      "source": [
        "df['Harga'].isnull().sum()"
      ],
      "execution_count": 14,
      "outputs": [
        {
          "output_type": "execute_result",
          "data": {
            "text/plain": [
              "0"
            ]
          },
          "metadata": {
            "tags": []
          },
          "execution_count": 14
        }
      ]
    },
    {
      "cell_type": "code",
      "metadata": {
        "id": "-6x49eh0DpV1",
        "colab_type": "code",
        "colab": {}
      },
      "source": [
        "# Separate lokasi into three columns ('Kecamatan', 'Kabupaten', 'Provinsi')\n",
        "\n",
        "location = []\n",
        "for index, row in df.iterrows():\n",
        "    location.append(row['Lokasi'].split(', '))\n",
        "\n",
        "location = pd.DataFrame(location)\n",
        "location = location.drop([0, 2], axis=1) # Drop columns 'Kecamatan' and 'Provinsi'\n",
        "location.rename(columns={1:'Kota/Kab'}, inplace=True) # Rename a column\n",
        "df = pd.concat([df, location], axis=1) # Concate with the whole dataframe"
      ],
      "execution_count": 0,
      "outputs": []
    },
    {
      "cell_type": "code",
      "metadata": {
        "id": "FLwnD-mxFP1O",
        "colab_type": "code",
        "colab": {}
      },
      "source": [
        "df = df.drop(['Lokasi'], axis=1) # Drop column 'Lokasi'"
      ],
      "execution_count": 0,
      "outputs": []
    },
    {
      "cell_type": "code",
      "metadata": {
        "id": "cQcE8Oo8Nb9i",
        "colab_type": "code",
        "outputId": "08e84bbc-eb81-4394-ea04-1cf2cbc6933c",
        "colab": {
          "base_uri": "https://localhost:8080/",
          "height": 34
        }
      },
      "source": [
        "df['Kota/Kab'].isnull().sum()"
      ],
      "execution_count": 17,
      "outputs": [
        {
          "output_type": "execute_result",
          "data": {
            "text/plain": [
              "271"
            ]
          },
          "metadata": {
            "tags": []
          },
          "execution_count": 17
        }
      ]
    },
    {
      "cell_type": "code",
      "metadata": {
        "id": "Dp3LAMXyJVKi",
        "colab_type": "code",
        "outputId": "a6a9d95a-f608-48cd-b17b-f41350d3bc29",
        "colab": {
          "base_uri": "https://localhost:8080/",
          "height": 34
        }
      },
      "source": [
        "df['Merek'].isnull().sum()"
      ],
      "execution_count": 18,
      "outputs": [
        {
          "output_type": "execute_result",
          "data": {
            "text/plain": [
              "271"
            ]
          },
          "metadata": {
            "tags": []
          },
          "execution_count": 18
        }
      ]
    },
    {
      "cell_type": "code",
      "metadata": {
        "id": "JlMqJYgKWkdv",
        "colab_type": "code",
        "colab": {}
      },
      "source": [
        "# Drop column 'Penjual', 'Varian', 'Tipe bodi', and 'Nama Bursa Mobil'\n",
        "df = df.drop(['Penjual', 'Varian', 'Tipe bodi', 'Nama Bursa Mobil'], axis=1) "
      ],
      "execution_count": 0,
      "outputs": []
    },
    {
      "cell_type": "code",
      "metadata": {
        "id": "gCWw46S0Z015",
        "colab_type": "code",
        "outputId": "6a98cfb6-0dee-4860-92ad-80fb10dc41c9",
        "colab": {
          "base_uri": "https://localhost:8080/",
          "height": 306
        }
      },
      "source": [
        "df.head()"
      ],
      "execution_count": 20,
      "outputs": [
        {
          "output_type": "execute_result",
          "data": {
            "text/html": [
              "<div>\n",
              "<style scoped>\n",
              "    .dataframe tbody tr th:only-of-type {\n",
              "        vertical-align: middle;\n",
              "    }\n",
              "\n",
              "    .dataframe tbody tr th {\n",
              "        vertical-align: top;\n",
              "    }\n",
              "\n",
              "    .dataframe thead th {\n",
              "        text-align: right;\n",
              "    }\n",
              "</style>\n",
              "<table border=\"1\" class=\"dataframe\">\n",
              "  <thead>\n",
              "    <tr style=\"text-align: right;\">\n",
              "      <th></th>\n",
              "      <th>Harga</th>\n",
              "      <th>Merek</th>\n",
              "      <th>Model</th>\n",
              "      <th>Tahun</th>\n",
              "      <th>Jarak tempuh</th>\n",
              "      <th>Tipe bahan bakar</th>\n",
              "      <th>Warna</th>\n",
              "      <th>Transmisi</th>\n",
              "      <th>Kapasitas mesin</th>\n",
              "      <th>Tipe Penjual</th>\n",
              "      <th>Sistem Penggerak</th>\n",
              "      <th>Kota/Kab</th>\n",
              "    </tr>\n",
              "  </thead>\n",
              "  <tbody>\n",
              "    <tr>\n",
              "      <th>0</th>\n",
              "      <td>155000792.0</td>\n",
              "      <td>BMW</td>\n",
              "      <td>Serie 3</td>\n",
              "      <td>2006</td>\n",
              "      <td>85.000-90.000 km</td>\n",
              "      <td>Bensin</td>\n",
              "      <td>Hitam</td>\n",
              "      <td>Automatic</td>\n",
              "      <td>&gt;1.500 - 2.000 cc</td>\n",
              "      <td>Individu</td>\n",
              "      <td>Rear Wheel Drive (RWD)</td>\n",
              "      <td>Semarang Kota</td>\n",
              "    </tr>\n",
              "    <tr>\n",
              "      <th>1</th>\n",
              "      <td>56000000.0</td>\n",
              "      <td>Hyundai</td>\n",
              "      <td>Getz</td>\n",
              "      <td>2005</td>\n",
              "      <td>0-5.000 km</td>\n",
              "      <td>Bensin</td>\n",
              "      <td>Biru</td>\n",
              "      <td>Manual</td>\n",
              "      <td>&gt;1.000 - 1.500 cc</td>\n",
              "      <td>Individu</td>\n",
              "      <td>Front Wheel Drive (FWD)</td>\n",
              "      <td>Medan Kota</td>\n",
              "    </tr>\n",
              "    <tr>\n",
              "      <th>2</th>\n",
              "      <td>120000000.0</td>\n",
              "      <td>Isuzu</td>\n",
              "      <td>Grand touring</td>\n",
              "      <td>2004</td>\n",
              "      <td>10.000-15.000 km</td>\n",
              "      <td>Diesel</td>\n",
              "      <td>Silver</td>\n",
              "      <td>Manual</td>\n",
              "      <td>nan</td>\n",
              "      <td>Individu</td>\n",
              "      <td>4X2</td>\n",
              "      <td>Palembang Kota</td>\n",
              "    </tr>\n",
              "    <tr>\n",
              "      <th>3</th>\n",
              "      <td>169000000.0</td>\n",
              "      <td>Isuzu</td>\n",
              "      <td>Grand touring</td>\n",
              "      <td>2010</td>\n",
              "      <td>100.000-105.000 km</td>\n",
              "      <td>Diesel</td>\n",
              "      <td>Coklat</td>\n",
              "      <td>Manual</td>\n",
              "      <td>&gt;2.000 - 3.000 cc</td>\n",
              "      <td>Diler</td>\n",
              "      <td>4X2</td>\n",
              "      <td>Madiun Kab.</td>\n",
              "    </tr>\n",
              "    <tr>\n",
              "      <th>4</th>\n",
              "      <td>120000000.0</td>\n",
              "      <td>Proton</td>\n",
              "      <td>Lain-lain</td>\n",
              "      <td>2010</td>\n",
              "      <td>75.000-80.000 km</td>\n",
              "      <td>Bensin</td>\n",
              "      <td>Oranye</td>\n",
              "      <td>Manual</td>\n",
              "      <td>&gt;1.500 - 2.000 cc</td>\n",
              "      <td>Individu</td>\n",
              "      <td>Rear Wheel Drive (RWD)</td>\n",
              "      <td>Jakarta Pusat</td>\n",
              "    </tr>\n",
              "  </tbody>\n",
              "</table>\n",
              "</div>"
            ],
            "text/plain": [
              "         Harga    Merek  ...         Sistem Penggerak        Kota/Kab\n",
              "0  155000792.0      BMW  ...   Rear Wheel Drive (RWD)   Semarang Kota\n",
              "1   56000000.0  Hyundai  ...  Front Wheel Drive (FWD)      Medan Kota\n",
              "2  120000000.0    Isuzu  ...                      4X2  Palembang Kota\n",
              "3  169000000.0    Isuzu  ...                      4X2     Madiun Kab.\n",
              "4  120000000.0   Proton  ...   Rear Wheel Drive (RWD)   Jakarta Pusat\n",
              "\n",
              "[5 rows x 12 columns]"
            ]
          },
          "metadata": {
            "tags": []
          },
          "execution_count": 20
        }
      ]
    },
    {
      "cell_type": "code",
      "metadata": {
        "id": "-IE5Z0us_JHn",
        "colab_type": "code",
        "outputId": "1e253da6-7bac-4e79-c7ac-fa225ed89e78",
        "colab": {
          "base_uri": "https://localhost:8080/",
          "height": 623
        }
      },
      "source": [
        "# Drop rows that have any NaN values\n",
        "df = df.dropna()\n",
        "print(df.shape)\n",
        "df.head(100)"
      ],
      "execution_count": 21,
      "outputs": [
        {
          "output_type": "stream",
          "text": [
            "(14112, 12)\n"
          ],
          "name": "stdout"
        },
        {
          "output_type": "execute_result",
          "data": {
            "text/html": [
              "<div>\n",
              "<style scoped>\n",
              "    .dataframe tbody tr th:only-of-type {\n",
              "        vertical-align: middle;\n",
              "    }\n",
              "\n",
              "    .dataframe tbody tr th {\n",
              "        vertical-align: top;\n",
              "    }\n",
              "\n",
              "    .dataframe thead th {\n",
              "        text-align: right;\n",
              "    }\n",
              "</style>\n",
              "<table border=\"1\" class=\"dataframe\">\n",
              "  <thead>\n",
              "    <tr style=\"text-align: right;\">\n",
              "      <th></th>\n",
              "      <th>Harga</th>\n",
              "      <th>Merek</th>\n",
              "      <th>Model</th>\n",
              "      <th>Tahun</th>\n",
              "      <th>Jarak tempuh</th>\n",
              "      <th>Tipe bahan bakar</th>\n",
              "      <th>Warna</th>\n",
              "      <th>Transmisi</th>\n",
              "      <th>Kapasitas mesin</th>\n",
              "      <th>Tipe Penjual</th>\n",
              "      <th>Sistem Penggerak</th>\n",
              "      <th>Kota/Kab</th>\n",
              "    </tr>\n",
              "  </thead>\n",
              "  <tbody>\n",
              "    <tr>\n",
              "      <th>0</th>\n",
              "      <td>1.550008e+08</td>\n",
              "      <td>BMW</td>\n",
              "      <td>Serie 3</td>\n",
              "      <td>2006</td>\n",
              "      <td>85.000-90.000 km</td>\n",
              "      <td>Bensin</td>\n",
              "      <td>Hitam</td>\n",
              "      <td>Automatic</td>\n",
              "      <td>&gt;1.500 - 2.000 cc</td>\n",
              "      <td>Individu</td>\n",
              "      <td>Rear Wheel Drive (RWD)</td>\n",
              "      <td>Semarang Kota</td>\n",
              "    </tr>\n",
              "    <tr>\n",
              "      <th>1</th>\n",
              "      <td>5.600000e+07</td>\n",
              "      <td>Hyundai</td>\n",
              "      <td>Getz</td>\n",
              "      <td>2005</td>\n",
              "      <td>0-5.000 km</td>\n",
              "      <td>Bensin</td>\n",
              "      <td>Biru</td>\n",
              "      <td>Manual</td>\n",
              "      <td>&gt;1.000 - 1.500 cc</td>\n",
              "      <td>Individu</td>\n",
              "      <td>Front Wheel Drive (FWD)</td>\n",
              "      <td>Medan Kota</td>\n",
              "    </tr>\n",
              "    <tr>\n",
              "      <th>2</th>\n",
              "      <td>1.200000e+08</td>\n",
              "      <td>Isuzu</td>\n",
              "      <td>Grand touring</td>\n",
              "      <td>2004</td>\n",
              "      <td>10.000-15.000 km</td>\n",
              "      <td>Diesel</td>\n",
              "      <td>Silver</td>\n",
              "      <td>Manual</td>\n",
              "      <td>nan</td>\n",
              "      <td>Individu</td>\n",
              "      <td>4X2</td>\n",
              "      <td>Palembang Kota</td>\n",
              "    </tr>\n",
              "    <tr>\n",
              "      <th>3</th>\n",
              "      <td>1.690000e+08</td>\n",
              "      <td>Isuzu</td>\n",
              "      <td>Grand touring</td>\n",
              "      <td>2010</td>\n",
              "      <td>100.000-105.000 km</td>\n",
              "      <td>Diesel</td>\n",
              "      <td>Coklat</td>\n",
              "      <td>Manual</td>\n",
              "      <td>&gt;2.000 - 3.000 cc</td>\n",
              "      <td>Diler</td>\n",
              "      <td>4X2</td>\n",
              "      <td>Madiun Kab.</td>\n",
              "    </tr>\n",
              "    <tr>\n",
              "      <th>4</th>\n",
              "      <td>1.200000e+08</td>\n",
              "      <td>Proton</td>\n",
              "      <td>Lain-lain</td>\n",
              "      <td>2010</td>\n",
              "      <td>75.000-80.000 km</td>\n",
              "      <td>Bensin</td>\n",
              "      <td>Oranye</td>\n",
              "      <td>Manual</td>\n",
              "      <td>&gt;1.500 - 2.000 cc</td>\n",
              "      <td>Individu</td>\n",
              "      <td>Rear Wheel Drive (RWD)</td>\n",
              "      <td>Jakarta Pusat</td>\n",
              "    </tr>\n",
              "    <tr>\n",
              "      <th>...</th>\n",
              "      <td>...</td>\n",
              "      <td>...</td>\n",
              "      <td>...</td>\n",
              "      <td>...</td>\n",
              "      <td>...</td>\n",
              "      <td>...</td>\n",
              "      <td>...</td>\n",
              "      <td>...</td>\n",
              "      <td>...</td>\n",
              "      <td>...</td>\n",
              "      <td>...</td>\n",
              "      <td>...</td>\n",
              "    </tr>\n",
              "    <tr>\n",
              "      <th>99</th>\n",
              "      <td>1.200000e+09</td>\n",
              "      <td>Fiat</td>\n",
              "      <td>Abart</td>\n",
              "      <td>2017</td>\n",
              "      <td>0-5.000 km</td>\n",
              "      <td>Bensin</td>\n",
              "      <td>Kuning</td>\n",
              "      <td>Manual</td>\n",
              "      <td>&gt;1.000 - 1.500 cc</td>\n",
              "      <td>Diler</td>\n",
              "      <td>Front Wheel Drive (FWD)</td>\n",
              "      <td>Jakarta Selatan</td>\n",
              "    </tr>\n",
              "    <tr>\n",
              "      <th>100</th>\n",
              "      <td>8.299998e+07</td>\n",
              "      <td>Datsun</td>\n",
              "      <td>Go</td>\n",
              "      <td>2017</td>\n",
              "      <td>35.000-40.000 km</td>\n",
              "      <td>Bensin</td>\n",
              "      <td>Abu-abu</td>\n",
              "      <td>Manual</td>\n",
              "      <td>&gt;1.000 - 1.500 cc</td>\n",
              "      <td>Individu</td>\n",
              "      <td>Front Wheel Drive (FWD)</td>\n",
              "      <td>Jakarta Timur</td>\n",
              "    </tr>\n",
              "    <tr>\n",
              "      <th>101</th>\n",
              "      <td>2.350000e+08</td>\n",
              "      <td>Chevrolet</td>\n",
              "      <td>Trax</td>\n",
              "      <td>2018</td>\n",
              "      <td>20.000-25.000 km</td>\n",
              "      <td>Hybrid</td>\n",
              "      <td>Hitam</td>\n",
              "      <td>Automatic</td>\n",
              "      <td>&gt;1.000 - 1.500 cc</td>\n",
              "      <td>Individu</td>\n",
              "      <td>4X2</td>\n",
              "      <td>Makassar Kota</td>\n",
              "    </tr>\n",
              "    <tr>\n",
              "      <th>102</th>\n",
              "      <td>2.350000e+08</td>\n",
              "      <td>Mitsubishi</td>\n",
              "      <td>Xpander</td>\n",
              "      <td>2018</td>\n",
              "      <td>15.000-20.000 km</td>\n",
              "      <td>Bensin</td>\n",
              "      <td>Putih</td>\n",
              "      <td>Automatic Triptonic</td>\n",
              "      <td>nan</td>\n",
              "      <td>Individu</td>\n",
              "      <td>4X2</td>\n",
              "      <td>Jakarta Timur</td>\n",
              "    </tr>\n",
              "    <tr>\n",
              "      <th>103</th>\n",
              "      <td>9.950000e+08</td>\n",
              "      <td>Mercedes-Benz</td>\n",
              "      <td>E-Class</td>\n",
              "      <td>2017</td>\n",
              "      <td>5.000-10.000 km</td>\n",
              "      <td>Bensin</td>\n",
              "      <td>Putih</td>\n",
              "      <td>Automatic</td>\n",
              "      <td>nan</td>\n",
              "      <td>Individu</td>\n",
              "      <td>Rear Wheel Drive (RWD)</td>\n",
              "      <td>Medan Kota</td>\n",
              "    </tr>\n",
              "  </tbody>\n",
              "</table>\n",
              "<p>100 rows × 12 columns</p>\n",
              "</div>"
            ],
            "text/plain": [
              "            Harga          Merek  ...         Sistem Penggerak         Kota/Kab\n",
              "0    1.550008e+08            BMW  ...   Rear Wheel Drive (RWD)    Semarang Kota\n",
              "1    5.600000e+07        Hyundai  ...  Front Wheel Drive (FWD)       Medan Kota\n",
              "2    1.200000e+08          Isuzu  ...                      4X2   Palembang Kota\n",
              "3    1.690000e+08          Isuzu  ...                      4X2      Madiun Kab.\n",
              "4    1.200000e+08         Proton  ...   Rear Wheel Drive (RWD)    Jakarta Pusat\n",
              "..            ...            ...  ...                      ...              ...\n",
              "99   1.200000e+09           Fiat  ...  Front Wheel Drive (FWD)  Jakarta Selatan\n",
              "100  8.299998e+07         Datsun  ...  Front Wheel Drive (FWD)    Jakarta Timur\n",
              "101  2.350000e+08      Chevrolet  ...                      4X2    Makassar Kota\n",
              "102  2.350000e+08     Mitsubishi  ...                      4X2    Jakarta Timur\n",
              "103  9.950000e+08  Mercedes-Benz  ...   Rear Wheel Drive (RWD)       Medan Kota\n",
              "\n",
              "[100 rows x 12 columns]"
            ]
          },
          "metadata": {
            "tags": []
          },
          "execution_count": 21
        }
      ]
    },
    {
      "cell_type": "code",
      "metadata": {
        "id": "clcdrR87AS7p",
        "colab_type": "code",
        "outputId": "02f76c4e-c28c-4c2c-b53d-7674e6107cb2",
        "colab": {
          "base_uri": "https://localhost:8080/",
          "height": 54
        }
      },
      "source": [
        "# Drop rows with value other than '>' and '<' in column 'Kapasitas Mesin'\n",
        "indexes = []\n",
        "\n",
        "for index, row in df.iterrows():\n",
        "    if row['Kapasitas mesin'][0] != '>' and row['Kapasitas mesin'][0] != '<':\n",
        "        indexes.append(index)\n",
        "        \n",
        "print(indexes)\n",
        "df = df.drop(indexes)"
      ],
      "execution_count": 22,
      "outputs": [
        {
          "output_type": "stream",
          "text": [
            "[2, 5, 14, 16, 19, 20, 22, 23, 27, 28, 41, 43, 50, 62, 72, 76, 77, 98, 102, 103, 107, 113, 129, 147, 149, 155, 166, 175, 182, 211, 218, 228, 234, 241, 249, 271, 276, 280, 285, 287, 288, 290, 294, 299, 310, 322, 329, 336, 359, 360, 366, 375, 377, 379, 381, 393, 394, 395, 403, 416, 427, 445, 452, 462, 467, 471, 484, 496, 511, 516, 522, 525, 531, 536, 545, 572, 574, 581, 598, 610, 616, 617, 624, 639, 641, 649, 653, 656, 657, 664, 687, 698, 704, 715, 721, 723, 730, 740, 744, 746, 747, 753, 772, 781, 792, 801, 811, 836, 842, 857, 862, 876, 877, 879, 892, 907, 926, 928, 938, 944, 953, 955, 962, 989, 997, 1008, 1009, 1017, 1022, 1031, 1032, 1047, 1066, 1074, 1075, 1076, 1089, 1090, 1099, 1100, 1107, 1117, 1124, 1128, 1131, 1137, 1142, 1166, 1186, 1191, 1193, 1201, 1215, 1234, 1237, 1238, 1255, 1284, 1285, 1296, 1322, 1323, 1324, 1325, 1341, 1351, 1360, 1368, 1377, 1392, 1400, 1404, 1411, 1413, 1425, 1430, 1440, 1444, 1447, 1448, 1453, 1454, 1468, 1475, 1483, 1501, 1533, 1535, 1536, 1548, 1550, 1563, 1568, 1595, 1604, 1613, 1621, 1622, 1629, 1638, 1654, 1660, 1664, 1696, 1726, 1741, 1745, 1758, 1768, 1789, 1796, 1801, 1803, 1805, 1817, 1821, 1825, 1836, 1840, 1851, 1863, 1865, 1876, 1882, 1893, 1918, 1921, 1934, 1935, 1956, 1984, 1989, 1996, 2007, 2012, 2017, 2030, 2043, 2052, 2062, 2066, 2074, 2100, 2111, 2117, 2142, 2151, 2161, 2173, 2177, 2209, 2210, 2211, 2217, 2219, 2236, 2237, 2239, 2246, 2252, 2261, 2266, 2269, 2281, 2283, 2300, 2305, 2311, 2313, 2337, 2341, 2390, 2396, 2412, 2416, 2419, 2422, 2443, 2447, 2459, 2468, 2492, 2493, 2502, 2508, 2523, 2527, 2530, 2548, 2549, 2559, 2570, 2572, 2576, 2596, 2604, 2626, 2632, 2637, 2656, 2664, 2669, 2679, 2711, 2717, 2719, 2722, 2726, 2729, 2736, 2739, 2743, 2755, 2765, 2773, 2786, 2797, 2799, 2804, 2825, 2829, 2847, 2857, 2860, 2861, 2867, 2872, 2873, 2880, 2882, 2897, 2921, 2943, 2955, 2967, 2987, 2990, 2999, 3008, 3014, 3031, 3037, 3040, 3041, 3052, 3070, 3075, 3083, 3095, 3099, 3105, 3122, 3128, 3129, 3138, 3154, 3158, 3161, 3172, 3193, 3196, 3199, 3203, 3207, 3217, 3219, 3237, 3238, 3257, 3263, 3273, 3281, 3285, 3287, 3294, 3297, 3301, 3311, 3320, 3337, 3344, 3359, 3365, 3371, 3375, 3385, 3400, 3405, 3424, 3426, 3463, 3466, 3468, 3470, 3489, 3495, 3497, 3501, 3520, 3521, 3524, 3534, 3535, 3545, 3547, 3551, 3553, 3556, 3564, 3582, 3583, 3588, 3599, 3601, 3603, 3608, 3609, 3616, 3617, 3626, 3629, 3635, 3646, 3712, 3714, 3724, 3729, 3731, 3737, 3759, 3775, 3776, 3788, 3819, 3829, 3831, 3838, 3840, 3846, 3848, 3863, 3867, 3878, 3879, 3883, 3895, 3910, 3926, 3939, 3951, 3963, 3965, 3979, 3990, 3998, 3999, 4005, 4019, 4020, 4026, 4036, 4041, 4068, 4073, 4092, 4093, 4106, 4111, 4115, 4116, 4120, 4127, 4153, 4160, 4161, 4164, 4165, 4176, 4182, 4202, 4208, 4215, 4222, 4223, 4232, 4236, 4281, 4287, 4293, 4296, 4328, 4334, 4341, 4349, 4352, 4359, 4372, 4373, 4382, 4384, 4386, 4416, 4430, 4433, 4435, 4443, 4445, 4446, 4447, 4448, 4453, 4461, 4464, 4465, 4470, 4471, 4475, 4482, 4485, 4487, 4491, 4496, 4504, 4506, 4510, 4531, 4534, 4540, 4545, 4567, 4568, 4576, 4578, 4587, 4592, 4611, 4617, 4621, 4627, 4631, 4650, 4666, 4689, 4698, 4705, 4709, 4713, 4723, 4730, 4736, 4741, 4743, 4753, 4757, 4759, 4763, 4764, 4778, 4779, 4799, 4811, 4830, 4834, 4838, 4840, 4851, 4853, 4867, 4874, 4910, 4912, 4939, 4960, 4971, 4994, 5006, 5009, 5015, 5019, 5024, 5025, 5037, 5040, 5056, 5069, 5071, 5087, 5097, 5106, 5107, 5128, 5144, 5148, 5149, 5151, 5155, 5163, 5167, 5168, 5187, 5192, 5203, 5212, 5221, 5222, 5229, 5234, 5239, 5241, 5249, 5253, 5260, 5263, 5267, 5280, 5285, 5289, 5294, 5295, 5304, 5312, 5322, 5326, 5333, 5339, 5345, 5354, 5364, 5393, 5414, 5419, 5425, 5431, 5441, 5453, 5455, 5463, 5470, 5473, 5517, 5520, 5521, 5524, 5528, 5559, 5561, 5566, 5571, 5575, 5603, 5621, 5626, 5631, 5647, 5648, 5655, 5659, 5671, 5673, 5700, 5710, 5721, 5727, 5731, 5733, 5738, 5746, 5747, 5752, 5756, 5760, 5764, 5796, 5800, 5801, 5803, 5831, 5832, 5841, 5845, 5847, 5855, 5881, 5882, 5907, 5914, 5915, 5936, 5946, 5948, 5952, 5958, 5965, 5986, 6004, 6007, 6008, 6011, 6015, 6021, 6032, 6033, 6034, 6040, 6043, 6044, 6050, 6056, 6061, 6066, 6068, 6077, 6086, 6087, 6090, 6095, 6106, 6113, 6115, 6136, 6144, 6153, 6154, 6161, 6167, 6168, 6172, 6188, 6196, 6241, 6242, 6268, 6274, 6285, 6292, 6295, 6302, 6306, 6320, 6325, 6327, 6329, 6341, 6343, 6360, 6362, 6397, 6413, 6438, 6441, 6457, 6459, 6473, 6476, 6484, 6487, 6489, 6520, 6522, 6529, 6537, 6539, 6545, 6548, 6551, 6585, 6605, 6608, 6614, 6616, 6617, 6649, 6657, 6659, 6669, 6690, 6698, 6701, 6704, 6706, 6749, 6750, 6756, 6768, 6806, 6808, 6817, 6821, 6825, 6832, 6833, 6845, 6850, 6854, 6871, 6880, 6884, 6912, 6924, 6932, 6933, 6936, 6939, 6948, 6951, 6956, 6957, 6962, 6963, 6972, 6977, 6993, 7024, 7034, 7055, 7056, 7058, 7075, 7078, 7080, 7101, 7121, 7124, 7151, 7154, 7157, 7165, 7171, 7177, 7180, 7193, 7195, 7197, 7212, 7233, 7235, 7267, 7274, 7280, 7299, 7310, 7311, 7331, 7351, 7364, 7368, 7376, 7381, 7388, 7391, 7397, 7400, 7403, 7407, 7408, 7412, 7413, 7417, 7424, 7426, 7443, 7445, 7447, 7450, 7461, 7469, 7492, 7501, 7510, 7512, 7522, 7524, 7542, 7543, 7545, 7551, 7562, 7579, 7583, 7594, 7598, 7599, 7601, 7603, 7605, 7612, 7648, 7654, 7658, 7674, 7680, 7682, 7697, 7704, 7713, 7718, 7739, 7759, 7769, 7775, 7784, 7788, 7789, 7791, 7794, 7797, 7801, 7803, 7818, 7821, 7824, 7832, 7845, 7851, 7880, 7882, 7897, 7898, 7901, 7907, 7927, 7930, 7933, 7936, 7945, 7949, 7960, 7978, 7981, 7985, 7995, 8001, 8007, 8009, 8014, 8016, 8036, 8044, 8046, 8051, 8056, 8059, 8068, 8071, 8075, 8109, 8128, 8129, 8146, 8148, 8164, 8166, 8182, 8187, 8188, 8191, 8196, 8198, 8201, 8206, 8207, 8216, 8229, 8246, 8250, 8259, 8267, 8271, 8272, 8275, 8295, 8304, 8306, 8320, 8332, 8341, 8347, 8348, 8351, 8365, 8366, 8370, 8373, 8385, 8397, 8408, 8410, 8434, 8471, 8475, 8517, 8521, 8523, 8540, 8545, 8546, 8548, 8557, 8574, 8578, 8582, 8585, 8618, 8621, 8628, 8634, 8642, 8643, 8646, 8647, 8652, 8653, 8656, 8660, 8664, 8671, 8676, 8685, 8688, 8700, 8704, 8723, 8727, 8744, 8751, 8756, 8768, 8774, 8785, 8786, 8790, 8801, 8807, 8818, 8823, 8827, 8831, 8835, 8839, 8843, 8848, 8858, 8866, 8867, 8883, 8885, 8888, 8905, 8920, 8922, 8924, 8941, 8945, 8948, 8954, 8956, 8957, 8960, 8961, 8963, 8972, 8978, 8995, 9012, 9019, 9024, 9035, 9056, 9058, 9064, 9065, 9069, 9073, 9081, 9087, 9097, 9110, 9114, 9154, 9155, 9164, 9165, 9180, 9198, 9234, 9235, 9237, 9263, 9275, 9283, 9287, 9296, 9308, 9314, 9318, 9323, 9326, 9329, 9330, 9334, 9337, 9342, 9355, 9363, 9371, 9393, 9397, 9398, 9413, 9432, 9444, 9448, 9453, 9456, 9462, 9464, 9469, 9471, 9490, 9505, 9518, 9519, 9523, 9532, 9536, 9547, 9548, 9569, 9573, 9600, 9613, 9616, 9617, 9620, 9625, 9626, 9638, 9645, 9656, 9668, 9674, 9682, 9689, 9710, 9712, 9747, 9751, 9771, 9792, 9795, 9816, 9823, 9842, 9851, 9855, 9862, 9867, 9875, 9877, 9879, 9893, 9905, 9907, 9916, 9923, 9926, 9928, 9929, 9946, 9956, 9962, 9968, 9971, 9973, 9975, 9978, 9985, 9987, 10028, 10037, 10044, 10049, 10054, 10055, 10059, 10060, 10061, 10071, 10072, 10073, 10080, 10084, 10094, 10109, 10114, 10119, 10153, 10160, 10171, 10172, 10173, 10188, 10197, 10217, 10239, 10243, 10246, 10249, 10251, 10266, 10267, 10268, 10302, 10303, 10305, 10319, 10321, 10343, 10353, 10382, 10402, 10404, 10409, 10414, 10418, 10421, 10422, 10439, 10447, 10458, 10464, 10471, 10481, 10486, 10489, 10546, 10548, 10579, 10597, 10603, 10608, 10614, 10620, 10622, 10629, 10633, 10636, 10645, 10658, 10659, 10666, 10678, 10690, 10692, 10701, 10703, 10706, 10710, 10716, 10721, 10731, 10733, 10736, 10737, 10742, 10755, 10805, 10806, 10819, 10828, 10839, 10847, 10862, 10863, 10867, 10881, 10885, 10887, 10896, 10908, 10913, 10919, 10920, 10921, 10923, 10931, 10935, 10961, 10974, 10987, 11010, 11017, 11024, 11029, 11045, 11061, 11063, 11082, 11096, 11099, 11124, 11129, 11135, 11137, 11156, 11157, 11160, 11179, 11186, 11210, 11219, 11221, 11228, 11229, 11240, 11253, 11262, 11269, 11282, 11288, 11296, 11306, 11308, 11313, 11326, 11331, 11338, 11349, 11360, 11371, 11406, 11413, 11416, 11439, 11447, 11456, 11457, 11465, 11476, 11482, 11485, 11491, 11499, 11503, 11508, 11517, 11523, 11526, 11541, 11554, 11564, 11573, 11576, 11586, 11603, 11605, 11606, 11608, 11611, 11613, 11616, 11618, 11633, 11638, 11647, 11651, 11655, 11660, 11663, 11668, 11675, 11676, 11677, 11684, 11691, 11712, 11719, 11729, 11752, 11755, 11766, 11772, 11776, 11779, 11786, 11789, 11832, 11854, 11873, 11878, 11881, 11909, 11931, 11932, 11934, 11943, 11949, 11971, 12010, 12011, 12016, 12057, 12060, 12078, 12090, 12103, 12105, 12106, 12110, 12118, 12119, 12130, 12143, 12144, 12146, 12147, 12156, 12159, 12165, 12176, 12179, 12191, 12196, 12200, 12201, 12213, 12226, 12238, 12244, 12246, 12259, 12262, 12264, 12276, 12285, 12287, 12288, 12296, 12298, 12299, 12301, 12308, 12315, 12319, 12327, 12341, 12354, 12389, 12394, 12412, 12426, 12427, 12456, 12457, 12459, 12461, 12466, 12476, 12487, 12495, 12501, 12504, 12509, 12514, 12524, 12525, 12526, 12537, 12538, 12590, 12594, 12615, 12620, 12629, 12631, 12639, 12640, 12641, 12642, 12644, 12654, 12658, 12661, 12663, 12676, 12681, 12686, 12694, 12707, 12726, 12736, 12751, 12753, 12773, 12787, 12789, 12803, 12806, 12809, 12841, 12848, 12861, 12869, 12870, 12874, 12877, 12881, 12889, 12890, 12893, 12895, 12899, 12905, 12906, 12907, 12931, 12935, 12938, 12940, 12954, 12979, 12996, 13018, 13019, 13022, 13044, 13046, 13051, 13056, 13060, 13061, 13063, 13066, 13067, 13081, 13085, 13086, 13094, 13107, 13111, 13124, 13128, 13129, 13142, 13149, 13161, 13163, 13168, 13173, 13174, 13176, 13177, 13186, 13187, 13190, 13193, 13201, 13209, 13217, 13230, 13235, 13236, 13238, 13247, 13254, 13261, 13294, 13308, 13310, 13334, 13339, 13345, 13354, 13356, 13363, 13368, 13372, 13375, 13376, 13383, 13384, 13389, 13398, 13402, 13403, 13404, 13407, 13412, 13413, 13414, 13423, 13427, 13431, 13437, 13455, 13459, 13460, 13478, 13485, 13488, 13492, 13493, 13501, 13521, 13556, 13568, 13576, 13586, 13588, 13609, 13619, 13620, 13631, 13643, 13649, 13651, 13668, 13669, 13675, 13689, 13723, 13728, 13729, 13738, 13739, 13751, 13754, 13762, 13784, 13788, 13794, 13802, 13804, 13834, 13835, 13836, 13844, 13850, 13869, 13886, 13888, 13889, 13891, 13899, 13905, 13920, 13927, 13933, 13953, 13967, 13997, 13998, 13999, 14025, 14037, 14039, 14042, 14049, 14066, 14081, 14083, 14091, 14101, 14111, 14113, 14121, 14144, 14149, 14159, 14165, 14167, 14169, 14170, 14172, 14177, 14204, 14205, 14215, 14230, 14233, 14234, 14255, 14261, 14268, 14289, 14316, 14340, 14342, 14349, 14357, 14360, 14366, 14375]\n"
          ],
          "name": "stdout"
        }
      ]
    },
    {
      "cell_type": "code",
      "metadata": {
        "id": "WZunbNR9Agzv",
        "colab_type": "code",
        "outputId": "5bdd1046-8fc1-4079-fddc-71985fa2d6c9",
        "colab": {
          "base_uri": "https://localhost:8080/",
          "height": 34
        }
      },
      "source": [
        "df.shape"
      ],
      "execution_count": 23,
      "outputs": [
        {
          "output_type": "execute_result",
          "data": {
            "text/plain": [
              "(12419, 12)"
            ]
          },
          "metadata": {
            "tags": []
          },
          "execution_count": 23
        }
      ]
    },
    {
      "cell_type": "code",
      "metadata": {
        "id": "l_7ILHnzaRoq",
        "colab_type": "code",
        "outputId": "d5e7a864-b797-4811-f507-92c3ff221e51",
        "colab": {
          "base_uri": "https://localhost:8080/",
          "height": 306
        }
      },
      "source": [
        "# Turn 'Jarak tempuh' and 'Kapasitas mesin' to numerical data\n",
        "for index, row in df.iterrows():\n",
        "    df.at[index, 'Jarak tempuh'] = row['Jarak tempuh'].split('-')[-1].replace(' km', '').replace('<', '').replace('>', '')\n",
        "    \n",
        "    df.at[index, 'Kapasitas mesin'] = row['Kapasitas mesin'].split('-')[-1][1:].replace(' cc', '')\n",
        "\n",
        "df.head()"
      ],
      "execution_count": 24,
      "outputs": [
        {
          "output_type": "execute_result",
          "data": {
            "text/html": [
              "<div>\n",
              "<style scoped>\n",
              "    .dataframe tbody tr th:only-of-type {\n",
              "        vertical-align: middle;\n",
              "    }\n",
              "\n",
              "    .dataframe tbody tr th {\n",
              "        vertical-align: top;\n",
              "    }\n",
              "\n",
              "    .dataframe thead th {\n",
              "        text-align: right;\n",
              "    }\n",
              "</style>\n",
              "<table border=\"1\" class=\"dataframe\">\n",
              "  <thead>\n",
              "    <tr style=\"text-align: right;\">\n",
              "      <th></th>\n",
              "      <th>Harga</th>\n",
              "      <th>Merek</th>\n",
              "      <th>Model</th>\n",
              "      <th>Tahun</th>\n",
              "      <th>Jarak tempuh</th>\n",
              "      <th>Tipe bahan bakar</th>\n",
              "      <th>Warna</th>\n",
              "      <th>Transmisi</th>\n",
              "      <th>Kapasitas mesin</th>\n",
              "      <th>Tipe Penjual</th>\n",
              "      <th>Sistem Penggerak</th>\n",
              "      <th>Kota/Kab</th>\n",
              "    </tr>\n",
              "  </thead>\n",
              "  <tbody>\n",
              "    <tr>\n",
              "      <th>0</th>\n",
              "      <td>155000792.0</td>\n",
              "      <td>BMW</td>\n",
              "      <td>Serie 3</td>\n",
              "      <td>2006</td>\n",
              "      <td>90.000</td>\n",
              "      <td>Bensin</td>\n",
              "      <td>Hitam</td>\n",
              "      <td>Automatic</td>\n",
              "      <td>2.000</td>\n",
              "      <td>Individu</td>\n",
              "      <td>Rear Wheel Drive (RWD)</td>\n",
              "      <td>Semarang Kota</td>\n",
              "    </tr>\n",
              "    <tr>\n",
              "      <th>1</th>\n",
              "      <td>56000000.0</td>\n",
              "      <td>Hyundai</td>\n",
              "      <td>Getz</td>\n",
              "      <td>2005</td>\n",
              "      <td>5.000</td>\n",
              "      <td>Bensin</td>\n",
              "      <td>Biru</td>\n",
              "      <td>Manual</td>\n",
              "      <td>1.500</td>\n",
              "      <td>Individu</td>\n",
              "      <td>Front Wheel Drive (FWD)</td>\n",
              "      <td>Medan Kota</td>\n",
              "    </tr>\n",
              "    <tr>\n",
              "      <th>3</th>\n",
              "      <td>169000000.0</td>\n",
              "      <td>Isuzu</td>\n",
              "      <td>Grand touring</td>\n",
              "      <td>2010</td>\n",
              "      <td>105.000</td>\n",
              "      <td>Diesel</td>\n",
              "      <td>Coklat</td>\n",
              "      <td>Manual</td>\n",
              "      <td>3.000</td>\n",
              "      <td>Diler</td>\n",
              "      <td>4X2</td>\n",
              "      <td>Madiun Kab.</td>\n",
              "    </tr>\n",
              "    <tr>\n",
              "      <th>4</th>\n",
              "      <td>120000000.0</td>\n",
              "      <td>Proton</td>\n",
              "      <td>Lain-lain</td>\n",
              "      <td>2010</td>\n",
              "      <td>80.000</td>\n",
              "      <td>Bensin</td>\n",
              "      <td>Oranye</td>\n",
              "      <td>Manual</td>\n",
              "      <td>2.000</td>\n",
              "      <td>Individu</td>\n",
              "      <td>Rear Wheel Drive (RWD)</td>\n",
              "      <td>Jakarta Pusat</td>\n",
              "    </tr>\n",
              "    <tr>\n",
              "      <th>6</th>\n",
              "      <td>420000000.0</td>\n",
              "      <td>Mercedes-Benz</td>\n",
              "      <td>SLK</td>\n",
              "      <td>2005</td>\n",
              "      <td>45.000</td>\n",
              "      <td>Bensin</td>\n",
              "      <td>Silver</td>\n",
              "      <td>Automatic</td>\n",
              "      <td>2.000</td>\n",
              "      <td>Individu</td>\n",
              "      <td>Rear Wheel Drive (RWD)</td>\n",
              "      <td>Tangerang Selatan Kota</td>\n",
              "    </tr>\n",
              "  </tbody>\n",
              "</table>\n",
              "</div>"
            ],
            "text/plain": [
              "         Harga          Merek  ...         Sistem Penggerak                Kota/Kab\n",
              "0  155000792.0            BMW  ...   Rear Wheel Drive (RWD)           Semarang Kota\n",
              "1   56000000.0        Hyundai  ...  Front Wheel Drive (FWD)              Medan Kota\n",
              "3  169000000.0          Isuzu  ...                      4X2             Madiun Kab.\n",
              "4  120000000.0         Proton  ...   Rear Wheel Drive (RWD)           Jakarta Pusat\n",
              "6  420000000.0  Mercedes-Benz  ...   Rear Wheel Drive (RWD)  Tangerang Selatan Kota\n",
              "\n",
              "[5 rows x 12 columns]"
            ]
          },
          "metadata": {
            "tags": []
          },
          "execution_count": 24
        }
      ]
    },
    {
      "cell_type": "code",
      "metadata": {
        "id": "k9mPNVhkJUgT",
        "colab_type": "code",
        "outputId": "1c825f19-cfa0-481c-9755-637e7a5066c5",
        "colab": {
          "base_uri": "https://localhost:8080/",
          "height": 51
        }
      },
      "source": [
        "# Drop rows with value 0 in columns 'Sistem Penggerak' and 'Tipe Penjual'\n",
        "indexes = []\n",
        "\n",
        "for index, row in df.iterrows():\n",
        "    if row['Sistem Penggerak'] == 0 or row['Tipe Penjual'] == 0:\n",
        "        indexes.append(index)\n",
        "        \n",
        "print(indexes)\n",
        "df = df.drop(indexes)\n",
        "\n",
        "print(df.shape)"
      ],
      "execution_count": 25,
      "outputs": [
        {
          "output_type": "stream",
          "text": [
            "[558, 2974, 3726, 3753, 6540, 7810, 8282, 9135, 9156, 10362, 11356, 11921, 12197, 12827]\n",
            "(12405, 12)\n"
          ],
          "name": "stdout"
        }
      ]
    },
    {
      "cell_type": "code",
      "metadata": {
        "id": "F05kLLubBt9w",
        "colab_type": "code",
        "outputId": "9fabf054-2279-406f-9aec-1495c2724dfb",
        "colab": {
          "base_uri": "https://localhost:8080/",
          "height": 238
        }
      },
      "source": [
        "df.isnull().sum()"
      ],
      "execution_count": 26,
      "outputs": [
        {
          "output_type": "execute_result",
          "data": {
            "text/plain": [
              "Harga               0\n",
              "Merek               0\n",
              "Model               0\n",
              "Tahun               0\n",
              "Jarak tempuh        0\n",
              "Tipe bahan bakar    0\n",
              "Warna               0\n",
              "Transmisi           0\n",
              "Kapasitas mesin     0\n",
              "Tipe Penjual        0\n",
              "Sistem Penggerak    0\n",
              "Kota/Kab            0\n",
              "dtype: int64"
            ]
          },
          "metadata": {
            "tags": []
          },
          "execution_count": 26
        }
      ]
    },
    {
      "cell_type": "code",
      "metadata": {
        "id": "R4QI3_ZXC2If",
        "colab_type": "code",
        "colab": {}
      },
      "source": [
        "!pip install -q sklearn"
      ],
      "execution_count": 0,
      "outputs": []
    },
    {
      "cell_type": "code",
      "metadata": {
        "id": "SEL9MnGAC4kU",
        "colab_type": "code",
        "colab": {}
      },
      "source": [
        "import tensorflow as tf\n",
        "\n",
        "from tensorflow import feature_column\n",
        "from tensorflow.keras import layers\n",
        "from sklearn.model_selection import train_test_split"
      ],
      "execution_count": 0,
      "outputs": []
    },
    {
      "cell_type": "code",
      "metadata": {
        "id": "Db7BH21IX4aQ",
        "colab_type": "code",
        "colab": {}
      },
      "source": [
        "# Rename dataframe columns\n",
        "df = df.rename(columns={\"Merek\": \"merek\", \"Model\": \"model\", \"Tahun\": \"tahun\", \n",
        "                        \"Jarak tempuh\": \"jarak_tempuh\", \"Tipe bahan bakar\": \"tipe_bahan_bakar\", \n",
        "                        \"Warna\": \"warna\", \"Transmisi\": \"transmisi\", \"Harga\": \"harga\",\n",
        "                        \"Kapasitas mesin\": \"kapasitas_mesin\", \"Tipe Penjual\": \"tipe_penjual\", \n",
        "                        \"Sistem Penggerak\": \"sistem_penggerak\", \"Kota/Kab\": \"kota\"})"
      ],
      "execution_count": 0,
      "outputs": []
    },
    {
      "cell_type": "code",
      "metadata": {
        "id": "5WCzFswHixQJ",
        "colab_type": "code",
        "outputId": "c4b219f0-563d-4ee6-9dd6-a4b20518dc60",
        "colab": {
          "base_uri": "https://localhost:8080/",
          "height": 289
        }
      },
      "source": [
        "df.head()"
      ],
      "execution_count": 30,
      "outputs": [
        {
          "output_type": "execute_result",
          "data": {
            "text/html": [
              "<div>\n",
              "<style scoped>\n",
              "    .dataframe tbody tr th:only-of-type {\n",
              "        vertical-align: middle;\n",
              "    }\n",
              "\n",
              "    .dataframe tbody tr th {\n",
              "        vertical-align: top;\n",
              "    }\n",
              "\n",
              "    .dataframe thead th {\n",
              "        text-align: right;\n",
              "    }\n",
              "</style>\n",
              "<table border=\"1\" class=\"dataframe\">\n",
              "  <thead>\n",
              "    <tr style=\"text-align: right;\">\n",
              "      <th></th>\n",
              "      <th>harga</th>\n",
              "      <th>merek</th>\n",
              "      <th>model</th>\n",
              "      <th>tahun</th>\n",
              "      <th>jarak_tempuh</th>\n",
              "      <th>tipe_bahan_bakar</th>\n",
              "      <th>warna</th>\n",
              "      <th>transmisi</th>\n",
              "      <th>kapasitas_mesin</th>\n",
              "      <th>tipe_penjual</th>\n",
              "      <th>sistem_penggerak</th>\n",
              "      <th>kota</th>\n",
              "    </tr>\n",
              "  </thead>\n",
              "  <tbody>\n",
              "    <tr>\n",
              "      <th>0</th>\n",
              "      <td>155000792.0</td>\n",
              "      <td>BMW</td>\n",
              "      <td>Serie 3</td>\n",
              "      <td>2006</td>\n",
              "      <td>90.000</td>\n",
              "      <td>Bensin</td>\n",
              "      <td>Hitam</td>\n",
              "      <td>Automatic</td>\n",
              "      <td>2.000</td>\n",
              "      <td>Individu</td>\n",
              "      <td>Rear Wheel Drive (RWD)</td>\n",
              "      <td>Semarang Kota</td>\n",
              "    </tr>\n",
              "    <tr>\n",
              "      <th>1</th>\n",
              "      <td>56000000.0</td>\n",
              "      <td>Hyundai</td>\n",
              "      <td>Getz</td>\n",
              "      <td>2005</td>\n",
              "      <td>5.000</td>\n",
              "      <td>Bensin</td>\n",
              "      <td>Biru</td>\n",
              "      <td>Manual</td>\n",
              "      <td>1.500</td>\n",
              "      <td>Individu</td>\n",
              "      <td>Front Wheel Drive (FWD)</td>\n",
              "      <td>Medan Kota</td>\n",
              "    </tr>\n",
              "    <tr>\n",
              "      <th>3</th>\n",
              "      <td>169000000.0</td>\n",
              "      <td>Isuzu</td>\n",
              "      <td>Grand touring</td>\n",
              "      <td>2010</td>\n",
              "      <td>105.000</td>\n",
              "      <td>Diesel</td>\n",
              "      <td>Coklat</td>\n",
              "      <td>Manual</td>\n",
              "      <td>3.000</td>\n",
              "      <td>Diler</td>\n",
              "      <td>4X2</td>\n",
              "      <td>Madiun Kab.</td>\n",
              "    </tr>\n",
              "    <tr>\n",
              "      <th>4</th>\n",
              "      <td>120000000.0</td>\n",
              "      <td>Proton</td>\n",
              "      <td>Lain-lain</td>\n",
              "      <td>2010</td>\n",
              "      <td>80.000</td>\n",
              "      <td>Bensin</td>\n",
              "      <td>Oranye</td>\n",
              "      <td>Manual</td>\n",
              "      <td>2.000</td>\n",
              "      <td>Individu</td>\n",
              "      <td>Rear Wheel Drive (RWD)</td>\n",
              "      <td>Jakarta Pusat</td>\n",
              "    </tr>\n",
              "    <tr>\n",
              "      <th>6</th>\n",
              "      <td>420000000.0</td>\n",
              "      <td>Mercedes-Benz</td>\n",
              "      <td>SLK</td>\n",
              "      <td>2005</td>\n",
              "      <td>45.000</td>\n",
              "      <td>Bensin</td>\n",
              "      <td>Silver</td>\n",
              "      <td>Automatic</td>\n",
              "      <td>2.000</td>\n",
              "      <td>Individu</td>\n",
              "      <td>Rear Wheel Drive (RWD)</td>\n",
              "      <td>Tangerang Selatan Kota</td>\n",
              "    </tr>\n",
              "  </tbody>\n",
              "</table>\n",
              "</div>"
            ],
            "text/plain": [
              "         harga          merek  ...         sistem_penggerak                    kota\n",
              "0  155000792.0            BMW  ...   Rear Wheel Drive (RWD)           Semarang Kota\n",
              "1   56000000.0        Hyundai  ...  Front Wheel Drive (FWD)              Medan Kota\n",
              "3  169000000.0          Isuzu  ...                      4X2             Madiun Kab.\n",
              "4  120000000.0         Proton  ...   Rear Wheel Drive (RWD)           Jakarta Pusat\n",
              "6  420000000.0  Mercedes-Benz  ...   Rear Wheel Drive (RWD)  Tangerang Selatan Kota\n",
              "\n",
              "[5 rows x 12 columns]"
            ]
          },
          "metadata": {
            "tags": []
          },
          "execution_count": 30
        }
      ]
    },
    {
      "cell_type": "code",
      "metadata": {
        "id": "WSYwNXB8DHCk",
        "colab_type": "code",
        "outputId": "d3f5003f-3141-40ce-cc04-84812fd4c453",
        "colab": {
          "base_uri": "https://localhost:8080/",
          "height": 51
        }
      },
      "source": [
        "# Split the dataframe into train and test\n",
        "train, test = train_test_split(df, test_size=0.2)\n",
        "print(len(train), 'train examples')\n",
        "print(len(test), 'test examples')"
      ],
      "execution_count": 31,
      "outputs": [
        {
          "output_type": "stream",
          "text": [
            "9924 train examples\n",
            "2481 test examples\n"
          ],
          "name": "stdout"
        }
      ]
    },
    {
      "cell_type": "code",
      "metadata": {
        "id": "6jCFIW8cDWBK",
        "colab_type": "code",
        "outputId": "7e235e5e-d049-4a3a-f3fd-daba095efcfa",
        "colab": {
          "base_uri": "https://localhost:8080/",
          "height": 221
        }
      },
      "source": [
        "# Scale the labels\n",
        "scale_factor = 1000000\n",
        "# Scale the training set's label.\n",
        "train[\"harga\"] /= scale_factor \n",
        "\n",
        "# Scale the test set's label\n",
        "test[\"harga\"] /= scale_factor\n",
        "\n",
        "# Shuffle the examples\n",
        "train = train.reindex(np.random.permutation(train.index))"
      ],
      "execution_count": 32,
      "outputs": [
        {
          "output_type": "stream",
          "text": [
            "/usr/local/lib/python3.6/dist-packages/ipykernel_launcher.py:3: SettingWithCopyWarning: \n",
            "A value is trying to be set on a copy of a slice from a DataFrame.\n",
            "Try using .loc[row_indexer,col_indexer] = value instead\n",
            "\n",
            "See the caveats in the documentation: https://pandas.pydata.org/pandas-docs/stable/user_guide/indexing.html#returning-a-view-versus-a-copy\n",
            "  This is separate from the ipykernel package so we can avoid doing imports until\n",
            "/usr/local/lib/python3.6/dist-packages/ipykernel_launcher.py:6: SettingWithCopyWarning: \n",
            "A value is trying to be set on a copy of a slice from a DataFrame.\n",
            "Try using .loc[row_indexer,col_indexer] = value instead\n",
            "\n",
            "See the caveats in the documentation: https://pandas.pydata.org/pandas-docs/stable/user_guide/indexing.html#returning-a-view-versus-a-copy\n",
            "  \n"
          ],
          "name": "stderr"
        }
      ]
    },
    {
      "cell_type": "code",
      "metadata": {
        "id": "Acs4YEZQDvyV",
        "colab_type": "code",
        "outputId": "518e5323-5d05-427a-f3ca-a8060cffd274",
        "colab": {
          "base_uri": "https://localhost:8080/",
          "height": 221
        }
      },
      "source": [
        "from sklearn.preprocessing import minmax_scale\n",
        "\n",
        "# Scaling column 'Jarak Tempuh'\n",
        "train['jarak_tempuh'] = minmax_scale(train['jarak_tempuh'])\n",
        "test['jarak_tempuh'] = minmax_scale(test['jarak_tempuh'])\n",
        "\n",
        "# Scaling column 'Kapasitas mesin'\n",
        "train['kapasitas_mesin'] = minmax_scale(train['kapasitas_mesin'])\n",
        "test['kapasitas_mesin'] = minmax_scale(test['kapasitas_mesin'])"
      ],
      "execution_count": 33,
      "outputs": [
        {
          "output_type": "stream",
          "text": [
            "/usr/local/lib/python3.6/dist-packages/ipykernel_launcher.py:5: SettingWithCopyWarning: \n",
            "A value is trying to be set on a copy of a slice from a DataFrame.\n",
            "Try using .loc[row_indexer,col_indexer] = value instead\n",
            "\n",
            "See the caveats in the documentation: https://pandas.pydata.org/pandas-docs/stable/user_guide/indexing.html#returning-a-view-versus-a-copy\n",
            "  \"\"\"\n",
            "/usr/local/lib/python3.6/dist-packages/ipykernel_launcher.py:9: SettingWithCopyWarning: \n",
            "A value is trying to be set on a copy of a slice from a DataFrame.\n",
            "Try using .loc[row_indexer,col_indexer] = value instead\n",
            "\n",
            "See the caveats in the documentation: https://pandas.pydata.org/pandas-docs/stable/user_guide/indexing.html#returning-a-view-versus-a-copy\n",
            "  if __name__ == '__main__':\n"
          ],
          "name": "stderr"
        }
      ]
    },
    {
      "cell_type": "code",
      "metadata": {
        "id": "agsbHO5FF0Ty",
        "colab_type": "code",
        "outputId": "cb8d2372-4477-43b2-c779-5f1423289c38",
        "colab": {
          "base_uri": "https://localhost:8080/",
          "height": 272
        }
      },
      "source": [
        "train.head()"
      ],
      "execution_count": 34,
      "outputs": [
        {
          "output_type": "execute_result",
          "data": {
            "text/html": [
              "<div>\n",
              "<style scoped>\n",
              "    .dataframe tbody tr th:only-of-type {\n",
              "        vertical-align: middle;\n",
              "    }\n",
              "\n",
              "    .dataframe tbody tr th {\n",
              "        vertical-align: top;\n",
              "    }\n",
              "\n",
              "    .dataframe thead th {\n",
              "        text-align: right;\n",
              "    }\n",
              "</style>\n",
              "<table border=\"1\" class=\"dataframe\">\n",
              "  <thead>\n",
              "    <tr style=\"text-align: right;\">\n",
              "      <th></th>\n",
              "      <th>harga</th>\n",
              "      <th>merek</th>\n",
              "      <th>model</th>\n",
              "      <th>tahun</th>\n",
              "      <th>jarak_tempuh</th>\n",
              "      <th>tipe_bahan_bakar</th>\n",
              "      <th>warna</th>\n",
              "      <th>transmisi</th>\n",
              "      <th>kapasitas_mesin</th>\n",
              "      <th>tipe_penjual</th>\n",
              "      <th>sistem_penggerak</th>\n",
              "      <th>kota</th>\n",
              "    </tr>\n",
              "  </thead>\n",
              "  <tbody>\n",
              "    <tr>\n",
              "      <th>8139</th>\n",
              "      <td>91.0</td>\n",
              "      <td>Honda</td>\n",
              "      <td>City</td>\n",
              "      <td>2008</td>\n",
              "      <td>0.508475</td>\n",
              "      <td>Bensin</td>\n",
              "      <td>Hitam</td>\n",
              "      <td>Manual</td>\n",
              "      <td>0.25</td>\n",
              "      <td>Diler</td>\n",
              "      <td>4X2</td>\n",
              "      <td>Malang Kota</td>\n",
              "    </tr>\n",
              "    <tr>\n",
              "      <th>9610</th>\n",
              "      <td>288.0</td>\n",
              "      <td>BMW</td>\n",
              "      <td>X1</td>\n",
              "      <td>2019</td>\n",
              "      <td>0.000000</td>\n",
              "      <td>Bensin</td>\n",
              "      <td>Putih</td>\n",
              "      <td>Automatic Triptonic</td>\n",
              "      <td>0.25</td>\n",
              "      <td>Diler</td>\n",
              "      <td>Front Wheel Drive (FWD)</td>\n",
              "      <td>Tangerang Kota</td>\n",
              "    </tr>\n",
              "    <tr>\n",
              "      <th>5706</th>\n",
              "      <td>360.0</td>\n",
              "      <td>Mercedes-Benz</td>\n",
              "      <td>C-Class</td>\n",
              "      <td>2014</td>\n",
              "      <td>0.067797</td>\n",
              "      <td>Bensin</td>\n",
              "      <td>Hitam</td>\n",
              "      <td>Automatic Triptonic</td>\n",
              "      <td>0.50</td>\n",
              "      <td>Individu</td>\n",
              "      <td>Rear Wheel Drive (RWD)</td>\n",
              "      <td>Tangerang Kota</td>\n",
              "    </tr>\n",
              "    <tr>\n",
              "      <th>7733</th>\n",
              "      <td>127.5</td>\n",
              "      <td>Ford</td>\n",
              "      <td>Fiesta</td>\n",
              "      <td>2013</td>\n",
              "      <td>0.203390</td>\n",
              "      <td>Bensin</td>\n",
              "      <td>Merah</td>\n",
              "      <td>Automatic Triptonic</td>\n",
              "      <td>0.25</td>\n",
              "      <td>Individu</td>\n",
              "      <td>Front Wheel Drive (FWD)</td>\n",
              "      <td>Bandung Kota</td>\n",
              "    </tr>\n",
              "    <tr>\n",
              "      <th>2526</th>\n",
              "      <td>65.0</td>\n",
              "      <td>Mercedes-Benz</td>\n",
              "      <td>Tiger</td>\n",
              "      <td>&lt;1986</td>\n",
              "      <td>1.000000</td>\n",
              "      <td>Bensin</td>\n",
              "      <td>Abu-abu</td>\n",
              "      <td>Manual</td>\n",
              "      <td>1.00</td>\n",
              "      <td>Individu</td>\n",
              "      <td>Rear Wheel Drive (RWD)</td>\n",
              "      <td>Jakarta Barat</td>\n",
              "    </tr>\n",
              "  </tbody>\n",
              "</table>\n",
              "</div>"
            ],
            "text/plain": [
              "      harga          merek  ...         sistem_penggerak            kota\n",
              "8139   91.0          Honda  ...                      4X2     Malang Kota\n",
              "9610  288.0            BMW  ...  Front Wheel Drive (FWD)  Tangerang Kota\n",
              "5706  360.0  Mercedes-Benz  ...   Rear Wheel Drive (RWD)  Tangerang Kota\n",
              "7733  127.5           Ford  ...  Front Wheel Drive (FWD)    Bandung Kota\n",
              "2526   65.0  Mercedes-Benz  ...   Rear Wheel Drive (RWD)   Jakarta Barat\n",
              "\n",
              "[5 rows x 12 columns]"
            ]
          },
          "metadata": {
            "tags": []
          },
          "execution_count": 34
        }
      ]
    },
    {
      "cell_type": "code",
      "metadata": {
        "id": "Iz4jSTAjF3wK",
        "colab_type": "code",
        "outputId": "aa9c53d4-f0a1-4a14-9678-48cf2f718307",
        "colab": {
          "base_uri": "https://localhost:8080/",
          "height": 204
        }
      },
      "source": [
        "#from sklearn.preprocessing import LabelEncoder\n",
        "\n",
        "#le = LabelEncoder()\n",
        "#train['tipe_penjual'] = le.fit_transform(train['tipe_penjual'])\n",
        "#test['tipe_penjual'] = le.fit_transform(test['tipe_penjual'])\n",
        "\n",
        "# Set 1986 as minimum value in column 'Tahun'\n",
        "train['tahun'].replace('<1986', 1986, inplace=True)\n",
        "test['tahun'].replace('<1986', 1986, inplace=True)\n",
        "\n",
        "# Scaling column 'Tahun'\n",
        "train['tahun'] = minmax_scale(train['tahun'])\n",
        "test['tahun'] = minmax_scale(test['tahun'])"
      ],
      "execution_count": 35,
      "outputs": [
        {
          "output_type": "stream",
          "text": [
            "/usr/local/lib/python3.6/dist-packages/pandas/core/generic.py:6746: SettingWithCopyWarning: \n",
            "A value is trying to be set on a copy of a slice from a DataFrame\n",
            "\n",
            "See the caveats in the documentation: https://pandas.pydata.org/pandas-docs/stable/user_guide/indexing.html#returning-a-view-versus-a-copy\n",
            "  self._update_inplace(new_data)\n",
            "/usr/local/lib/python3.6/dist-packages/ipykernel_launcher.py:6: SettingWithCopyWarning: \n",
            "A value is trying to be set on a copy of a slice from a DataFrame.\n",
            "Try using .loc[row_indexer,col_indexer] = value instead\n",
            "\n",
            "See the caveats in the documentation: https://pandas.pydata.org/pandas-docs/stable/user_guide/indexing.html#returning-a-view-versus-a-copy\n",
            "  \n"
          ],
          "name": "stderr"
        }
      ]
    },
    {
      "cell_type": "code",
      "metadata": {
        "id": "zsEl2_2mH2Xl",
        "colab_type": "code",
        "outputId": "59f366a5-5c99-4823-e37b-0610c2f436aa",
        "colab": {
          "base_uri": "https://localhost:8080/",
          "height": 85
        }
      },
      "source": [
        "train.columns"
      ],
      "execution_count": 36,
      "outputs": [
        {
          "output_type": "execute_result",
          "data": {
            "text/plain": [
              "Index(['harga', 'merek', 'model', 'tahun', 'jarak_tempuh', 'tipe_bahan_bakar',\n",
              "       'warna', 'transmisi', 'kapasitas_mesin', 'tipe_penjual',\n",
              "       'sistem_penggerak', 'kota'],\n",
              "      dtype='object')"
            ]
          },
          "metadata": {
            "tags": []
          },
          "execution_count": 36
        }
      ]
    },
    {
      "cell_type": "code",
      "metadata": {
        "id": "33wFHYRSg9TD",
        "colab_type": "code",
        "outputId": "dfc8079d-4d24-4e99-c25b-c1a85ee8d367",
        "colab": {
          "base_uri": "https://localhost:8080/",
          "height": 272
        }
      },
      "source": [
        "train.head()"
      ],
      "execution_count": 37,
      "outputs": [
        {
          "output_type": "execute_result",
          "data": {
            "text/html": [
              "<div>\n",
              "<style scoped>\n",
              "    .dataframe tbody tr th:only-of-type {\n",
              "        vertical-align: middle;\n",
              "    }\n",
              "\n",
              "    .dataframe tbody tr th {\n",
              "        vertical-align: top;\n",
              "    }\n",
              "\n",
              "    .dataframe thead th {\n",
              "        text-align: right;\n",
              "    }\n",
              "</style>\n",
              "<table border=\"1\" class=\"dataframe\">\n",
              "  <thead>\n",
              "    <tr style=\"text-align: right;\">\n",
              "      <th></th>\n",
              "      <th>harga</th>\n",
              "      <th>merek</th>\n",
              "      <th>model</th>\n",
              "      <th>tahun</th>\n",
              "      <th>jarak_tempuh</th>\n",
              "      <th>tipe_bahan_bakar</th>\n",
              "      <th>warna</th>\n",
              "      <th>transmisi</th>\n",
              "      <th>kapasitas_mesin</th>\n",
              "      <th>tipe_penjual</th>\n",
              "      <th>sistem_penggerak</th>\n",
              "      <th>kota</th>\n",
              "    </tr>\n",
              "  </thead>\n",
              "  <tbody>\n",
              "    <tr>\n",
              "      <th>8139</th>\n",
              "      <td>91.0</td>\n",
              "      <td>Honda</td>\n",
              "      <td>City</td>\n",
              "      <td>0.666667</td>\n",
              "      <td>0.508475</td>\n",
              "      <td>Bensin</td>\n",
              "      <td>Hitam</td>\n",
              "      <td>Manual</td>\n",
              "      <td>0.25</td>\n",
              "      <td>Diler</td>\n",
              "      <td>4X2</td>\n",
              "      <td>Malang Kota</td>\n",
              "    </tr>\n",
              "    <tr>\n",
              "      <th>9610</th>\n",
              "      <td>288.0</td>\n",
              "      <td>BMW</td>\n",
              "      <td>X1</td>\n",
              "      <td>1.000000</td>\n",
              "      <td>0.000000</td>\n",
              "      <td>Bensin</td>\n",
              "      <td>Putih</td>\n",
              "      <td>Automatic Triptonic</td>\n",
              "      <td>0.25</td>\n",
              "      <td>Diler</td>\n",
              "      <td>Front Wheel Drive (FWD)</td>\n",
              "      <td>Tangerang Kota</td>\n",
              "    </tr>\n",
              "    <tr>\n",
              "      <th>5706</th>\n",
              "      <td>360.0</td>\n",
              "      <td>Mercedes-Benz</td>\n",
              "      <td>C-Class</td>\n",
              "      <td>0.848485</td>\n",
              "      <td>0.067797</td>\n",
              "      <td>Bensin</td>\n",
              "      <td>Hitam</td>\n",
              "      <td>Automatic Triptonic</td>\n",
              "      <td>0.50</td>\n",
              "      <td>Individu</td>\n",
              "      <td>Rear Wheel Drive (RWD)</td>\n",
              "      <td>Tangerang Kota</td>\n",
              "    </tr>\n",
              "    <tr>\n",
              "      <th>7733</th>\n",
              "      <td>127.5</td>\n",
              "      <td>Ford</td>\n",
              "      <td>Fiesta</td>\n",
              "      <td>0.818182</td>\n",
              "      <td>0.203390</td>\n",
              "      <td>Bensin</td>\n",
              "      <td>Merah</td>\n",
              "      <td>Automatic Triptonic</td>\n",
              "      <td>0.25</td>\n",
              "      <td>Individu</td>\n",
              "      <td>Front Wheel Drive (FWD)</td>\n",
              "      <td>Bandung Kota</td>\n",
              "    </tr>\n",
              "    <tr>\n",
              "      <th>2526</th>\n",
              "      <td>65.0</td>\n",
              "      <td>Mercedes-Benz</td>\n",
              "      <td>Tiger</td>\n",
              "      <td>0.000000</td>\n",
              "      <td>1.000000</td>\n",
              "      <td>Bensin</td>\n",
              "      <td>Abu-abu</td>\n",
              "      <td>Manual</td>\n",
              "      <td>1.00</td>\n",
              "      <td>Individu</td>\n",
              "      <td>Rear Wheel Drive (RWD)</td>\n",
              "      <td>Jakarta Barat</td>\n",
              "    </tr>\n",
              "  </tbody>\n",
              "</table>\n",
              "</div>"
            ],
            "text/plain": [
              "      harga          merek  ...         sistem_penggerak            kota\n",
              "8139   91.0          Honda  ...                      4X2     Malang Kota\n",
              "9610  288.0            BMW  ...  Front Wheel Drive (FWD)  Tangerang Kota\n",
              "5706  360.0  Mercedes-Benz  ...   Rear Wheel Drive (RWD)  Tangerang Kota\n",
              "7733  127.5           Ford  ...  Front Wheel Drive (FWD)    Bandung Kota\n",
              "2526   65.0  Mercedes-Benz  ...   Rear Wheel Drive (RWD)   Jakarta Barat\n",
              "\n",
              "[5 rows x 12 columns]"
            ]
          },
          "metadata": {
            "tags": []
          },
          "execution_count": 37
        }
      ]
    },
    {
      "cell_type": "code",
      "metadata": {
        "id": "vhJyiFleHolb",
        "colab_type": "code",
        "colab": {}
      },
      "source": [
        "# Create an empty list that will eventually hold all feature columns.\n",
        "feature_columns = []\n",
        "\n",
        "# Create a numerical feature column to represent latitude.\n",
        "tahun = tf.feature_column.numeric_column(\"tahun\")\n",
        "feature_columns.append(tahun)\n",
        "\n",
        "# Create a numerical feature column to represent jarak tempuh.\n",
        "jarak_tempuh = tf.feature_column.numeric_column(\"jarak_tempuh\")\n",
        "feature_columns.append(jarak_tempuh)\n",
        "\n",
        "# Create a numerical feature column to represent kapasitas mesin.\n",
        "kapasitas_mesin = tf.feature_column.numeric_column(\"kapasitas_mesin\")\n",
        "feature_columns.append(kapasitas_mesin)"
      ],
      "execution_count": 0,
      "outputs": []
    },
    {
      "cell_type": "code",
      "metadata": {
        "id": "UQwIwZ_CQFqO",
        "colab_type": "code",
        "outputId": "c4bb1c54-9560-4c25-d1e9-ca1254a0a01c",
        "colab": {
          "base_uri": "https://localhost:8080/",
          "height": 187
        }
      },
      "source": [
        "df['merek'].unique()"
      ],
      "execution_count": 39,
      "outputs": [
        {
          "output_type": "execute_result",
          "data": {
            "text/plain": [
              "array(['BMW', 'Hyundai', 'Isuzu', 'Proton', 'Mercedes-Benz', 'KIA',\n",
              "       'Smart', 'Mitsubishi', 'Mazda', 'Chery', 'Volkswagen', 'Toyota',\n",
              "       'Peugeot', 'Lexus', 'Audi', 'Honda', 'Nissan', 'Jeep', 'Suzuki',\n",
              "       'Daihatsu', 'Citroen', 'Datsun', 'Geely', 'Dodge', 'Mini Cooper',\n",
              "       'Chevrolet', 'Jaguar', 'Fiat', 'Land Rover', 'Ford', 'Volvo',\n",
              "       'Hino', 'Porsche', 'Wuling', 'Holden', 'Klasik dan Antik',\n",
              "       'Lain-lain', 'Renault', 'Timor', 'Maserati', 'Cadillac', 'Subaru',\n",
              "       'Tata', 'Aston Martin', 'Opel', 'Chrysler', 'Infiniti',\n",
              "       'Mobil CBU', 'Foton', 'Ssang Yong', 'Daewoo',\n",
              "       'DFSK (Dongfeng Sokon)', 'Hummer'], dtype=object)"
            ]
          },
          "metadata": {
            "tags": []
          },
          "execution_count": 39
        }
      ]
    },
    {
      "cell_type": "code",
      "metadata": {
        "id": "YQ83GFGnPpYr",
        "colab_type": "code",
        "colab": {}
      },
      "source": [
        "# Create a categorical feature column to represent merek.\n",
        "merek = feature_column.categorical_column_with_vocabulary_list(\n",
        "      'merek', df['merek'].unique())\n",
        "merek_one_hot = feature_column.indicator_column(merek)\n",
        "feature_columns.append(merek_one_hot)\n",
        "\n",
        "# Create a categorical feature column to represent model.\n",
        "model = feature_column.categorical_column_with_vocabulary_list(\n",
        "        'model', df['model'].unique())\n",
        "model_one_hot = feature_column.indicator_column(model)\n",
        "feature_columns.append(model_one_hot)\n",
        "\n",
        "# Create a categorical feature column to represent tipe bahan bakar.\n",
        "tipebahanbakar = feature_column.categorical_column_with_vocabulary_list(\n",
        "                 'tipe_bahan_bakar', df['tipe_bahan_bakar'].unique())\n",
        "tipebahanbakar_one_hot = feature_column.indicator_column(tipebahanbakar)\n",
        "feature_columns.append(tipebahanbakar_one_hot)\n",
        "\n",
        "# Create a categorical feature column to represent warna.\n",
        "warna = feature_column.categorical_column_with_vocabulary_list(\n",
        "        'warna', df['warna'].unique())\n",
        "warna_one_hot = feature_column.indicator_column(warna)\n",
        "feature_columns.append(warna_one_hot)\n",
        "\n",
        "# Create a categorical feature column to represent transmisi.\n",
        "transmisi = feature_column.categorical_column_with_vocabulary_list(\n",
        "            'transmisi', df['transmisi'].unique())\n",
        "transmisi_one_hot = feature_column.indicator_column(transmisi)\n",
        "feature_columns.append(transmisi_one_hot)\n",
        "\n",
        "# Create a categorical feature column to represent tipe penjual.\n",
        "tipepenjual = feature_column.categorical_column_with_vocabulary_list(\n",
        "              'tipe_penjual', df['tipe_penjual'].unique())\n",
        "tipepenjual_one_hot = feature_column.indicator_column(tipepenjual)\n",
        "feature_columns.append(tipepenjual_one_hot)\n",
        "\n",
        "# Create a categorical feature column to represent sistem penggerak.\n",
        "sistempenggerak = feature_column.categorical_column_with_vocabulary_list(\n",
        "                  'sistem_penggerak', df['sistem_penggerak'].unique())\n",
        "sistempenggerak_one_hot = feature_column.indicator_column(sistempenggerak)\n",
        "feature_columns.append(sistempenggerak_one_hot)\n",
        "\n",
        "# Create a categorical feature column to represent kota/kab.\n",
        "kota = feature_column.categorical_column_with_vocabulary_list(\n",
        "       'kota', df['kota'].unique())\n",
        "kota_one_hot = feature_column.indicator_column(kota)\n",
        "feature_columns.append(kota_one_hot)"
      ],
      "execution_count": 0,
      "outputs": []
    },
    {
      "cell_type": "code",
      "metadata": {
        "id": "ooKRBfT9Q2QJ",
        "colab_type": "code",
        "outputId": "058c2e4a-f4c1-4ffb-db32-41a3114876ca",
        "colab": {
          "base_uri": "https://localhost:8080/",
          "height": 224
        }
      },
      "source": [
        "feature_columns"
      ],
      "execution_count": 41,
      "outputs": [
        {
          "output_type": "execute_result",
          "data": {
            "text/plain": [
              "[NumericColumn(key='tahun', shape=(1,), default_value=None, dtype=tf.float32, normalizer_fn=None),\n",
              " NumericColumn(key='jarak_tempuh', shape=(1,), default_value=None, dtype=tf.float32, normalizer_fn=None),\n",
              " NumericColumn(key='kapasitas_mesin', shape=(1,), default_value=None, dtype=tf.float32, normalizer_fn=None),\n",
              " IndicatorColumn(categorical_column=VocabularyListCategoricalColumn(key='merek', vocabulary_list=('BMW', 'Hyundai', 'Isuzu', 'Proton', 'Mercedes-Benz', 'KIA', 'Smart', 'Mitsubishi', 'Mazda', 'Chery', 'Volkswagen', 'Toyota', 'Peugeot', 'Lexus', 'Audi', 'Honda', 'Nissan', 'Jeep', 'Suzuki', 'Daihatsu', 'Citroen', 'Datsun', 'Geely', 'Dodge', 'Mini Cooper', 'Chevrolet', 'Jaguar', 'Fiat', 'Land Rover', 'Ford', 'Volvo', 'Hino', 'Porsche', 'Wuling', 'Holden', 'Klasik dan Antik', 'Lain-lain', 'Renault', 'Timor', 'Maserati', 'Cadillac', 'Subaru', 'Tata', 'Aston Martin', 'Opel', 'Chrysler', 'Infiniti', 'Mobil CBU', 'Foton', 'Ssang Yong', 'Daewoo', 'DFSK (Dongfeng Sokon)', 'Hummer'), dtype=tf.string, default_value=-1, num_oov_buckets=0)),\n",
              " IndicatorColumn(categorical_column=VocabularyListCategoricalColumn(key='model', vocabulary_list=('Serie 3', 'Getz', 'Grand touring', 'Lain-lain', 'SLK', 'S-Class', 'Picanto', 'Fortwo', 'Pajero Sport', 'Biante', 'Caravelle', '206', 'RX', 'C-Class', 'Audi A3', 'Freed', 'E-Class', '405', 'Panther', 'Rush', 'Accent', 'Lancer Evolution', 'Soluna', 'Innova', 'Polo', 'X-Trail', 'RX-8', 'Jeep', 'CR-V', 'Jazz', 'Ertiga', 'Sigra', '8', 'Grand livina', 'BX', 'Cross', '430', 'Gran max', 'Wagon R', 'Avega', 'HR-V', 'Go+', 'Terios', 'Panda', '2', 'Sorento', 'Mini Cooper', 'Xenia', 'Serena', 'Carry', 'Xpander', 'CX-5', 'Captiva', 'XJ', 'X1', 'Abart', 'Go', 'Trax', 'Aveo', 'Teana', 'Discovery Sport', 'Spin', 'Orlando', 'Terrano', 'Rubicon', 'Triton', 'Rio', '120', 'Astina', 'Ranger', 'APV', 'V70', '306', 'Fiesta', 'Everest', 'Vantrend', 'Corolla', 'Brio', 'XC90', 'Elf Minibus', 'New QQ', 'Escudo', 'Cakra', 'Mobilio', 'Cayenne', 'Confero S', 'Colt', 'Serie 5', 'Agya', 'Verna', 'Carry Pick-up', 'Carens II', 'Ecosport', 'CJ7', 'Colt 77 PS', 'A-Class', 'Serie 4', 'Boxster', 'H-1', 'Kijang', 'Grand Cherokee', 'Fortuner', 'Range Rover Evoque', 'S90', 'Mirage', 'Santa Fe', 'Exora', 'Audi A8', 'Klasik dan Antik', 'SX4', 'Gran max Pick-up', '406', 'GLA-Class', 'Strada Triton', 'Gemini', 'Espass', 'Splash', 'Spark', 'Lancer', 'New Tucson', 'Audi A4', 'Livina', 'Avanza', 'Starlet', 'New Panther', 'Optra', 'Excel', 'M Series', 'Ayla', 'Pajero', 'Trajet', 'Zebra', 'Sportage', 'Taruna', '6', 'Beetle', 'Megane', 'DOHC', 'Latio', 'Corolla Altis', 'Focus', 'Visto', 'Elgrand', 'Escape', 'Karimun', 'Calya', 'Safari', 'laser', 'Familia', 'Baleno next-G', 'Dutro', 'Savvy', 'QQ', 'Vios', 'Grand vitara', 'Grand Avega', 'Yaris', '307', 'Wrangler ', 'Ghibli', 'Baleno', 'CX-7', 'i10', 'CLS-Class', 'Outlander', 'CLA-Class', 'D-Max', 'L300', 'Taft', 'Odyssey', 'X5', 'March', 'Serie 7', 'Gen2', 'Juke', 'Katana', 'Voxy', 'Golf', 'Blazer', 'Escalade', 'Jimny', 'LX', 'Sienta', 'CX-3', 'Scirocco', 'Estate', 'Travello', 'E2000', 'City', 'Ignis', 'Camry', 'Delica', 'Alphard', 'Eterna', 'Kuda', 'X6', 'Carnival', 'Feroza', 'Colorado', 'i20', '5', '323', 'S515i', 'ML-Class', 'Lainnya', 'Trooper', 'XV', 'Tiguan', 'MPV', 'Swift', 'Accord', 'GLE-Class', 'MK', 'Vellfire', 'X3', '911', 'Lynx', 'Matrix', 'Cherokee', 'Xenon', 'Rio 5 Door', 'Etios Valco', 'Charade', 'T120SS', 'Evalia', 'CX-9', 'E-Pace', 'Kalos', 'Karimun estillo', 'Super Ace', 'Elantra', 'Audi A5', 'DB11', 'BR-V', 'Galant', 'Navara', '3', 'S60', 'Atoz', 'Journey', 'S-Type', 'Pregio', 'Audi Q3', 'Kijang Pick-Up', 'Serie 6', 'Touareg', 'Grandis', '500', 'Kwid', 'LS', 'i8', 'Renegade', 'Panda Cross', 'Trailblazer', 'Civic', 'Range Rover Sport', 'B-Class', 'Cortez', 'Premier', 'Willys', 'HIJET', '960', 'Clio', 'S80', 'Luxio', 'Q', 'MK 2', 'Pride', 'BT-50', '626', 'Sirion', 'Mobil CBU Lainnya', 'SOHC', 'MU-X', 'Audi A6', '300', 'Foton', 'Ferio', 'Genio', 'Sidekick', 'X-type', 'GLC-Class', 'Saga', 'Hardtop', 'Harrier', 'Lantis', 'Rexton', 'Carens I', 'Free Lander', 'Etios', 'Sahara', 'Wira', 'Carry Van', 'Vectra', 'Tiggo', 'Zafira', 'Audi Q7', 'Maestro', 'Uno', 'Aerio', 'MR-90', 'Altis', 'Optima', 'WRX STi', 'Stream', 'ES', 'Tiger', 'Forester', 'NX', 'Prestige', 'CR-Z', 'Espero', 'R-Class', 'XF', 'IS', 'Scenic', 'RAV4', 'Audi TT', 'S70', 'Range rover', 'Super Cab', 'Montera', 'Touran', 'Cayman', 'FL235 JN', 'Cruze', 'Mustang', 'GL-Class', 'CLS', 'Ace', '620', 'H-100', 'H3', 'Combi', 'Outback', 'Sonata', '408', 'Impreza', 'G-Class', 'Neo Baleno', 'Succed', 'Amenity', '207', 'Defender', 'Limo', '505', 'Tribute', '308', 'ML 350', 'QX', 'X4', 'Futura', 'Z4', 'Winner', 'MX', 'Viano', '407', 'Discovery', 'SLK-Class', 'Legacy', 'Sedona', 'L200', 'Musso', 'GS', 'SL', 'ist', 'Voltz', 'Gransport', 'M-Class', 'BRZ', 'R260', 'Shuma', 'Serie 2', 'Koleos', 'Land Cruiser', '125', 'Satria', '807', 'Audi Q5', 'Escort', 'Neo Zebra', 'Rocky', 'Esteem', 'Nav1', '3008', 'CLK', 'FX', 'LC', 'Grand escudo', 'Telstar', 'Skyline', 'Coupe', 'Kodok', 'Baby Boomer', 'H2', 'Maven', 'Forsa', 'Neo', 'Matiz', 'Nexia', 'Rapide', 'Tavera', 'PT CRUISER', 'Fairlady', 'Strada', 'Audi S5', 'CJ-5', 'SLS AMG', 'Glory 580', 'Spider', 'Ceria', 'Estilo', 'C30', 'Gala', 'HILUX', 'ES300', 'RCZ', 'Corona', 'HI Ace', 'S40', 'Kangoo', 'Classy', 'Exiga', 'V-Class', 'CLS 350', 'Sentra', 'F-Type', 'Serie 1', 'Punto', '806', 'Bighorn', 'Vista', 'Belmont', 'CLC-Class', 'Allroad', 'GLS-Class'), dtype=tf.string, default_value=-1, num_oov_buckets=0)),\n",
              " IndicatorColumn(categorical_column=VocabularyListCategoricalColumn(key='tipe_bahan_bakar', vocabulary_list=('Bensin', 'Diesel', 'Hybrid', 'Listrik'), dtype=tf.string, default_value=-1, num_oov_buckets=0)),\n",
              " IndicatorColumn(categorical_column=VocabularyListCategoricalColumn(key='warna', vocabulary_list=('Hitam', 'Biru', 'Coklat', 'Oranye', 'Silver', 'Abu-abu', 'Putih', 'Merah', 'Hijau', 'Marun', 'Ungu', 'Lainnya', 'Kuning', 'Emas'), dtype=tf.string, default_value=-1, num_oov_buckets=0)),\n",
              " IndicatorColumn(categorical_column=VocabularyListCategoricalColumn(key='transmisi', vocabulary_list=('Automatic', 'Manual', 'Automatic Triptonic'), dtype=tf.string, default_value=-1, num_oov_buckets=0)),\n",
              " IndicatorColumn(categorical_column=VocabularyListCategoricalColumn(key='tipe_penjual', vocabulary_list=('Individu', 'Diler'), dtype=tf.string, default_value=-1, num_oov_buckets=0)),\n",
              " IndicatorColumn(categorical_column=VocabularyListCategoricalColumn(key='sistem_penggerak', vocabulary_list=('Rear Wheel Drive (RWD)', 'Front Wheel Drive (FWD)', '4X2', 'All Wheel Drive (AWD)', '4X4'), dtype=tf.string, default_value=-1, num_oov_buckets=0)),\n",
              " IndicatorColumn(categorical_column=VocabularyListCategoricalColumn(key='kota', vocabulary_list=('Semarang Kota', 'Medan Kota', 'Madiun Kab.', 'Jakarta Pusat', 'Tangerang Selatan Kota', 'Jakarta Utara', 'Bekasi Kota', 'Surabaya Kota', 'Cirebon Kota', 'Kudus Kab.', 'Bandung Kota', 'Jakarta Selatan', 'Magelang Kab.', 'Tangerang Kota', 'Depok Kota', 'Payakumbuh Kota', 'Malang Kota', 'Palembang Kota', 'Bandar Lampung Kota', 'Sidoarjo  Kab.', 'Batam Kota', 'Tangerang Kab.', 'Cimahi Kota', 'Pekanbaru Kota', 'Padang Kota', 'Jakarta Timur', 'Yogyakarta Kota', 'Surakarta Kota', 'Bandung Kab.', 'Jakarta Barat', 'Gowa Kab.', 'Banjar Kab.', 'Balikpapan Kota', 'Kubu Raya Kab.', 'Makassar Kota', 'Jambi Kota', 'Boyolali Kab.', 'Bangka Selatan Kab.', 'Katingan Kab.', 'Malang Kab.', 'Banjarbaru Kota', 'Bekasi Kab.', 'Karanganyar Kab.', 'Denpasar Kota', 'Cilacap Kab.', 'Pinrang Kab.', 'Kediri Kota', 'Probolinggo Kab.', 'Bogor Kab.', 'Bogor Kota', 'Palangkaraya Kota', 'Tasikmalaya Kota', 'Samarinda Kota', 'Kab. Badung', 'Kediri  Kab.', 'Bantul Kab.', 'Kampar Kab.', 'Lima Puluh Kota Kab.', 'Banjarmasin Kota', 'Serang Kota', 'Sukoharjo Kab.', 'Banyumas Kab.', 'Mataram Kota', 'Pati Kab.', 'Pematangsiantar Kota', 'Jepara Kab.', 'Kendal Kab.', 'Brebes Kab.', 'Demak Kab.', 'Temanggung Kab.', 'Serang Kab.', 'Cirebon Kab.', 'Pontianak Kota', 'Bandung Barat Kab.', 'Tabanan Kab.', 'Sragen Kab.', 'Gianyar Kab.', 'Aceh Barat Kab.', 'Semarang Kab.', 'Sleman Kab.', 'Lamongan  Kab.', 'Tegal Kota', 'Cianjur Kab.', 'Solok Selatan Kab.', 'Kebumen Kab.', 'Pringsewu Kab.', 'Bireuen Kab.', 'Banyuwangi  Kab.', 'Wonogiri Kab.', 'Karawang Kab.', 'Pandeglang Kab.', 'Gresik Kab.', 'Bukittinggi Kota', 'Magetan Kab.', 'Wonosobo Kab.', 'Jember Kab.', 'Pesisir Selatan Kab.', 'Klaten Kab.', 'Barito Kuala Kab.', 'Purwakarta Kab.', 'Banda Aceh Kota', 'Tasikmalaya Kab.', 'Purbalingga Kab.', 'Lhokseumawe Kota', 'Tanah Laut Kab.', 'Lumajang Kab.', 'Kab. Pangandaran', 'Padang Pariaman Kab.', 'Pare-Pare Kota', 'Jombang  Kab.', 'Mojokerto Kota', 'Mojokerto Kab.', 'Pamekasan Kab.', 'Tuban Kab.', 'Magelang Kota', 'Kulon Progo Kab.', 'Probolinggo Kota', 'Sukabumi Kab.', 'Pasuruan Kota', 'Pekalongan Kab.', 'Batang Kab.', 'Trenggalek Kab.', 'Binjai Kota', 'Palu Kota', 'Langkat Kab.', 'Blitar Kota', 'Grobogan Kab.', 'Salatiga Kota', 'Buleleng Kab.', 'Labuhanbatu Selatan Kab.', 'Situbondo Kab.', 'Serdang Bedagai Kab.', 'Kepulauan Seribu', 'Pasuruan Kab.', 'Aceh Besar Kab.', 'Ngawi Kab.', 'Blitar Kab.', 'Hulu Sungai Selatan Kab.', 'Ponorogo Kab.', 'Lampung Tengah Kab.', 'Banjarnegara Kab.', 'Aceh Tamiang Kab.', 'Jembrana Kab.', 'Garut Kab.', 'Tulang Bawang Barat Kab.', 'Lampung Selatan Kab.', 'Bangkalan  Kab.', 'Bontang Kota', 'Rejang Lebong Kab.', 'Gunung Kidul Kab.', 'Nganjuk Kab.', 'Maros Kab.', 'Bengkalis Kab.', 'Purworejo Kab.', 'Batubara Kab.', 'Padang Panjang Kota', 'Tabalong Kab.', 'Wajo Kab.', 'Tulungagung Kab.', 'Metro Kota', 'Bengkulu Kota', 'Cilegon Kota', 'Deli Serdang Kab.', 'Tanah Datar Kab.', 'Mandailing Natal Kab.', 'Pidie Kab.', 'Sukabumi Kota', 'Manado Kota', 'Sampang Kab.', 'Musi Banyuasin Kab.', 'Kab. Bangli', 'Madiun Kota', 'Pekalongan Kota', 'Karangasem Kab.', 'Kendari Kota', 'Lombok Tengah Kab.', 'Bone Bolango Kab.', 'Bojonegoro Kab.', 'Lombok Timur Kab.', 'Sumedang Kab.', 'Langsa Kota', 'Subang Kab.', 'Labuhanbatu Kab.', 'Lampung Utara Kab.', 'Tapin  Kab.', 'Padang Lawas Kab.', 'Ogan Komering Ilir Kab.', 'Ogan Ilir Kab.', 'Blora Kab.', 'Agam Kab.', 'Bengkulu Utara Kab.', 'Batu Kota', 'Pemalang Kab.', 'Mukomuko Kab.', 'Kutai Timur Kab.', 'Banyuasin Kab.', 'Lombok Barat Kab.', 'Majalengka Kab.', 'Bondowoso Kab.', 'Aceh Tengah Kab.', 'Ciamis Kab.', 'Sanggau Kab.', 'Indragiri Hulu Kab.', 'Sijunjung Kab.', 'Karo Kab.', 'Dumai Kota', 'Kuningan Kab.', 'Tanggamus Kab.', 'Solok Kab.', 'Kepahiang Kab.', 'Kotawaringin Barat Kab.', 'Muara Enim Kab.', 'Aceh Utara Kab.', 'Pelalawan Kab.', 'Tegal Kab.', 'Rokan Hilir Kab.', 'Klungkung Kab.', 'Sinjai Kab.', 'Lahat Kab.', 'Soppeng Kab.', 'Gayo Lues Kab.', 'Sawahlunto Kota', 'Pasaman Barat Kab.', 'Murung Raya Kab.', 'Rembang Kab.', 'Sumba Barat Daya Kab.', 'Kapuas Kab.', 'Aceh Selatan Kab.', 'Lampung Timur Kab.', 'Lubuklinggau Kota', 'Jayapura Kota', 'Sumenep Kab.', 'Indragiri Hilir Kab.', 'Sungai Penuh Kota', 'Tulang Bawang Kab.', 'Indramayu Kab.', 'Kuantan Singingi Kab.', 'Tebing Tinggi Kota', 'Simalungun Kab.', 'Pariaman Kota', 'Jenepronto Kab.', 'Tanah Bumbu Kab.', 'Nagan Raya Kab.', 'Muaro Jambi Kab.', 'Solok Kota', 'Pasaman Kab.', 'Kutai Kartanegara Kab.', 'Padang Sidempuan Kota', 'Bangka Tengah Kab.', 'Ambon Kota', 'Prabumulih Kota', 'Pesawaran Kab.', 'Jayapura Kab.', 'Kupang Kota', 'Balanngan Kab.', 'Sambas Kab.', 'Empat Lawang Kab.', 'Bone Kab.', 'Pacitan Kab.'), dtype=tf.string, default_value=-1, num_oov_buckets=0))]"
            ]
          },
          "metadata": {
            "tags": []
          },
          "execution_count": 41
        }
      ]
    },
    {
      "cell_type": "code",
      "metadata": {
        "id": "vHs0RZinVwqE",
        "colab_type": "code",
        "colab": {}
      },
      "source": [
        "# Convert the list of feature columns into a layer that will later be fed into\n",
        "# the model. \n",
        "my_feature_layer = tf.keras.layers.DenseFeatures(feature_columns)"
      ],
      "execution_count": 0,
      "outputs": []
    },
    {
      "cell_type": "code",
      "metadata": {
        "id": "Dd4Y13vgX7nh",
        "colab_type": "code",
        "outputId": "89c548a8-344e-4d96-df10-bc24c262a090",
        "colab": {
          "base_uri": "https://localhost:8080/",
          "height": 85
        }
      },
      "source": [
        "train.columns"
      ],
      "execution_count": 43,
      "outputs": [
        {
          "output_type": "execute_result",
          "data": {
            "text/plain": [
              "Index(['harga', 'merek', 'model', 'tahun', 'jarak_tempuh', 'tipe_bahan_bakar',\n",
              "       'warna', 'transmisi', 'kapasitas_mesin', 'tipe_penjual',\n",
              "       'sistem_penggerak', 'kota'],\n",
              "      dtype='object')"
            ]
          },
          "metadata": {
            "tags": []
          },
          "execution_count": 43
        }
      ]
    },
    {
      "cell_type": "code",
      "metadata": {
        "id": "7joAGRM-fLGL",
        "colab_type": "code",
        "outputId": "64f2a52d-89ff-4d89-fda2-d43f39f8192f",
        "colab": {
          "base_uri": "https://localhost:8080/",
          "height": 224
        }
      },
      "source": [
        "feature_columns"
      ],
      "execution_count": 44,
      "outputs": [
        {
          "output_type": "execute_result",
          "data": {
            "text/plain": [
              "[NumericColumn(key='tahun', shape=(1,), default_value=None, dtype=tf.float32, normalizer_fn=None),\n",
              " NumericColumn(key='jarak_tempuh', shape=(1,), default_value=None, dtype=tf.float32, normalizer_fn=None),\n",
              " NumericColumn(key='kapasitas_mesin', shape=(1,), default_value=None, dtype=tf.float32, normalizer_fn=None),\n",
              " IndicatorColumn(categorical_column=VocabularyListCategoricalColumn(key='merek', vocabulary_list=('BMW', 'Hyundai', 'Isuzu', 'Proton', 'Mercedes-Benz', 'KIA', 'Smart', 'Mitsubishi', 'Mazda', 'Chery', 'Volkswagen', 'Toyota', 'Peugeot', 'Lexus', 'Audi', 'Honda', 'Nissan', 'Jeep', 'Suzuki', 'Daihatsu', 'Citroen', 'Datsun', 'Geely', 'Dodge', 'Mini Cooper', 'Chevrolet', 'Jaguar', 'Fiat', 'Land Rover', 'Ford', 'Volvo', 'Hino', 'Porsche', 'Wuling', 'Holden', 'Klasik dan Antik', 'Lain-lain', 'Renault', 'Timor', 'Maserati', 'Cadillac', 'Subaru', 'Tata', 'Aston Martin', 'Opel', 'Chrysler', 'Infiniti', 'Mobil CBU', 'Foton', 'Ssang Yong', 'Daewoo', 'DFSK (Dongfeng Sokon)', 'Hummer'), dtype=tf.string, default_value=-1, num_oov_buckets=0)),\n",
              " IndicatorColumn(categorical_column=VocabularyListCategoricalColumn(key='model', vocabulary_list=('Serie 3', 'Getz', 'Grand touring', 'Lain-lain', 'SLK', 'S-Class', 'Picanto', 'Fortwo', 'Pajero Sport', 'Biante', 'Caravelle', '206', 'RX', 'C-Class', 'Audi A3', 'Freed', 'E-Class', '405', 'Panther', 'Rush', 'Accent', 'Lancer Evolution', 'Soluna', 'Innova', 'Polo', 'X-Trail', 'RX-8', 'Jeep', 'CR-V', 'Jazz', 'Ertiga', 'Sigra', '8', 'Grand livina', 'BX', 'Cross', '430', 'Gran max', 'Wagon R', 'Avega', 'HR-V', 'Go+', 'Terios', 'Panda', '2', 'Sorento', 'Mini Cooper', 'Xenia', 'Serena', 'Carry', 'Xpander', 'CX-5', 'Captiva', 'XJ', 'X1', 'Abart', 'Go', 'Trax', 'Aveo', 'Teana', 'Discovery Sport', 'Spin', 'Orlando', 'Terrano', 'Rubicon', 'Triton', 'Rio', '120', 'Astina', 'Ranger', 'APV', 'V70', '306', 'Fiesta', 'Everest', 'Vantrend', 'Corolla', 'Brio', 'XC90', 'Elf Minibus', 'New QQ', 'Escudo', 'Cakra', 'Mobilio', 'Cayenne', 'Confero S', 'Colt', 'Serie 5', 'Agya', 'Verna', 'Carry Pick-up', 'Carens II', 'Ecosport', 'CJ7', 'Colt 77 PS', 'A-Class', 'Serie 4', 'Boxster', 'H-1', 'Kijang', 'Grand Cherokee', 'Fortuner', 'Range Rover Evoque', 'S90', 'Mirage', 'Santa Fe', 'Exora', 'Audi A8', 'Klasik dan Antik', 'SX4', 'Gran max Pick-up', '406', 'GLA-Class', 'Strada Triton', 'Gemini', 'Espass', 'Splash', 'Spark', 'Lancer', 'New Tucson', 'Audi A4', 'Livina', 'Avanza', 'Starlet', 'New Panther', 'Optra', 'Excel', 'M Series', 'Ayla', 'Pajero', 'Trajet', 'Zebra', 'Sportage', 'Taruna', '6', 'Beetle', 'Megane', 'DOHC', 'Latio', 'Corolla Altis', 'Focus', 'Visto', 'Elgrand', 'Escape', 'Karimun', 'Calya', 'Safari', 'laser', 'Familia', 'Baleno next-G', 'Dutro', 'Savvy', 'QQ', 'Vios', 'Grand vitara', 'Grand Avega', 'Yaris', '307', 'Wrangler ', 'Ghibli', 'Baleno', 'CX-7', 'i10', 'CLS-Class', 'Outlander', 'CLA-Class', 'D-Max', 'L300', 'Taft', 'Odyssey', 'X5', 'March', 'Serie 7', 'Gen2', 'Juke', 'Katana', 'Voxy', 'Golf', 'Blazer', 'Escalade', 'Jimny', 'LX', 'Sienta', 'CX-3', 'Scirocco', 'Estate', 'Travello', 'E2000', 'City', 'Ignis', 'Camry', 'Delica', 'Alphard', 'Eterna', 'Kuda', 'X6', 'Carnival', 'Feroza', 'Colorado', 'i20', '5', '323', 'S515i', 'ML-Class', 'Lainnya', 'Trooper', 'XV', 'Tiguan', 'MPV', 'Swift', 'Accord', 'GLE-Class', 'MK', 'Vellfire', 'X3', '911', 'Lynx', 'Matrix', 'Cherokee', 'Xenon', 'Rio 5 Door', 'Etios Valco', 'Charade', 'T120SS', 'Evalia', 'CX-9', 'E-Pace', 'Kalos', 'Karimun estillo', 'Super Ace', 'Elantra', 'Audi A5', 'DB11', 'BR-V', 'Galant', 'Navara', '3', 'S60', 'Atoz', 'Journey', 'S-Type', 'Pregio', 'Audi Q3', 'Kijang Pick-Up', 'Serie 6', 'Touareg', 'Grandis', '500', 'Kwid', 'LS', 'i8', 'Renegade', 'Panda Cross', 'Trailblazer', 'Civic', 'Range Rover Sport', 'B-Class', 'Cortez', 'Premier', 'Willys', 'HIJET', '960', 'Clio', 'S80', 'Luxio', 'Q', 'MK 2', 'Pride', 'BT-50', '626', 'Sirion', 'Mobil CBU Lainnya', 'SOHC', 'MU-X', 'Audi A6', '300', 'Foton', 'Ferio', 'Genio', 'Sidekick', 'X-type', 'GLC-Class', 'Saga', 'Hardtop', 'Harrier', 'Lantis', 'Rexton', 'Carens I', 'Free Lander', 'Etios', 'Sahara', 'Wira', 'Carry Van', 'Vectra', 'Tiggo', 'Zafira', 'Audi Q7', 'Maestro', 'Uno', 'Aerio', 'MR-90', 'Altis', 'Optima', 'WRX STi', 'Stream', 'ES', 'Tiger', 'Forester', 'NX', 'Prestige', 'CR-Z', 'Espero', 'R-Class', 'XF', 'IS', 'Scenic', 'RAV4', 'Audi TT', 'S70', 'Range rover', 'Super Cab', 'Montera', 'Touran', 'Cayman', 'FL235 JN', 'Cruze', 'Mustang', 'GL-Class', 'CLS', 'Ace', '620', 'H-100', 'H3', 'Combi', 'Outback', 'Sonata', '408', 'Impreza', 'G-Class', 'Neo Baleno', 'Succed', 'Amenity', '207', 'Defender', 'Limo', '505', 'Tribute', '308', 'ML 350', 'QX', 'X4', 'Futura', 'Z4', 'Winner', 'MX', 'Viano', '407', 'Discovery', 'SLK-Class', 'Legacy', 'Sedona', 'L200', 'Musso', 'GS', 'SL', 'ist', 'Voltz', 'Gransport', 'M-Class', 'BRZ', 'R260', 'Shuma', 'Serie 2', 'Koleos', 'Land Cruiser', '125', 'Satria', '807', 'Audi Q5', 'Escort', 'Neo Zebra', 'Rocky', 'Esteem', 'Nav1', '3008', 'CLK', 'FX', 'LC', 'Grand escudo', 'Telstar', 'Skyline', 'Coupe', 'Kodok', 'Baby Boomer', 'H2', 'Maven', 'Forsa', 'Neo', 'Matiz', 'Nexia', 'Rapide', 'Tavera', 'PT CRUISER', 'Fairlady', 'Strada', 'Audi S5', 'CJ-5', 'SLS AMG', 'Glory 580', 'Spider', 'Ceria', 'Estilo', 'C30', 'Gala', 'HILUX', 'ES300', 'RCZ', 'Corona', 'HI Ace', 'S40', 'Kangoo', 'Classy', 'Exiga', 'V-Class', 'CLS 350', 'Sentra', 'F-Type', 'Serie 1', 'Punto', '806', 'Bighorn', 'Vista', 'Belmont', 'CLC-Class', 'Allroad', 'GLS-Class'), dtype=tf.string, default_value=-1, num_oov_buckets=0)),\n",
              " IndicatorColumn(categorical_column=VocabularyListCategoricalColumn(key='tipe_bahan_bakar', vocabulary_list=('Bensin', 'Diesel', 'Hybrid', 'Listrik'), dtype=tf.string, default_value=-1, num_oov_buckets=0)),\n",
              " IndicatorColumn(categorical_column=VocabularyListCategoricalColumn(key='warna', vocabulary_list=('Hitam', 'Biru', 'Coklat', 'Oranye', 'Silver', 'Abu-abu', 'Putih', 'Merah', 'Hijau', 'Marun', 'Ungu', 'Lainnya', 'Kuning', 'Emas'), dtype=tf.string, default_value=-1, num_oov_buckets=0)),\n",
              " IndicatorColumn(categorical_column=VocabularyListCategoricalColumn(key='transmisi', vocabulary_list=('Automatic', 'Manual', 'Automatic Triptonic'), dtype=tf.string, default_value=-1, num_oov_buckets=0)),\n",
              " IndicatorColumn(categorical_column=VocabularyListCategoricalColumn(key='tipe_penjual', vocabulary_list=('Individu', 'Diler'), dtype=tf.string, default_value=-1, num_oov_buckets=0)),\n",
              " IndicatorColumn(categorical_column=VocabularyListCategoricalColumn(key='sistem_penggerak', vocabulary_list=('Rear Wheel Drive (RWD)', 'Front Wheel Drive (FWD)', '4X2', 'All Wheel Drive (AWD)', '4X4'), dtype=tf.string, default_value=-1, num_oov_buckets=0)),\n",
              " IndicatorColumn(categorical_column=VocabularyListCategoricalColumn(key='kota', vocabulary_list=('Semarang Kota', 'Medan Kota', 'Madiun Kab.', 'Jakarta Pusat', 'Tangerang Selatan Kota', 'Jakarta Utara', 'Bekasi Kota', 'Surabaya Kota', 'Cirebon Kota', 'Kudus Kab.', 'Bandung Kota', 'Jakarta Selatan', 'Magelang Kab.', 'Tangerang Kota', 'Depok Kota', 'Payakumbuh Kota', 'Malang Kota', 'Palembang Kota', 'Bandar Lampung Kota', 'Sidoarjo  Kab.', 'Batam Kota', 'Tangerang Kab.', 'Cimahi Kota', 'Pekanbaru Kota', 'Padang Kota', 'Jakarta Timur', 'Yogyakarta Kota', 'Surakarta Kota', 'Bandung Kab.', 'Jakarta Barat', 'Gowa Kab.', 'Banjar Kab.', 'Balikpapan Kota', 'Kubu Raya Kab.', 'Makassar Kota', 'Jambi Kota', 'Boyolali Kab.', 'Bangka Selatan Kab.', 'Katingan Kab.', 'Malang Kab.', 'Banjarbaru Kota', 'Bekasi Kab.', 'Karanganyar Kab.', 'Denpasar Kota', 'Cilacap Kab.', 'Pinrang Kab.', 'Kediri Kota', 'Probolinggo Kab.', 'Bogor Kab.', 'Bogor Kota', 'Palangkaraya Kota', 'Tasikmalaya Kota', 'Samarinda Kota', 'Kab. Badung', 'Kediri  Kab.', 'Bantul Kab.', 'Kampar Kab.', 'Lima Puluh Kota Kab.', 'Banjarmasin Kota', 'Serang Kota', 'Sukoharjo Kab.', 'Banyumas Kab.', 'Mataram Kota', 'Pati Kab.', 'Pematangsiantar Kota', 'Jepara Kab.', 'Kendal Kab.', 'Brebes Kab.', 'Demak Kab.', 'Temanggung Kab.', 'Serang Kab.', 'Cirebon Kab.', 'Pontianak Kota', 'Bandung Barat Kab.', 'Tabanan Kab.', 'Sragen Kab.', 'Gianyar Kab.', 'Aceh Barat Kab.', 'Semarang Kab.', 'Sleman Kab.', 'Lamongan  Kab.', 'Tegal Kota', 'Cianjur Kab.', 'Solok Selatan Kab.', 'Kebumen Kab.', 'Pringsewu Kab.', 'Bireuen Kab.', 'Banyuwangi  Kab.', 'Wonogiri Kab.', 'Karawang Kab.', 'Pandeglang Kab.', 'Gresik Kab.', 'Bukittinggi Kota', 'Magetan Kab.', 'Wonosobo Kab.', 'Jember Kab.', 'Pesisir Selatan Kab.', 'Klaten Kab.', 'Barito Kuala Kab.', 'Purwakarta Kab.', 'Banda Aceh Kota', 'Tasikmalaya Kab.', 'Purbalingga Kab.', 'Lhokseumawe Kota', 'Tanah Laut Kab.', 'Lumajang Kab.', 'Kab. Pangandaran', 'Padang Pariaman Kab.', 'Pare-Pare Kota', 'Jombang  Kab.', 'Mojokerto Kota', 'Mojokerto Kab.', 'Pamekasan Kab.', 'Tuban Kab.', 'Magelang Kota', 'Kulon Progo Kab.', 'Probolinggo Kota', 'Sukabumi Kab.', 'Pasuruan Kota', 'Pekalongan Kab.', 'Batang Kab.', 'Trenggalek Kab.', 'Binjai Kota', 'Palu Kota', 'Langkat Kab.', 'Blitar Kota', 'Grobogan Kab.', 'Salatiga Kota', 'Buleleng Kab.', 'Labuhanbatu Selatan Kab.', 'Situbondo Kab.', 'Serdang Bedagai Kab.', 'Kepulauan Seribu', 'Pasuruan Kab.', 'Aceh Besar Kab.', 'Ngawi Kab.', 'Blitar Kab.', 'Hulu Sungai Selatan Kab.', 'Ponorogo Kab.', 'Lampung Tengah Kab.', 'Banjarnegara Kab.', 'Aceh Tamiang Kab.', 'Jembrana Kab.', 'Garut Kab.', 'Tulang Bawang Barat Kab.', 'Lampung Selatan Kab.', 'Bangkalan  Kab.', 'Bontang Kota', 'Rejang Lebong Kab.', 'Gunung Kidul Kab.', 'Nganjuk Kab.', 'Maros Kab.', 'Bengkalis Kab.', 'Purworejo Kab.', 'Batubara Kab.', 'Padang Panjang Kota', 'Tabalong Kab.', 'Wajo Kab.', 'Tulungagung Kab.', 'Metro Kota', 'Bengkulu Kota', 'Cilegon Kota', 'Deli Serdang Kab.', 'Tanah Datar Kab.', 'Mandailing Natal Kab.', 'Pidie Kab.', 'Sukabumi Kota', 'Manado Kota', 'Sampang Kab.', 'Musi Banyuasin Kab.', 'Kab. Bangli', 'Madiun Kota', 'Pekalongan Kota', 'Karangasem Kab.', 'Kendari Kota', 'Lombok Tengah Kab.', 'Bone Bolango Kab.', 'Bojonegoro Kab.', 'Lombok Timur Kab.', 'Sumedang Kab.', 'Langsa Kota', 'Subang Kab.', 'Labuhanbatu Kab.', 'Lampung Utara Kab.', 'Tapin  Kab.', 'Padang Lawas Kab.', 'Ogan Komering Ilir Kab.', 'Ogan Ilir Kab.', 'Blora Kab.', 'Agam Kab.', 'Bengkulu Utara Kab.', 'Batu Kota', 'Pemalang Kab.', 'Mukomuko Kab.', 'Kutai Timur Kab.', 'Banyuasin Kab.', 'Lombok Barat Kab.', 'Majalengka Kab.', 'Bondowoso Kab.', 'Aceh Tengah Kab.', 'Ciamis Kab.', 'Sanggau Kab.', 'Indragiri Hulu Kab.', 'Sijunjung Kab.', 'Karo Kab.', 'Dumai Kota', 'Kuningan Kab.', 'Tanggamus Kab.', 'Solok Kab.', 'Kepahiang Kab.', 'Kotawaringin Barat Kab.', 'Muara Enim Kab.', 'Aceh Utara Kab.', 'Pelalawan Kab.', 'Tegal Kab.', 'Rokan Hilir Kab.', 'Klungkung Kab.', 'Sinjai Kab.', 'Lahat Kab.', 'Soppeng Kab.', 'Gayo Lues Kab.', 'Sawahlunto Kota', 'Pasaman Barat Kab.', 'Murung Raya Kab.', 'Rembang Kab.', 'Sumba Barat Daya Kab.', 'Kapuas Kab.', 'Aceh Selatan Kab.', 'Lampung Timur Kab.', 'Lubuklinggau Kota', 'Jayapura Kota', 'Sumenep Kab.', 'Indragiri Hilir Kab.', 'Sungai Penuh Kota', 'Tulang Bawang Kab.', 'Indramayu Kab.', 'Kuantan Singingi Kab.', 'Tebing Tinggi Kota', 'Simalungun Kab.', 'Pariaman Kota', 'Jenepronto Kab.', 'Tanah Bumbu Kab.', 'Nagan Raya Kab.', 'Muaro Jambi Kab.', 'Solok Kota', 'Pasaman Kab.', 'Kutai Kartanegara Kab.', 'Padang Sidempuan Kota', 'Bangka Tengah Kab.', 'Ambon Kota', 'Prabumulih Kota', 'Pesawaran Kab.', 'Jayapura Kab.', 'Kupang Kota', 'Balanngan Kab.', 'Sambas Kab.', 'Empat Lawang Kab.', 'Bone Kab.', 'Pacitan Kab.'), dtype=tf.string, default_value=-1, num_oov_buckets=0))]"
            ]
          },
          "metadata": {
            "tags": []
          },
          "execution_count": 44
        }
      ]
    },
    {
      "cell_type": "code",
      "metadata": {
        "id": "Si9rT6nnQ6RY",
        "colab_type": "code",
        "colab": {}
      },
      "source": [
        "# Define a deep neural net model\n",
        "\n",
        "def create_model(my_learning_rate, my_feature_layer):\n",
        "  \"\"\"Create and compile a simple linear regression model.\"\"\"\n",
        "  # Most simple tf.keras models are sequential.\n",
        "  model = tf.keras.models.Sequential()\n",
        "\n",
        "  # Add the layer containing the feature columns to the model.\n",
        "  model.add(my_feature_layer)\n",
        "\n",
        "  # Describe the topography of the model by calling the tf.keras.layers.Dense\n",
        "  # method once for each layer. We've specified the following arguments:\n",
        "  #   * units specifies the number of nodes in this layer.\n",
        "  #   * activation specifies the activation function (Rectified Linear Unit).\n",
        "  #   * name is just a string that can be useful when debugging.\n",
        "\n",
        "  # Define the first hidden layer with 20 nodes.   \n",
        "  model.add(tf.keras.layers.Dense(units=20, \n",
        "                                  activation='relu', \n",
        "                                  name='Hidden1'))\n",
        "  \n",
        "  # Define the second hidden layer with 12 nodes. \n",
        "  model.add(tf.keras.layers.Dense(units=12, \n",
        "                                  activation='relu', \n",
        "                                  name='Hidden2'))\n",
        "  \n",
        "  # Define the output layer.\n",
        "  model.add(tf.keras.layers.Dense(units=1,  \n",
        "                                  name='Output'))                              \n",
        "  \n",
        "  model.compile(optimizer=tf.keras.optimizers.Adam(lr=my_learning_rate),\n",
        "                loss=\"mean_squared_error\",\n",
        "                metrics=[tf.keras.metrics.MeanSquaredError()])\n",
        "\n",
        "  return model"
      ],
      "execution_count": 0,
      "outputs": []
    },
    {
      "cell_type": "code",
      "metadata": {
        "id": "7lsNud-3UmnG",
        "colab_type": "code",
        "colab": {}
      },
      "source": [
        "# Define a training function\n",
        "\n",
        "def train_model(model, dataset, epochs, label_name,\n",
        "                batch_size=None):\n",
        "  \"\"\"Train the model by feeding it data.\"\"\"\n",
        "\n",
        "  # Split the dataset into features and label.\n",
        "  features = {name:np.array(value) for name, value in dataset.items()}\n",
        "  label = np.array(features.pop(label_name))\n",
        "  history = model.fit(x=features, y=label, batch_size=batch_size,\n",
        "                      epochs=epochs, shuffle=True) \n",
        "\n",
        "  # The list of epochs is stored separately from the rest of history.\n",
        "  epochs = history.epoch\n",
        "  \n",
        "  # To track the progression of training, gather a snapshot\n",
        "  # of the model's mean squared error at each epoch. \n",
        "  hist = pd.DataFrame(history.history)\n",
        "  mse = hist[\"mean_squared_error\"]\n",
        "\n",
        "  return epochs, mse"
      ],
      "execution_count": 0,
      "outputs": []
    },
    {
      "cell_type": "code",
      "metadata": {
        "id": "Ik_GaWkXE-0Q",
        "colab_type": "code",
        "colab": {
          "base_uri": "https://localhost:8080/",
          "height": 34
        },
        "outputId": "ee19515f-1b9c-4cb6-f36a-d3fd0581608a"
      },
      "source": [
        "# Define the plotting function.\n",
        "\n",
        "def plot_the_loss_curve(epochs, mse):\n",
        "  \"\"\"Plot a curve of loss vs. epoch.\"\"\"\n",
        "\n",
        "  plt.figure()\n",
        "  plt.xlabel(\"Epoch\")\n",
        "  plt.ylabel(\"Mean Squared Error\")\n",
        "\n",
        "  plt.plot(epochs, mse, label=\"Loss\")\n",
        "  plt.legend()\n",
        "  plt.ylim([mse.min()*0.95, mse.max() * 1.03])\n",
        "  plt.show()  \n",
        "\n",
        "print(\"Defined the plot_the_loss_curve function.\")"
      ],
      "execution_count": 49,
      "outputs": [
        {
          "output_type": "stream",
          "text": [
            "Defined the plot_the_loss_curve function.\n"
          ],
          "name": "stdout"
        }
      ]
    },
    {
      "cell_type": "code",
      "metadata": {
        "id": "7YfT3yOdaAhr",
        "colab_type": "code",
        "outputId": "803cd625-b923-42f6-9049-033e6381b4b8",
        "colab": {
          "base_uri": "https://localhost:8080/",
          "height": 272
        }
      },
      "source": [
        "train.head()"
      ],
      "execution_count": 47,
      "outputs": [
        {
          "output_type": "execute_result",
          "data": {
            "text/html": [
              "<div>\n",
              "<style scoped>\n",
              "    .dataframe tbody tr th:only-of-type {\n",
              "        vertical-align: middle;\n",
              "    }\n",
              "\n",
              "    .dataframe tbody tr th {\n",
              "        vertical-align: top;\n",
              "    }\n",
              "\n",
              "    .dataframe thead th {\n",
              "        text-align: right;\n",
              "    }\n",
              "</style>\n",
              "<table border=\"1\" class=\"dataframe\">\n",
              "  <thead>\n",
              "    <tr style=\"text-align: right;\">\n",
              "      <th></th>\n",
              "      <th>harga</th>\n",
              "      <th>merek</th>\n",
              "      <th>model</th>\n",
              "      <th>tahun</th>\n",
              "      <th>jarak_tempuh</th>\n",
              "      <th>tipe_bahan_bakar</th>\n",
              "      <th>warna</th>\n",
              "      <th>transmisi</th>\n",
              "      <th>kapasitas_mesin</th>\n",
              "      <th>tipe_penjual</th>\n",
              "      <th>sistem_penggerak</th>\n",
              "      <th>kota</th>\n",
              "    </tr>\n",
              "  </thead>\n",
              "  <tbody>\n",
              "    <tr>\n",
              "      <th>8139</th>\n",
              "      <td>91.0</td>\n",
              "      <td>Honda</td>\n",
              "      <td>City</td>\n",
              "      <td>0.666667</td>\n",
              "      <td>0.508475</td>\n",
              "      <td>Bensin</td>\n",
              "      <td>Hitam</td>\n",
              "      <td>Manual</td>\n",
              "      <td>0.25</td>\n",
              "      <td>Diler</td>\n",
              "      <td>4X2</td>\n",
              "      <td>Malang Kota</td>\n",
              "    </tr>\n",
              "    <tr>\n",
              "      <th>9610</th>\n",
              "      <td>288.0</td>\n",
              "      <td>BMW</td>\n",
              "      <td>X1</td>\n",
              "      <td>1.000000</td>\n",
              "      <td>0.000000</td>\n",
              "      <td>Bensin</td>\n",
              "      <td>Putih</td>\n",
              "      <td>Automatic Triptonic</td>\n",
              "      <td>0.25</td>\n",
              "      <td>Diler</td>\n",
              "      <td>Front Wheel Drive (FWD)</td>\n",
              "      <td>Tangerang Kota</td>\n",
              "    </tr>\n",
              "    <tr>\n",
              "      <th>5706</th>\n",
              "      <td>360.0</td>\n",
              "      <td>Mercedes-Benz</td>\n",
              "      <td>C-Class</td>\n",
              "      <td>0.848485</td>\n",
              "      <td>0.067797</td>\n",
              "      <td>Bensin</td>\n",
              "      <td>Hitam</td>\n",
              "      <td>Automatic Triptonic</td>\n",
              "      <td>0.50</td>\n",
              "      <td>Individu</td>\n",
              "      <td>Rear Wheel Drive (RWD)</td>\n",
              "      <td>Tangerang Kota</td>\n",
              "    </tr>\n",
              "    <tr>\n",
              "      <th>7733</th>\n",
              "      <td>127.5</td>\n",
              "      <td>Ford</td>\n",
              "      <td>Fiesta</td>\n",
              "      <td>0.818182</td>\n",
              "      <td>0.203390</td>\n",
              "      <td>Bensin</td>\n",
              "      <td>Merah</td>\n",
              "      <td>Automatic Triptonic</td>\n",
              "      <td>0.25</td>\n",
              "      <td>Individu</td>\n",
              "      <td>Front Wheel Drive (FWD)</td>\n",
              "      <td>Bandung Kota</td>\n",
              "    </tr>\n",
              "    <tr>\n",
              "      <th>2526</th>\n",
              "      <td>65.0</td>\n",
              "      <td>Mercedes-Benz</td>\n",
              "      <td>Tiger</td>\n",
              "      <td>0.000000</td>\n",
              "      <td>1.000000</td>\n",
              "      <td>Bensin</td>\n",
              "      <td>Abu-abu</td>\n",
              "      <td>Manual</td>\n",
              "      <td>1.00</td>\n",
              "      <td>Individu</td>\n",
              "      <td>Rear Wheel Drive (RWD)</td>\n",
              "      <td>Jakarta Barat</td>\n",
              "    </tr>\n",
              "  </tbody>\n",
              "</table>\n",
              "</div>"
            ],
            "text/plain": [
              "      harga          merek  ...         sistem_penggerak            kota\n",
              "8139   91.0          Honda  ...                      4X2     Malang Kota\n",
              "9610  288.0            BMW  ...  Front Wheel Drive (FWD)  Tangerang Kota\n",
              "5706  360.0  Mercedes-Benz  ...   Rear Wheel Drive (RWD)  Tangerang Kota\n",
              "7733  127.5           Ford  ...  Front Wheel Drive (FWD)    Bandung Kota\n",
              "2526   65.0  Mercedes-Benz  ...   Rear Wheel Drive (RWD)   Jakarta Barat\n",
              "\n",
              "[5 rows x 12 columns]"
            ]
          },
          "metadata": {
            "tags": []
          },
          "execution_count": 47
        }
      ]
    },
    {
      "cell_type": "code",
      "metadata": {
        "id": "osHlcERHVaKG",
        "colab_type": "code",
        "outputId": "ac7e043f-7fbf-4321-d4cd-1956b6cda00e",
        "colab": {
          "base_uri": "https://localhost:8080/",
          "height": 1000
        }
      },
      "source": [
        "# Call the functions to build and train a deep neural net\n",
        "\n",
        "# The following variables are the hyperparameters.\n",
        "learning_rate = 0.001\n",
        "epochs = 100\n",
        "batch_size = 10\n",
        "\n",
        "# Specify the label\n",
        "label_name = \"harga\"\n",
        "\n",
        "# Establish the model's topography.\n",
        "my_model = create_model(learning_rate, my_feature_layer)\n",
        "\n",
        "# Train the model on the normalized training set. We're passing the entire\n",
        "# normalized training set, but the model will only use the features\n",
        "# defined by the feature_layer.\n",
        "epochs, mse = train_model(my_model, train, epochs, \n",
        "                          label_name, batch_size)\n",
        "plot_the_loss_curve(epochs, mse)\n",
        "\n",
        "# After building a model against the training set, test that model\n",
        "# against the test set.\n",
        "test_features = {name:np.array(value) for name, value in test.items()}\n",
        "test_label = np.array(test_features.pop(label_name)) # isolate the label\n",
        "print(\"\\n Evaluate the new model against the test set:\")\n",
        "my_model.evaluate(x = test_features, y = test_label, batch_size=batch_size)"
      ],
      "execution_count": 52,
      "outputs": [
        {
          "output_type": "stream",
          "text": [
            "Epoch 1/100\n",
            "993/993 [==============================] - 2s 2ms/step - loss: 50237.4688 - mean_squared_error: 50102.5742\n",
            "Epoch 2/100\n",
            "993/993 [==============================] - 2s 2ms/step - loss: 25349.7480 - mean_squared_error: 25364.9102\n",
            "Epoch 3/100\n",
            "993/993 [==============================] - 2s 2ms/step - loss: 19794.2461 - mean_squared_error: 19804.5332\n",
            "Epoch 4/100\n",
            "993/993 [==============================] - 2s 2ms/step - loss: 16360.9150 - mean_squared_error: 16370.4248\n",
            "Epoch 5/100\n",
            "993/993 [==============================] - 2s 2ms/step - loss: 13733.5723 - mean_squared_error: 13741.1094\n",
            "Epoch 6/100\n",
            "993/993 [==============================] - 2s 2ms/step - loss: 11652.8799 - mean_squared_error: 11655.5586\n",
            "Epoch 7/100\n",
            "993/993 [==============================] - 2s 2ms/step - loss: 10163.3652 - mean_squared_error: 10167.2666\n",
            "Epoch 8/100\n",
            "993/993 [==============================] - 2s 2ms/step - loss: 9045.7832 - mean_squared_error: 9049.9941\n",
            "Epoch 9/100\n",
            "993/993 [==============================] - 2s 2ms/step - loss: 8198.8984 - mean_squared_error: 8203.2305\n",
            "Epoch 10/100\n",
            "993/993 [==============================] - 2s 2ms/step - loss: 7485.3721 - mean_squared_error: 7489.2300\n",
            "Epoch 11/100\n",
            "993/993 [==============================] - 2s 2ms/step - loss: 6929.9312 - mean_squared_error: 6932.3628\n",
            "Epoch 12/100\n",
            "993/993 [==============================] - 2s 2ms/step - loss: 6440.5903 - mean_squared_error: 6444.3032\n",
            "Epoch 13/100\n",
            "993/993 [==============================] - 2s 2ms/step - loss: 6038.4023 - mean_squared_error: 6040.6016\n",
            "Epoch 14/100\n",
            "993/993 [==============================] - 2s 2ms/step - loss: 5721.8511 - mean_squared_error: 5725.0420\n",
            "Epoch 15/100\n",
            "993/993 [==============================] - 2s 2ms/step - loss: 5457.2900 - mean_squared_error: 5460.5225\n",
            "Epoch 16/100\n",
            "993/993 [==============================] - 2s 2ms/step - loss: 5241.9155 - mean_squared_error: 5244.9565\n",
            "Epoch 17/100\n",
            "993/993 [==============================] - 2s 2ms/step - loss: 5048.7422 - mean_squared_error: 5051.6914\n",
            "Epoch 18/100\n",
            "993/993 [==============================] - 2s 2ms/step - loss: 4878.9165 - mean_squared_error: 4881.6523\n",
            "Epoch 19/100\n",
            "993/993 [==============================] - 2s 2ms/step - loss: 4735.6797 - mean_squared_error: 4731.6533\n",
            "Epoch 20/100\n",
            "993/993 [==============================] - 2s 2ms/step - loss: 4588.8115 - mean_squared_error: 4590.9658\n",
            "Epoch 21/100\n",
            "993/993 [==============================] - 2s 2ms/step - loss: 4483.7764 - mean_squared_error: 4486.3418\n",
            "Epoch 22/100\n",
            "993/993 [==============================] - 2s 2ms/step - loss: 4381.8936 - mean_squared_error: 4384.3960\n",
            "Epoch 23/100\n",
            "993/993 [==============================] - 2s 2ms/step - loss: 4284.2510 - mean_squared_error: 4285.6792\n",
            "Epoch 24/100\n",
            "993/993 [==============================] - 2s 2ms/step - loss: 4196.7695 - mean_squared_error: 4198.3311\n",
            "Epoch 25/100\n",
            "993/993 [==============================] - 2s 2ms/step - loss: 4096.1118 - mean_squared_error: 4096.5288\n",
            "Epoch 26/100\n",
            "993/993 [==============================] - 2s 2ms/step - loss: 4019.0251 - mean_squared_error: 4021.3809\n",
            "Epoch 27/100\n",
            "993/993 [==============================] - 2s 2ms/step - loss: 3950.3289 - mean_squared_error: 3952.6755\n",
            "Epoch 28/100\n",
            "993/993 [==============================] - 2s 2ms/step - loss: 3866.1599 - mean_squared_error: 3868.2515\n",
            "Epoch 29/100\n",
            "993/993 [==============================] - 2s 2ms/step - loss: 3794.7754 - mean_squared_error: 3795.6345\n",
            "Epoch 30/100\n",
            "993/993 [==============================] - 2s 2ms/step - loss: 3749.0542 - mean_squared_error: 3741.8953\n",
            "Epoch 31/100\n",
            "993/993 [==============================] - 2s 2ms/step - loss: 3673.1375 - mean_squared_error: 3675.2891\n",
            "Epoch 32/100\n",
            "993/993 [==============================] - 2s 2ms/step - loss: 3634.5505 - mean_squared_error: 3636.3596\n",
            "Epoch 33/100\n",
            "993/993 [==============================] - 2s 2ms/step - loss: 3552.4609 - mean_squared_error: 3554.4946\n",
            "Epoch 34/100\n",
            "993/993 [==============================] - 2s 2ms/step - loss: 3534.3213 - mean_squared_error: 3518.2991\n",
            "Epoch 35/100\n",
            "993/993 [==============================] - 2s 2ms/step - loss: 3460.5659 - mean_squared_error: 3462.5164\n",
            "Epoch 36/100\n",
            "993/993 [==============================] - 2s 2ms/step - loss: 3390.3914 - mean_squared_error: 3391.7671\n",
            "Epoch 37/100\n",
            "993/993 [==============================] - 2s 2ms/step - loss: 3362.8132 - mean_squared_error: 3364.6184\n",
            "Epoch 38/100\n",
            "993/993 [==============================] - 2s 2ms/step - loss: 3313.9480 - mean_squared_error: 3315.6375\n",
            "Epoch 39/100\n",
            "993/993 [==============================] - 2s 2ms/step - loss: 3265.1389 - mean_squared_error: 3261.6697\n",
            "Epoch 40/100\n",
            "993/993 [==============================] - 2s 2ms/step - loss: 3209.0195 - mean_squared_error: 3210.6782\n",
            "Epoch 41/100\n",
            "993/993 [==============================] - 2s 2ms/step - loss: 3184.6663 - mean_squared_error: 3181.3989\n",
            "Epoch 42/100\n",
            "993/993 [==============================] - 2s 2ms/step - loss: 3143.9248 - mean_squared_error: 3145.7893\n",
            "Epoch 43/100\n",
            "993/993 [==============================] - 2s 2ms/step - loss: 3104.4041 - mean_squared_error: 3106.1533\n",
            "Epoch 44/100\n",
            "993/993 [==============================] - 2s 2ms/step - loss: 3060.2495 - mean_squared_error: 3061.9934\n",
            "Epoch 45/100\n",
            "993/993 [==============================] - 2s 2ms/step - loss: 3031.4939 - mean_squared_error: 3033.1172\n",
            "Epoch 46/100\n",
            "993/993 [==============================] - 2s 2ms/step - loss: 2977.2053 - mean_squared_error: 2978.9500\n",
            "Epoch 47/100\n",
            "993/993 [==============================] - 2s 2ms/step - loss: 2977.1721 - mean_squared_error: 2978.1562\n",
            "Epoch 48/100\n",
            "993/993 [==============================] - 2s 2ms/step - loss: 2937.9788 - mean_squared_error: 2939.5483\n",
            "Epoch 49/100\n",
            "993/993 [==============================] - 2s 2ms/step - loss: 2890.9509 - mean_squared_error: 2892.3018\n",
            "Epoch 50/100\n",
            "993/993 [==============================] - 2s 2ms/step - loss: 2885.1597 - mean_squared_error: 2886.5476\n",
            "Epoch 51/100\n",
            "993/993 [==============================] - 2s 2ms/step - loss: 2848.0706 - mean_squared_error: 2849.2021\n",
            "Epoch 52/100\n",
            "993/993 [==============================] - 2s 2ms/step - loss: 2840.0205 - mean_squared_error: 2841.7302\n",
            "Epoch 53/100\n",
            "993/993 [==============================] - 2s 2ms/step - loss: 2795.7725 - mean_squared_error: 2797.3220\n",
            "Epoch 54/100\n",
            "993/993 [==============================] - 2s 2ms/step - loss: 2763.2607 - mean_squared_error: 2764.6538\n",
            "Epoch 55/100\n",
            "993/993 [==============================] - 2s 2ms/step - loss: 2739.2080 - mean_squared_error: 2740.7527\n",
            "Epoch 56/100\n",
            "993/993 [==============================] - 2s 2ms/step - loss: 2723.7773 - mean_squared_error: 2725.3816\n",
            "Epoch 57/100\n",
            "993/993 [==============================] - 2s 2ms/step - loss: 2691.6558 - mean_squared_error: 2693.0583\n",
            "Epoch 58/100\n",
            "993/993 [==============================] - 2s 2ms/step - loss: 2682.8391 - mean_squared_error: 2682.9348\n",
            "Epoch 59/100\n",
            "993/993 [==============================] - 2s 2ms/step - loss: 2654.1392 - mean_squared_error: 2655.5642\n",
            "Epoch 60/100\n",
            "993/993 [==============================] - 2s 2ms/step - loss: 2579.4158 - mean_squared_error: 2578.9546\n",
            "Epoch 61/100\n",
            "993/993 [==============================] - 2s 2ms/step - loss: 2642.7097 - mean_squared_error: 2632.1875\n",
            "Epoch 62/100\n",
            "993/993 [==============================] - 2s 2ms/step - loss: 2599.5183 - mean_squared_error: 2600.9729\n",
            "Epoch 63/100\n",
            "993/993 [==============================] - 2s 2ms/step - loss: 2592.4517 - mean_squared_error: 2590.5388\n",
            "Epoch 64/100\n",
            "993/993 [==============================] - 2s 2ms/step - loss: 2550.1311 - mean_squared_error: 2551.5820\n",
            "Epoch 65/100\n",
            "993/993 [==============================] - 2s 2ms/step - loss: 2537.4326 - mean_squared_error: 2538.8992\n",
            "Epoch 66/100\n",
            "993/993 [==============================] - 2s 2ms/step - loss: 2550.9946 - mean_squared_error: 2552.4409\n",
            "Epoch 67/100\n",
            "993/993 [==============================] - 2s 2ms/step - loss: 2500.0901 - mean_squared_error: 2497.2864\n",
            "Epoch 68/100\n",
            "993/993 [==============================] - 2s 2ms/step - loss: 2512.7388 - mean_squared_error: 2514.1035\n",
            "Epoch 69/100\n",
            "993/993 [==============================] - 2s 2ms/step - loss: 2471.8765 - mean_squared_error: 2473.3213\n",
            "Epoch 70/100\n",
            "993/993 [==============================] - 2s 2ms/step - loss: 2466.1372 - mean_squared_error: 2466.1157\n",
            "Epoch 71/100\n",
            "993/993 [==============================] - 2s 2ms/step - loss: 2420.2029 - mean_squared_error: 2421.5554\n",
            "Epoch 72/100\n",
            "993/993 [==============================] - 2s 2ms/step - loss: 2436.2549 - mean_squared_error: 2437.6899\n",
            "Epoch 73/100\n",
            "993/993 [==============================] - 2s 2ms/step - loss: 2411.9480 - mean_squared_error: 2413.3755\n",
            "Epoch 74/100\n",
            "993/993 [==============================] - 2s 2ms/step - loss: 2393.8921 - mean_squared_error: 2389.1479\n",
            "Epoch 75/100\n",
            "993/993 [==============================] - 2s 2ms/step - loss: 2389.4944 - mean_squared_error: 2390.6438\n",
            "Epoch 76/100\n",
            "993/993 [==============================] - 2s 2ms/step - loss: 2382.2063 - mean_squared_error: 2383.4260\n",
            "Epoch 77/100\n",
            "993/993 [==============================] - 2s 2ms/step - loss: 2376.2224 - mean_squared_error: 2377.4983\n",
            "Epoch 78/100\n",
            "993/993 [==============================] - 2s 2ms/step - loss: 2375.2183 - mean_squared_error: 2374.3469\n",
            "Epoch 79/100\n",
            "993/993 [==============================] - 2s 2ms/step - loss: 2339.7180 - mean_squared_error: 2340.9404\n",
            "Epoch 80/100\n",
            "993/993 [==============================] - 2s 2ms/step - loss: 2325.4036 - mean_squared_error: 2326.7256\n",
            "Epoch 81/100\n",
            "993/993 [==============================] - 2s 2ms/step - loss: 2322.2751 - mean_squared_error: 2322.3877\n",
            "Epoch 82/100\n",
            "993/993 [==============================] - 2s 2ms/step - loss: 2280.8657 - mean_squared_error: 2281.9189\n",
            "Epoch 83/100\n",
            "993/993 [==============================] - 2s 2ms/step - loss: 2288.0393 - mean_squared_error: 2289.2183\n",
            "Epoch 84/100\n",
            "993/993 [==============================] - 2s 2ms/step - loss: 2276.2930 - mean_squared_error: 2277.3379\n",
            "Epoch 85/100\n",
            "993/993 [==============================] - 2s 2ms/step - loss: 2272.7034 - mean_squared_error: 2263.2097\n",
            "Epoch 86/100\n",
            "993/993 [==============================] - 2s 2ms/step - loss: 2286.8728 - mean_squared_error: 2288.1306\n",
            "Epoch 87/100\n",
            "993/993 [==============================] - 2s 2ms/step - loss: 2250.2126 - mean_squared_error: 2251.4871\n",
            "Epoch 88/100\n",
            "993/993 [==============================] - 2s 2ms/step - loss: 2241.6406 - mean_squared_error: 2242.1501\n",
            "Epoch 89/100\n",
            "993/993 [==============================] - 2s 2ms/step - loss: 2231.7002 - mean_squared_error: 2232.8560\n",
            "Epoch 90/100\n",
            "993/993 [==============================] - 2s 2ms/step - loss: 2208.5222 - mean_squared_error: 2209.7869\n",
            "Epoch 91/100\n",
            "993/993 [==============================] - 2s 2ms/step - loss: 2219.0056 - mean_squared_error: 2219.1047\n",
            "Epoch 92/100\n",
            "993/993 [==============================] - 2s 2ms/step - loss: 2206.1899 - mean_squared_error: 2207.0793\n",
            "Epoch 93/100\n",
            "993/993 [==============================] - 2s 2ms/step - loss: 2220.4722 - mean_squared_error: 2217.1650\n",
            "Epoch 94/100\n",
            "993/993 [==============================] - 2s 2ms/step - loss: 2193.7947 - mean_squared_error: 2194.9751\n",
            "Epoch 95/100\n",
            "993/993 [==============================] - 2s 2ms/step - loss: 2183.7495 - mean_squared_error: 2184.6348\n",
            "Epoch 96/100\n",
            "993/993 [==============================] - 2s 2ms/step - loss: 2169.8562 - mean_squared_error: 2170.9609\n",
            "Epoch 97/100\n",
            "993/993 [==============================] - 2s 2ms/step - loss: 2138.1794 - mean_squared_error: 2139.4626\n",
            "Epoch 98/100\n",
            "993/993 [==============================] - 2s 2ms/step - loss: 2168.7185 - mean_squared_error: 2169.9363\n",
            "Epoch 99/100\n",
            "993/993 [==============================] - 2s 2ms/step - loss: 2167.0188 - mean_squared_error: 2168.1721\n",
            "Epoch 100/100\n",
            "993/993 [==============================] - 2s 2ms/step - loss: 2142.7300 - mean_squared_error: 2143.7114\n"
          ],
          "name": "stdout"
        },
        {
          "output_type": "display_data",
          "data": {
            "image/png": "[encoded data removed]",
            "text/plain": [
              "<Figure size 432x288 with 1 Axes>"
            ]
          },
          "metadata": {
            "tags": []
          }
        },
        {
          "output_type": "stream",
          "text": [
            "\n",
            " Evaluate the new model against the test set:\n",
            "249/249 [==============================] - 0s 1ms/step - loss: 5051.2773 - mean_squared_error: 5069.2500\n"
          ],
          "name": "stdout"
        },
        {
          "output_type": "execute_result",
          "data": {
            "text/plain": [
              "[5051.27734375, 5069.25]"
            ]
          },
          "metadata": {
            "tags": []
          },
          "execution_count": 52
        }
      ]
    },
    {
      "cell_type": "code",
      "metadata": {
        "id": "kQGouaseeFK1",
        "colab_type": "code",
        "outputId": "252543a6-a496-4527-8a50-49246a616141",
        "colab": {
          "base_uri": "https://localhost:8080/",
          "height": 221
        }
      },
      "source": [
        "train['harga']"
      ],
      "execution_count": 51,
      "outputs": [
        {
          "output_type": "execute_result",
          "data": {
            "text/plain": [
              "8139      91.0\n",
              "9610     288.0\n",
              "5706     360.0\n",
              "7733     127.5\n",
              "2526      65.0\n",
              "         ...  \n",
              "14220     98.0\n",
              "389       63.0\n",
              "8817     160.0\n",
              "8398      79.0\n",
              "2835      95.0\n",
              "Name: harga, Length: 9924, dtype: float64"
            ]
          },
          "metadata": {
            "tags": []
          },
          "execution_count": 51
        }
      ]
    },
    {
      "cell_type": "code",
      "metadata": {
        "id": "9vuIn_WNWPU6",
        "colab_type": "code",
        "colab": {}
      },
      "source": [
        ""
      ],
      "execution_count": 0,
      "outputs": []
    }
  ]
}